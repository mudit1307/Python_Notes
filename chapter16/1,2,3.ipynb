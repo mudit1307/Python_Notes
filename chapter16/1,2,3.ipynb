{
 "cells": [
  {
   "cell_type": "code",
   "execution_count": null,
   "metadata": {},
   "outputs": [],
   "source": [
    "#1\n",
    "# OOP's\n",
    "\n",
    "# class , object(instance) , method\n",
    "# everything in python is object"
   ]
  },
  {
   "cell_type": "code",
   "execution_count": 3,
   "metadata": {},
   "outputs": [
    {
     "name": "stdout",
     "output_type": "stream",
     "text": [
      "harshit\n",
      "abc\n"
     ]
    }
   ],
   "source": [
    "#2 \n",
    "# class -blueprint of object\n",
    "# init method - constructor\n",
    "class Person: \n",
    "    def __init__(self,first_name,last_name,age):\n",
    "        #instance variables\n",
    "        self.first_name=first_name\n",
    "        self.last_name=last_name\n",
    "        self.age=age\n",
    "    \n",
    "p1=Person('harshit','vashitha',23)\n",
    "p2=Person('mohit','abc',43)\n",
    "\n",
    "print(p1.first_name)\n",
    "print(p2.last_name)"
   ]
  },
  {
   "cell_type": "code",
   "execution_count": 5,
   "metadata": {},
   "outputs": [
    {
     "name": "stdout",
     "output_type": "stream",
     "text": [
      "constructor called\n",
      "constructor called\n",
      "harshit\n",
      "abc\n"
     ]
    }
   ],
   "source": [
    "class Person: \n",
    "    def __init__(Person_instance,first_name,last_name,age):\n",
    "        print(\"constructor called\")\n",
    "        #instance variables\n",
    "        Person_instance.first_name=first_name\n",
    "        Person_instance.last_name=last_name\n",
    "        Person_instance.age=age\n",
    "    \n",
    "p1=Person('harshit','vashitha',23)\n",
    "p2=Person('mohit','abc',43)\n",
    "\n",
    "print(p1.first_name)\n",
    "print(p2.last_name)"
   ]
  },
  {
   "cell_type": "code",
   "execution_count": null,
   "metadata": {},
   "outputs": [
    {
     "name": "stdout",
     "output_type": "stream",
     "text": [
      "harshit\n",
      "abc\n"
     ]
    }
   ],
   "source": [
    "# according to convention use self for first argument - object\n",
    "\n",
    "class Person: \n",
    "    def __init__(self,first_name,last_name,age):\n",
    "        self.person_first_name=first_name\n",
    "        self.last_name=last_name\n",
    "        self.age=age\n",
    "    \n",
    "p1=Person('harshit','vashitha',23)\n",
    "p2=Person('mohit','abc',43)\n",
    "\n",
    "print(p1.person_first_name)\n",
    "print(p2.last_name)"
   ]
  },
  {
   "cell_type": "code",
   "execution_count": null,
   "metadata": {},
   "outputs": [],
   "source": [
    "#3\n",
    "#instance method"
   ]
  },
  {
   "cell_type": "code",
   "execution_count": 1,
   "metadata": {},
   "outputs": [
    {
     "name": "stdout",
     "output_type": "stream",
     "text": [
      "[1, 2]\n"
     ]
    }
   ],
   "source": [
    "l=[1,2,3]\n",
    "l.pop()\n",
    "print(l)"
   ]
  },
  {
   "cell_type": "code",
   "execution_count": 2,
   "metadata": {},
   "outputs": [
    {
     "name": "stdout",
     "output_type": "stream",
     "text": [
      "harshit vashitha\n"
     ]
    }
   ],
   "source": [
    "class Person:\n",
    "    def __init__(self,first_name,last_name,age):\n",
    "        self.first_name=first_name\n",
    "        self.last_name=last_name\n",
    "        self.age=age\n",
    "    def full_name(self):\n",
    "        return f\"{self.first_name} {self.last_name}\"\n",
    "\n",
    "p1=Person(\"harshit\",\"vashitha\",24)\n",
    "\n",
    "print(p1.full_name())"
   ]
  },
  {
   "cell_type": "code",
   "execution_count": 3,
   "metadata": {},
   "outputs": [
    {
     "name": "stdout",
     "output_type": "stream",
     "text": [
      "harshit vashitha\n",
      "harshit vashitha\n"
     ]
    }
   ],
   "source": [
    "print(p1.full_name())\n",
    "\n",
    "#or \n",
    "\n",
    "print(Person.full_name(p1))\n",
    "\n"
   ]
  },
  {
   "cell_type": "code",
   "execution_count": 4,
   "metadata": {},
   "outputs": [
    {
     "name": "stdout",
     "output_type": "stream",
     "text": [
      "[]\n"
     ]
    }
   ],
   "source": [
    "l=[1,2,3]\n",
    "#l.clear()\n",
    "list.clear(l)\n",
    "\n",
    "print(l)"
   ]
  },
  {
   "cell_type": "code",
   "execution_count": 5,
   "metadata": {},
   "outputs": [
    {
     "name": "stdout",
     "output_type": "stream",
     "text": [
      "[1, 2, 3, 10]\n"
     ]
    }
   ],
   "source": [
    "l=[1,2,3]\n",
    "#l.append()\n",
    "\n",
    "list.append(l,10)\n",
    "print(l)"
   ]
  },
  {
   "cell_type": "code",
   "execution_count": 6,
   "metadata": {},
   "outputs": [
    {
     "name": "stdout",
     "output_type": "stream",
     "text": [
      "harshit vashitha\n",
      "True\n",
      "False\n"
     ]
    }
   ],
   "source": [
    "class Person:\n",
    "    def __init__(self,first_name,last_name,age):\n",
    "        self.first_name=first_name\n",
    "        self.last_name=last_name\n",
    "        self.age=age\n",
    "    def full_name(self):\n",
    "        return f\"{self.first_name} {self.last_name}\"\n",
    "    def is_above_18(self):\n",
    "        return self.age>18\n",
    "\n",
    "p1=Person(\"harshit\",\"vashitha\",24)\n",
    "p2=Person(\"harshit\",\"vashitha\",14)\n",
    "\n",
    "print(p1.full_name())\n",
    "print(p1.is_above_18())\n",
    "print(p2.is_above_18())"
   ]
  }
 ],
 "metadata": {
  "kernelspec": {
   "display_name": "Python 3.10.5 64-bit",
   "language": "python",
   "name": "python3"
  },
  "language_info": {
   "codemirror_mode": {
    "name": "ipython",
    "version": 3
   },
   "file_extension": ".py",
   "mimetype": "text/x-python",
   "name": "python",
   "nbconvert_exporter": "python",
   "pygments_lexer": "ipython3",
   "version": "3.10.0"
  },
  "orig_nbformat": 4,
  "vscode": {
   "interpreter": {
    "hash": "bbdb4b97aed41b82c12a1e891d9d884cd5c65204befe9df6e94a0a7f3a53eff4"
   }
  }
 },
 "nbformat": 4,
 "nbformat_minor": 2
}
