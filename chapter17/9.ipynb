{
 "cells": [
  {
   "cell_type": "code",
   "execution_count": null,
   "metadata": {},
   "outputs": [],
   "source": [
    "#9 "
   ]
  },
  {
   "cell_type": "code",
   "execution_count": null,
   "metadata": {},
   "outputs": [],
   "source": [
    "# python debugging"
   ]
  },
  {
   "cell_type": "code",
   "execution_count": 1,
   "metadata": {},
   "outputs": [
    {
     "name": "stdout",
     "output_type": "stream",
     "text": [
      "hello 2 your age is 2\n"
     ]
    },
    {
     "ename": "TypeError",
     "evalue": "can only concatenate str (not \"int\") to str",
     "output_type": "error",
     "traceback": [
      "\u001b[1;31m---------------------------------------------------------------------------\u001b[0m",
      "\u001b[1;31mTypeError\u001b[0m                                 Traceback (most recent call last)",
      "\u001b[1;32mc:\\Users\\Aditya Agrawal\\Desktop\\coding files\\Python\\pythonYoutube_Harshit\\chapter17\\9,10.ipynb Cell 3\u001b[0m in \u001b[0;36m<cell line: 25>\u001b[1;34m()\u001b[0m\n\u001b[0;32m     <a href='vscode-notebook-cell:/c%3A/Users/Aditya%20Agrawal/Desktop/coding%20files/Python/pythonYoutube_Harshit/chapter17/9%2C10.ipynb#W2sZmlsZQ%3D%3D?line=22'>23</a>\u001b[0m age \u001b[39m=\u001b[39m \u001b[39minput\u001b[39m(\u001b[39m'\u001b[39m\u001b[39mplease type your age: \u001b[39m\u001b[39m'\u001b[39m)\n\u001b[0;32m     <a href='vscode-notebook-cell:/c%3A/Users/Aditya%20Agrawal/Desktop/coding%20files/Python/pythonYoutube_Harshit/chapter17/9%2C10.ipynb#W2sZmlsZQ%3D%3D?line=23'>24</a>\u001b[0m \u001b[39mprint\u001b[39m(\u001b[39mf\u001b[39m\u001b[39m'\u001b[39m\u001b[39mhello \u001b[39m\u001b[39m{\u001b[39;00mname\u001b[39m}\u001b[39;00m\u001b[39m your age is \u001b[39m\u001b[39m{\u001b[39;00mage\u001b[39m}\u001b[39;00m\u001b[39m'\u001b[39m)\n\u001b[1;32m---> <a href='vscode-notebook-cell:/c%3A/Users/Aditya%20Agrawal/Desktop/coding%20files/Python/pythonYoutube_Harshit/chapter17/9%2C10.ipynb#W2sZmlsZQ%3D%3D?line=24'>25</a>\u001b[0m age2\u001b[39m=\u001b[39mage\u001b[39m+\u001b[39;49m\u001b[39m5\u001b[39;49m\n\u001b[0;32m     <a href='vscode-notebook-cell:/c%3A/Users/Aditya%20Agrawal/Desktop/coding%20files/Python/pythonYoutube_Harshit/chapter17/9%2C10.ipynb#W2sZmlsZQ%3D%3D?line=25'>26</a>\u001b[0m \u001b[39mprint\u001b[39m(\u001b[39mf\u001b[39m\u001b[39m\"\u001b[39m\u001b[39m{\u001b[39;00mname\u001b[39m}\u001b[39;00m\u001b[39m you will be \u001b[39m\u001b[39m{\u001b[39;00mage2\u001b[39m}\u001b[39;00m\u001b[39m in next five years\u001b[39m\u001b[39m\"\u001b[39m)\n",
      "\u001b[1;31mTypeError\u001b[0m: can only concatenate str (not \"int\") to str"
     ]
    }
   ],
   "source": [
    "import pdb   #import pdb module \n",
    "# module - python file contains usefull classes and functions wrote by developers.\n",
    "# import module to use these functions\n",
    "\n",
    "\n",
    "# According to wikipedia  -Debugging is the process of finding and resolving defects or \n",
    "# problems within a computer program that prevent corerect operation of computer software \n",
    "# or a system.\n",
    "\n",
    "\n",
    "\n",
    "# why debugging\n",
    "# 1.) our program is not running and causing unexpected errors.\n",
    "# 2.) our program is working fine but not working the same way we want.\n",
    "\n",
    "\n",
    "# steps for debugging  \n",
    "# 1. set trace \n",
    "# 2. execute code line by line\n"
   ]
  },
  {
   "cell_type": "code",
   "execution_count": 2,
   "metadata": {},
   "outputs": [
    {
     "name": "stdout",
     "output_type": "stream",
     "text": [
      "hello 3 your age is 3\n"
     ]
    },
    {
     "ename": "TypeError",
     "evalue": "can only concatenate str (not \"int\") to str",
     "output_type": "error",
     "traceback": [
      "\u001b[1;31m---------------------------------------------------------------------------\u001b[0m",
      "\u001b[1;31mTypeError\u001b[0m                                 Traceback (most recent call last)",
      "\u001b[1;32mc:\\Users\\Aditya Agrawal\\Desktop\\coding files\\Python\\pythonYoutube_Harshit\\chapter17\\9,10.ipynb Cell 4\u001b[0m in \u001b[0;36m<cell line: 6>\u001b[1;34m()\u001b[0m\n\u001b[0;32m      <a href='vscode-notebook-cell:/c%3A/Users/Aditya%20Agrawal/Desktop/coding%20files/Python/pythonYoutube_Harshit/chapter17/9%2C10.ipynb#W3sZmlsZQ%3D%3D?line=3'>4</a>\u001b[0m age \u001b[39m=\u001b[39m \u001b[39minput\u001b[39m(\u001b[39m'\u001b[39m\u001b[39mplease type your age: \u001b[39m\u001b[39m'\u001b[39m)\n\u001b[0;32m      <a href='vscode-notebook-cell:/c%3A/Users/Aditya%20Agrawal/Desktop/coding%20files/Python/pythonYoutube_Harshit/chapter17/9%2C10.ipynb#W3sZmlsZQ%3D%3D?line=4'>5</a>\u001b[0m \u001b[39mprint\u001b[39m(\u001b[39mf\u001b[39m\u001b[39m'\u001b[39m\u001b[39mhello \u001b[39m\u001b[39m{\u001b[39;00mname\u001b[39m}\u001b[39;00m\u001b[39m your age is \u001b[39m\u001b[39m{\u001b[39;00mage\u001b[39m}\u001b[39;00m\u001b[39m'\u001b[39m)\n\u001b[1;32m----> <a href='vscode-notebook-cell:/c%3A/Users/Aditya%20Agrawal/Desktop/coding%20files/Python/pythonYoutube_Harshit/chapter17/9%2C10.ipynb#W3sZmlsZQ%3D%3D?line=5'>6</a>\u001b[0m age2\u001b[39m=\u001b[39m age\u001b[39m+\u001b[39;49m\u001b[39m5\u001b[39;49m\n\u001b[0;32m      <a href='vscode-notebook-cell:/c%3A/Users/Aditya%20Agrawal/Desktop/coding%20files/Python/pythonYoutube_Harshit/chapter17/9%2C10.ipynb#W3sZmlsZQ%3D%3D?line=6'>7</a>\u001b[0m \u001b[39mprint\u001b[39m(\u001b[39mf\u001b[39m\u001b[39m\"\u001b[39m\u001b[39m{\u001b[39;00mname\u001b[39m}\u001b[39;00m\u001b[39m you will be \u001b[39m\u001b[39m{\u001b[39;00mage2\u001b[39m}\u001b[39;00m\u001b[39m in next five years\u001b[39m\u001b[39m\"\u001b[39m)\n",
      "\u001b[1;31mTypeError\u001b[0m: can only concatenate str (not \"int\") to str"
     ]
    }
   ],
   "source": [
    "#error code\n",
    "\n",
    "\n",
    "name = input('please type your name: ')\n",
    "age = input('please type your age: ')\n",
    "print(f'hello {name} your age is {age}')\n",
    "age2= age+5\n",
    "print(f\"{name} you will be {age2} in next five years\")"
   ]
  },
  {
   "cell_type": "code",
   "execution_count": null,
   "metadata": {},
   "outputs": [
    {
     "name": "stdout",
     "output_type": "stream",
     "text": [
      "--Return--\n",
      "None\n",
      "> \u001b[1;32mc:\\users\\aditya agrawal\\appdata\\local\\temp\\ipykernel_12576\\318651587.py\u001b[0m(4)\u001b[0;36m<cell line: 4>\u001b[1;34m()\u001b[0m\n",
      "\n"
     ]
    }
   ],
   "source": [
    "import pdb\n",
    "\n",
    "\n",
    "pdb.set_trace()\n",
    "name = input('please type your name: ')\n",
    "age = input('please type your age: ')\n",
    "print(f'hello {name} your age is {age}')\n",
    "age2= age+5\n",
    "print(f\"{name} you will be {age2} in next five years\")\n",
    "\n",
    "\n",
    "\n",
    "# l - line number\n",
    "# c - countinue run code\n",
    "# n - next line (execute current line and shift pointer to next line)\n",
    "# q - quite"
   ]
  },
  {
   "cell_type": "code",
   "execution_count": 2,
   "metadata": {},
   "outputs": [
    {
     "name": "stdout",
     "output_type": "stream",
     "text": [
      "--Return--\n",
      "None\n",
      "> \u001b[1;32mc:\\users\\aditya agrawal\\appdata\\local\\temp\\ipykernel_13056\\2924643353.py\u001b[0m(4)\u001b[0;36m<cell line: 4>\u001b[1;34m()\u001b[0m\n",
      "\n"
     ]
    }
   ],
   "source": [
    "import pdb\n",
    "\n",
    "\n",
    "pdb.set_trace()   #write this from where you have to start debugging\n",
    "name = input('please type your name: ')\n",
    "age = input('please type your age: ')\n",
    "print(f'hello {name} your age is {age}')\n",
    "age2= age+5\n",
    "print(f\"{name} you will be {age2} in next five years\")\n",
    "\n"
   ]
  },
  {
   "cell_type": "code",
   "execution_count": null,
   "metadata": {},
   "outputs": [],
   "source": []
  },
  {
   "cell_type": "code",
   "execution_count": null,
   "metadata": {},
   "outputs": [],
   "source": []
  },
  {
   "cell_type": "code",
   "execution_count": null,
   "metadata": {},
   "outputs": [],
   "source": []
  },
  {
   "cell_type": "code",
   "execution_count": null,
   "metadata": {},
   "outputs": [],
   "source": []
  },
  {
   "cell_type": "code",
   "execution_count": null,
   "metadata": {},
   "outputs": [],
   "source": []
  },
  {
   "cell_type": "code",
   "execution_count": null,
   "metadata": {},
   "outputs": [],
   "source": []
  },
  {
   "cell_type": "code",
   "execution_count": null,
   "metadata": {},
   "outputs": [],
   "source": []
  },
  {
   "cell_type": "code",
   "execution_count": null,
   "metadata": {},
   "outputs": [],
   "source": []
  },
  {
   "cell_type": "code",
   "execution_count": null,
   "metadata": {},
   "outputs": [],
   "source": []
  },
  {
   "cell_type": "code",
   "execution_count": null,
   "metadata": {},
   "outputs": [],
   "source": []
  },
  {
   "cell_type": "code",
   "execution_count": null,
   "metadata": {},
   "outputs": [],
   "source": []
  },
  {
   "cell_type": "code",
   "execution_count": null,
   "metadata": {},
   "outputs": [],
   "source": []
  }
 ],
 "metadata": {
  "kernelspec": {
   "display_name": "Python 3",
   "language": "python",
   "name": "python3"
  },
  "language_info": {
   "codemirror_mode": {
    "name": "ipython",
    "version": 3
   },
   "file_extension": ".py",
   "mimetype": "text/x-python",
   "name": "python",
   "nbconvert_exporter": "python",
   "pygments_lexer": "ipython3",
   "version": "3.10.5"
  },
  "orig_nbformat": 4
 },
 "nbformat": 4,
 "nbformat_minor": 2
}
