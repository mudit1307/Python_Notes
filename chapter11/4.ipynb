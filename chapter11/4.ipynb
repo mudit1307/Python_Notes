{
 "cells": [
  {
   "cell_type": "code",
   "execution_count": 3,
   "metadata": {},
   "outputs": [
    {
     "name": "stdout",
     "output_type": "stream",
     "text": [
      "{'first': 'mdt', 'last': 'sam'}\n",
      "<class 'dict'>\n",
      "first mdt\n",
      "last sam\n"
     ]
    }
   ],
   "source": [
    "#    kwargs(keyword arguments)\n",
    "#    **kwargs (double star operator)\n",
    "\n",
    "#kwargs as parameter\n",
    "def func(**kwargs):\n",
    "    print(kwargs)\n",
    "    print(type(kwargs))\n",
    "    for k,v in kwargs.items():\n",
    "        print(k,v)\n",
    "    \n",
    "func(first='mdt',last='sam')\n",
    "\n",
    "\n"
   ]
  },
  {
   "cell_type": "code",
   "execution_count": 5,
   "metadata": {},
   "outputs": [
    {
     "name": "stdout",
     "output_type": "stream",
     "text": [
      "mdt\n",
      "{'first': 'mudit', 'last': 'sam'}\n",
      "first mudit\n",
      "last sam\n"
     ]
    }
   ],
   "source": [
    "def func(name,**kwargs):\n",
    "    print(name)\n",
    "    print(kwargs)\n",
    "    for k,v in kwargs.items():\n",
    "        print(k,v)\n",
    "    \n",
    "# func(first='mdt',last='sam')    #error\n",
    "func(\"mdt\",first='mudit',last=\"sam\")"
   ]
  },
  {
   "cell_type": "code",
   "execution_count": 10,
   "metadata": {},
   "outputs": [
    {
     "name": "stdout",
     "output_type": "stream",
     "text": [
      "{'first': 'mdt', 'last': 'sam'}\n",
      "<class 'dict'>\n",
      "first mdt\n",
      "last sam\n"
     ]
    }
   ],
   "source": [
    "#dictionary unpacking \n",
    "def func(**kwargs):\n",
    "    print(kwargs)\n",
    "    print(type(kwargs))\n",
    "    for k,v in kwargs.items():\n",
    "        print(k,v)\n",
    "    \n",
    "d={\"first\":'mdt',\"last\":'sam'}\n",
    "func(**d)"
   ]
  }
 ],
 "metadata": {
  "kernelspec": {
   "display_name": "Python 3.10.5 64-bit",
   "language": "python",
   "name": "python3"
  },
  "language_info": {
   "codemirror_mode": {
    "name": "ipython",
    "version": 3
   },
   "file_extension": ".py",
   "mimetype": "text/x-python",
   "name": "python",
   "nbconvert_exporter": "python",
   "pygments_lexer": "ipython3",
   "version": "3.10.5"
  },
  "orig_nbformat": 4,
  "vscode": {
   "interpreter": {
    "hash": "bbdb4b97aed41b82c12a1e891d9d884cd5c65204befe9df6e94a0a7f3a53eff4"
   }
  }
 },
 "nbformat": 4,
 "nbformat_minor": 2
}
