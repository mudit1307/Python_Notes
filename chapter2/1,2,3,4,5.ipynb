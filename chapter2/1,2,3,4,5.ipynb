{
 "cells": [
  {
   "cell_type": "code",
   "execution_count": null,
   "metadata": {},
   "outputs": [],
   "source": [
    "#1\n",
    "\n",
    "# string concatenation \n",
    "print('hello'+ ' world')\n",
    "first_name=\"harshit\"\n",
    "last_name=\"vashistha\"\n",
    "full_name= first_name+\" \"+last_name\n",
    "print(full_name)\n",
    "\n",
    "print(full_name + \" hello\")   #string can only be added with strings.\n",
    "print(full_name + \"3\")\n",
    "# print(full_name + 3)  #error\n",
    "print(full_name + str(3) ) #no error\n",
    "\n",
    "print(first_name*3)"
   ]
  },
  {
   "cell_type": "code",
   "execution_count": null,
   "metadata": {},
   "outputs": [],
   "source": [
    "#2\n",
    "\n",
    "#user input \n",
    "\n",
    "name =input()  #input-> yash agrawal or yash19 or 2337\n",
    "print(name)\n",
    "\n",
    "name= input(\"type your name\")       #yash \n",
    "print(\"hello\"+ name) \n",
    "age=input(\"what is your age\")       #24    \n",
    "#'24' input form her        #input by user is always taken in string form.  \n",
    "print(\"your age is\"+age)   #input by user stors in variable(name).   \n",
    "\n"
   ]
  },
  {
   "cell_type": "code",
   "execution_count": null,
   "metadata": {},
   "outputs": [],
   "source": [
    "#3\n",
    "\n",
    "# int()function \n",
    "#sum of two input numbers \n",
    "number_one= int(input(\"enter first number \"))  #integer #5\n",
    "number_two=int(input('enter second number ')) #integer #3\n",
    "total= number_one +number_two  #integer  #8 \n",
    "print('total is ' + str(total))   \n",
    "\n",
    "number1=str(4)                 #string function \n",
    "number2=float('44')            #float function\n",
    "number3=int('33')              #intege function \n",
    "print(number2+number3) "
   ]
  },
  {
   "cell_type": "code",
   "execution_count": null,
   "metadata": {},
   "outputs": [],
   "source": [
    "#4\n",
    "\n",
    "# more about variables\n",
    "name,age='harshit' , '24'       #declaring more than one variable in a single line  \n",
    "print('hello '+ name +' your age is '+ age)\n",
    "x=y=z=1 \n",
    "print(x+y+z)\n",
    "\n",
    "#or \n",
    "\n",
    "name ,age = \"harshit\" , 24\n",
    "print(name)\n",
    "print(age)\n",
    "\n",
    "#example\n",
    "x= \"yash\"\n",
    "y=\"17\"\n",
    "name , age = x ,y\n",
    "print(name) \n",
    "print(age)\n"
   ]
  },
  {
   "cell_type": "code",
   "execution_count": null,
   "metadata": {},
   "outputs": [],
   "source": [
    "#5 \n",
    "\n",
    "# two or more input in one line \n",
    "\n",
    "# name=input(\"enter your name: \")\n",
    "# age=input(\"enter your age:\") \n",
    "\n",
    "\n",
    "name,age=input(\"type your name and age \").split() #nothing in .split() fuction means space seperated inputs \n",
    "# inputs -> harshit24 #no space will show eror ( expected  two and got one value)\n",
    "#-> harshit 24 # no error \n",
    "print(\"hello \"+name+' your age is '+ age )\n",
    "print(name)\n",
    "print(age)\n",
    "\n",
    "#comma seperated inputs \n",
    "name,age=input(\"type your name and age\\n\").split(\",\")\n",
    "print (name )\n",
    "print (age)\n"
   ]
  },
  {
   "cell_type": "code",
   "execution_count": null,
   "metadata": {},
   "outputs": [],
   "source": []
  }
 ],
 "metadata": {
  "language_info": {
   "name": "python"
  }
 },
 "nbformat": 4,
 "nbformat_minor": 2
}
