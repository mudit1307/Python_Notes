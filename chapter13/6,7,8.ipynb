{
 "cells": [
  {
   "cell_type": "code",
   "execution_count": null,
   "metadata": {},
   "outputs": [],
   "source": [
    "#6\n",
    "# zip function"
   ]
  },
  {
   "cell_type": "code",
   "execution_count": 1,
   "metadata": {},
   "outputs": [
    {
     "name": "stdout",
     "output_type": "stream",
     "text": [
      "[(1, 2), (3, 4), (5, 6), (7, 8)]\n",
      "[(1, 3, 5, 7), (2, 4, 6, 8)]\n",
      "(1, 3, 5, 7)\n",
      "[2, 4, 6, 8]\n"
     ]
    }
   ],
   "source": [
    "l1=[1,3,5,7]\n",
    "l2=[2,4,6,8]\n",
    "\n",
    "l=[(1,2),(3,4),(5,6),(7,8)]\n",
    "\n",
    "print(list(zip(l1,l2))) \n",
    "\n",
    "# * operator with zip to unpack list\n",
    "\n",
    "print(list(zip(*l)))\n",
    "\n",
    "l3,l4=list(zip(*l))\n",
    "print(l3)\n",
    "print(list(l4))\n"
   ]
  },
  {
   "cell_type": "code",
   "execution_count": 1,
   "metadata": {},
   "outputs": [
    {
     "name": "stdout",
     "output_type": "stream",
     "text": [
      "[2, 4, 6, 8]\n"
     ]
    }
   ],
   "source": [
    "l1=[1,3,5,7]\n",
    "l2=[2,4,6,8]\n",
    "new_list = []\n",
    "\n",
    "for pair in zip(l1,l2):\n",
    "    new_list.append(max(pair))\n",
    "\n",
    "print(new_list)\n",
    "           "
   ]
  },
  {
   "cell_type": "code",
   "execution_count": null,
   "metadata": {},
   "outputs": [],
   "source": []
  },
  {
   "cell_type": "code",
   "execution_count": null,
   "metadata": {},
   "outputs": [],
   "source": [
    "#7\n",
    "# advance function practice 1\n"
   ]
  },
  {
   "cell_type": "code",
   "execution_count": 7,
   "metadata": {},
   "outputs": [
    {
     "name": "stdout",
     "output_type": "stream",
     "text": [
      "[4.0, 5.0, 6.0]\n"
     ]
    }
   ],
   "source": [
    "#this is challenge\n",
    "\n",
    "#define a function take any no of lists containing number \n",
    "#[1,2,3] , [4,5,6] ,[7,8,9]\n",
    "#return average \n",
    "#(1+4+7)/3 , (2+5+8)/3 , (3+6+9)/3\n",
    "\n",
    "#try to make this anonymous function in one line using lambda \n",
    "\n",
    "\n",
    "# solution\n",
    "\n",
    "\n",
    "#for two lists input \n",
    "\n",
    "# def avg(l1,l2):\n",
    "#     average=[]\n",
    "#     for pair in zip(l1,l2):\n",
    "#         average.append(sum(pair)/len(pair))\n",
    "#     return average\n",
    "\n",
    "# print(avg([1,2,3],[4,5,6]))\n",
    "\n",
    "\n",
    "\n",
    "\n",
    "#for any number of list input \n",
    "\n",
    "# def avg_finder(*args):\n",
    "#     average=[]\n",
    "#     print(args)\n",
    "#     for pair in zip(*args):\n",
    "#         average.append(sum(pair)/len(pair))\n",
    "#     return average\n",
    "\n",
    "# print(avg_finder([1,2,3],[4,5,6]))\n",
    "\n",
    "\n",
    "\n",
    "\n",
    "#single line function \n",
    "average_finder = lambda *args: [sum(pair)/len(pair) for pair in zip(*args)]\n",
    "print(average_finder([1,2,3] , [4,5,6] , [7,8,9]))"
   ]
  },
  {
   "cell_type": "code",
   "execution_count": 6,
   "metadata": {},
   "outputs": [
    {
     "name": "stdout",
     "output_type": "stream",
     "text": [
      "[1, 2, 3] [4, 5, 6]\n",
      "[2.5, 3.5, 4.5]\n",
      "[4.0, 5.0, 6.0]\n"
     ]
    }
   ],
   "source": [
    "\n"
   ]
  },
  {
   "cell_type": "code",
   "execution_count": 11,
   "metadata": {},
   "outputs": [
    {
     "name": "stdout",
     "output_type": "stream",
     "text": [
      "[True, True, True, True, True]\n",
      "[True, True, True, True, True]\n",
      "True\n",
      "False\n",
      "True\n",
      "False\n",
      "\n",
      "True\n",
      "True\n"
     ]
    }
   ],
   "source": [
    "#8\n",
    "# any() and all() function\n",
    "\n",
    "numbers1=[2,4,6,8,10]\n",
    "numbers2=[1,2,3,4,5,6]\n",
    "\n",
    "\n",
    "# evens1=[]\n",
    "# for num in numbers1:\n",
    "#     if num%2==0:\n",
    "#         evens1.append(True)\n",
    "#     else:\n",
    "#         evens1.append(False)\n",
    "# print(evens1)\n",
    "\n",
    "\n",
    "\n",
    "#or \n",
    "evens1=[]\n",
    "for num in numbers1:\n",
    "    evens1.append(num%2==0)\n",
    "print(evens1)\n",
    "\n",
    "\n",
    "\n",
    "#list comprehension \n",
    "new_evens =[True if num%2 ==0 else False for num in numbers1]\n",
    "print(new_evens)\n",
    "\n",
    "\n",
    "print(all([True, True, True, True, True]))     # ---> True\n",
    "print(all([True, True, False, True, True]))    # ---> False\n",
    "\n",
    "\n",
    "#or using all() function check : return True if all values are True in list otherwise False\n",
    "print(all([num%2==0 for num in numbers1])) \n",
    "print(all([num%2==0 for num in numbers2]))\n",
    "\n",
    "print()\n",
    "\n",
    "#any() function : if any one value is true it will return True\n",
    "numbers3=[1,33,3,4,55,63]\n",
    "print(any([num%2==0 for num in numbers3]))\n",
    "print(any([num%2==0 for num in numbers2]))"
   ]
  },
  {
   "cell_type": "code",
   "execution_count": 9,
   "metadata": {},
   "outputs": [
    {
     "name": "stdout",
     "output_type": "stream",
     "text": [
      "True\n",
      "False\n",
      "True\n"
     ]
    }
   ],
   "source": [
    "# practice  (ignore)\n",
    "\n",
    "\n",
    "# # checking if any odd number present or not in the list \n",
    "# print(any([num%2!=0 for num in numbers2]))\n"
   ]
  }
 ],
 "metadata": {
  "kernelspec": {
   "display_name": "base",
   "language": "python",
   "name": "python3"
  },
  "language_info": {
   "codemirror_mode": {
    "name": "ipython",
    "version": 3
   },
   "file_extension": ".py",
   "mimetype": "text/x-python",
   "name": "python",
   "nbconvert_exporter": "python",
   "pygments_lexer": "ipython3",
   "version": "3.11.4"
  },
  "orig_nbformat": 4
 },
 "nbformat": 4,
 "nbformat_minor": 2
}
