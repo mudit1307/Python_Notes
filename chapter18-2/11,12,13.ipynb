{
 "cells": [
  {
   "cell_type": "code",
   "execution_count": null,
   "metadata": {},
   "outputs": [],
   "source": [
    "#11 - Work with csv files using python \n",
    "\n",
    "# Read csv file"
   ]
  },
  {
   "cell_type": "code",
   "execution_count": null,
   "metadata": {},
   "outputs": [],
   "source": [
    "\n",
    "# .csv file to store tabular data \n",
    "# csv means comma seprated values (it has its delimiter/seperator comma) \n",
    "# but we can use other delimiters like | * etc.\n",
    "# delimiter - defines character data in file seperated with\n",
    "\n",
    "\n",
    "# in .csv file\n",
    "# first row - heading \n",
    "# other rows - value"
   ]
  },
  {
   "cell_type": "code",
   "execution_count": 2,
   "metadata": {},
   "outputs": [
    {
     "name": "stdout",
     "output_type": "stream",
     "text": [
      "<_csv.reader object at 0x000001A7F65815A0>\n",
      "['name', 'email', 'phone']\n",
      "['harshit', 'harshitvashith@gmail.com', '9680863538']\n",
      "['moohit', 'moohitvashith@gmail.com', '9680893645']\n"
     ]
    }
   ],
   "source": [
    "from csv import reader\n",
    "# csv module \n",
    "# module - is python file having many classes and functions\n",
    "\n",
    "with  open('file11.csv','r') as f:\n",
    "    csv_reader = reader(f)\n",
    "    # itrator - **(can loop only once)**\n",
    "    print(csv_reader)\n",
    "    for row in csv_reader:\n",
    "        print(row)"
   ]
  },
  {
   "cell_type": "code",
   "execution_count": 3,
   "metadata": {},
   "outputs": [
    {
     "name": "stdout",
     "output_type": "stream",
     "text": [
      "<_csv.reader object at 0x000001A7F6580160>\n",
      "['harshit', 'harshitvashith@gmail.com', '9680863538']\n",
      "['moohit', 'moohitvashith@gmail.com', '9680893645']\n"
     ]
    }
   ],
   "source": [
    "from csv import reader\n",
    "\n",
    "\n",
    "with  open('file11.csv','r') as f:\n",
    "    csv_reader = reader(f)\n",
    "    # itrator\n",
    "    next(csv_reader)     #to skip first row\n",
    "    print(csv_reader)\n",
    "    for row in csv_reader:\n",
    "        print(row)"
   ]
  },
  {
   "cell_type": "code",
   "execution_count": null,
   "metadata": {},
   "outputs": [],
   "source": [
    "#12\n",
    "\n",
    "# Read CSV with DictReader"
   ]
  },
  {
   "cell_type": "code",
   "execution_count": 6,
   "metadata": {},
   "outputs": [
    {
     "name": "stdout",
     "output_type": "stream",
     "text": [
      "{'name': 'harshit', 'email': 'harshitvashith@gmail.com', 'phone': '9680863538'}\n",
      "{'name': 'moohit', 'email': 'moohitvashith@gmail.com', 'phone': '9680893645'}\n"
     ]
    }
   ],
   "source": [
    "from csv import DictReader\n",
    "\n",
    "# DictReader - return ordered dict\n",
    "\n",
    "with  open('file11.csv','r') as f:\n",
    "    csv_reader = DictReader(f)      # iterator\n",
    "    # print(csv_reader)\n",
    "    for row in csv_reader:\n",
    "        print(row)"
   ]
  },
  {
   "cell_type": "code",
   "execution_count": 5,
   "metadata": {},
   "outputs": [
    {
     "name": "stdout",
     "output_type": "stream",
     "text": [
      "harshit\n",
      "moohit\n"
     ]
    }
   ],
   "source": [
    "from csv import DictReader\n",
    "\n",
    "# to print all names from csv file\n",
    "\n",
    "with  open('file11.csv','r') as f:\n",
    "    csv_reader = DictReader(f)\n",
    "    for row in csv_reader:\n",
    "        print(row['name'])"
   ]
  },
  {
   "cell_type": "code",
   "execution_count": null,
   "metadata": {},
   "outputs": [],
   "source": [
    "# delimiter - defines character data in file seperated with"
   ]
  },
  {
   "cell_type": "code",
   "execution_count": 8,
   "metadata": {},
   "outputs": [
    {
     "name": "stdout",
     "output_type": "stream",
     "text": [
      "harshitvashith@gmail.com\n",
      "moohitvashith@gmail.com\n"
     ]
    }
   ],
   "source": [
    "from csv import DictReader\n",
    "\n",
    "# ordered dict\n",
    "\n",
    "with  open('file12.csv','r') as f:\n",
    "    csv_reader = DictReader(f,delimiter=\"|\")\n",
    "    for row in csv_reader:\n",
    "        print(row['email'])"
   ]
  },
  {
   "cell_type": "code",
   "execution_count": null,
   "metadata": {},
   "outputs": [],
   "source": [
    "#13\n",
    "\n",
    "# write to csv file\n",
    "\n",
    "\n",
    "# writer , DictWriter"
   ]
  },
  {
   "cell_type": "code",
   "execution_count": 16,
   "metadata": {},
   "outputs": [],
   "source": [
    "from csv import writer\n",
    "\n",
    "# create new csv file with given name if not present\n",
    "with  open('file13.csv','w') as f:         #'w' or 'a'\n",
    "    csv_writer=writer(f)\n",
    "    #method - writerow, writerows \n",
    "    csv_writer.writerow(['name','country'])\n",
    "    csv_writer.writerow(['mdt','ind'])\n",
    "    csv_writer.writerow(['asd','singapor'])\n",
    "    csv_writer.writerow(['hjf','argentina'])"
   ]
  },
  {
   "cell_type": "code",
   "execution_count": 17,
   "metadata": {},
   "outputs": [],
   "source": [
    "from csv import writer\n",
    "\n",
    "# to remove new line space from csv file\n",
    "\n",
    "with  open('file13a.csv','w',newline=\"\") as f:         #'w' or 'a'\n",
    "    csv_writer=writer(f)\n",
    "    #method - writerow\n",
    "    csv_writer.writerow(['name','country'])\n",
    "    csv_writer.writerow(['mdt','ind'])\n",
    "    csv_writer.writerow(['asd','singapor'])\n",
    "    csv_writer.writerow(['hjf','argentina'])"
   ]
  },
  {
   "cell_type": "code",
   "execution_count": 19,
   "metadata": {},
   "outputs": [],
   "source": [
    "from csv import writer\n",
    "\n",
    "\n",
    "with  open('file13b.csv','w',newline=\"\") as f:         #'w' or 'a'\n",
    "    csv_writer=writer(f)\n",
    "    #method -  writerows \n",
    "    csv_writer.writerows([['name','country'],['mdt','ind'],['asd','singapor'],['hjf','argentina']])\n",
    "    "
   ]
  }
 ],
 "metadata": {
  "kernelspec": {
   "display_name": "Python 3",
   "language": "python",
   "name": "python3"
  },
  "language_info": {
   "codemirror_mode": {
    "name": "ipython",
    "version": 3
   },
   "file_extension": ".py",
   "mimetype": "text/x-python",
   "name": "python",
   "nbconvert_exporter": "python",
   "pygments_lexer": "ipython3",
   "version": "3.11.4"
  },
  "orig_nbformat": 4
 },
 "nbformat": 4,
 "nbformat_minor": 2
}
