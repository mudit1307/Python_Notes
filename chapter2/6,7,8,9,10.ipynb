{
 "cells": [
  {
   "cell_type": "code",
   "execution_count": null,
   "metadata": {},
   "outputs": [],
   "source": [
    "#6 \n",
    "\n",
    "\n",
    "name= \"harshit\"\n",
    "age=18\n",
    "#old and ugly syntax \n",
    "print(\"hello \"+name+ \" your age is \"+str(age))\n",
    "\n",
    "#string formatting \n",
    "#python 3\n",
    "print(\"your name is {} and age is {}\".format(name,age))\n",
    "\n",
    "#python 3.6\n",
    "print(f\"hello {name} your age is {age}\")\n",
    "\n",
    "\n",
    "#we can also perform some cvalculation in string formatting ...\n",
    "print(f\"hello {name} your age+2 is {age+2}\")"
   ]
  },
  {
   "cell_type": "code",
   "execution_count": null,
   "metadata": {},
   "outputs": [],
   "source": [
    "#7\n",
    "\n",
    "#string indexing\n",
    "language=\"phython\"\n",
    "'''\n",
    "index/position of elements of string \n",
    "p=0 or-7\n",
    "h=1 or-6\n",
    "y=2 or-5 \n",
    "t=3 or-4\n",
    "h=4 or-3\n",
    "o=5 or-2\n",
    "n=6 or-1\n",
    "'''\n",
    "print(language[0])\n",
    "print(language[4])\n",
    "print(language[-5])\n",
    "\n",
    "#num=153\n",
    "#print(num[0])    #erorr -> 'int' objeswt is not subscriptable \n"
   ]
  },
  {
   "cell_type": "code",
   "execution_count": null,
   "metadata": {},
   "outputs": [],
   "source": [
    "#8\n",
    "\n",
    "# string slicing\n",
    " \n",
    "# syntax-> [start argument:stop argument+1]\n",
    "\n",
    "lang='python'\n",
    "\n",
    "print(lang[1:3])\n",
    "print(lang[3:6])\n",
    "print(lang[:])  # no start or stop argument\n",
    "print(lang[3:]) # no stop argument\n",
    "print(lang[:3]) # no start argument\n",
    "print(lang[-2:6]) # negative indexing\n"
   ]
  },
  {
   "cell_type": "code",
   "execution_count": null,
   "metadata": {},
   "outputs": [],
   "source": [
    "#9 \n",
    "\n",
    "\n",
    "# step argument\n",
    "#syntax -> [start argument:stop argument:step argument]\n",
    "name=\"harshit\"\n",
    "print('harshit'[2:5])\n",
    "print(name[0:5:2])\n",
    "print('harshit'[0:5:1])\n",
    "print('harshit'[0:5:2])\n",
    "print('harshit'[0::2])\n",
    "print('harshit'[::3])\n",
    "print('harshit'[5::-1])\n",
    "print('harshit'[-1::-1])\n",
    "print('harshit'[::-1])        #trick (of 9 line code) to print string in reversed order \n",
    "\n",
    "print(\"\\n\")\n",
    "print(\"Harshit\"[5:2:-1])  #no error"
   ]
  },
  {
   "cell_type": "code",
   "execution_count": null,
   "metadata": {},
   "outputs": [],
   "source": [
    "#10 \n",
    "\n",
    "# string methods \n",
    "\n",
    "name=\"HaRsHit vASHISTha\"\n",
    "\n",
    "print(len(name))           #len()function    #count no. of characters in string  #counts every space in b/w\n",
    "print(len('yash'))\n",
    "length='yash  agrawal'\n",
    "print(len(length))\n",
    "\n",
    "print(name.lower())     #lower() method  #changes to small letter\n",
    "print(\"HARSH\".lower())\n",
    "\n",
    "print(name.upper())    #upper() method  #changes to capital letter \n",
    "print('yash'.upper())\n",
    "\n",
    "print(name.title())   #title()method  #changes to first letter capital and other small \n",
    "print('yash agrawal'.title())\n",
    "\n",
    "print(name.count('h'))   #count()method   #count specific characters (case-sesitive)\n",
    "print(\"yash Agrawal\".count('a'))"
   ]
  }
 ],
 "metadata": {
  "kernelspec": {
   "display_name": "Python 3",
   "language": "python",
   "name": "python3"
  },
  "language_info": {
   "codemirror_mode": {
    "name": "ipython",
    "version": 3
   },
   "file_extension": ".py",
   "mimetype": "text/x-python",
   "name": "python",
   "nbconvert_exporter": "python",
   "pygments_lexer": "ipython3",
   "version": "3.10.0"
  }
 },
 "nbformat": 4,
 "nbformat_minor": 2
}
