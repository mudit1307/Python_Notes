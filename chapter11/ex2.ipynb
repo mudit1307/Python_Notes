{
 "cells": [
  {
   "cell_type": "code",
   "execution_count": null,
   "metadata": {},
   "outputs": [],
   "source": [
    "# def  a function \n",
    "# names =['harshit','mohit']\n",
    "\n",
    "# print(func(names))\n",
    "# print(func(names,reverse_str=True))"
   ]
  },
  {
   "cell_type": "code",
   "execution_count": 4,
   "metadata": {},
   "outputs": [
    {
     "data": {
      "text/plain": [
       "['Tidum', 'Hsay']"
      ]
     },
     "execution_count": 4,
     "metadata": {},
     "output_type": "execute_result"
    }
   ],
   "source": [
    "def func(names,reverse_str=False):\n",
    "    if reverse_str:\n",
    "        return [i[::-1].title() for i in names]\n",
    "    else:\n",
    "        return [i.title() for i in names]\n",
    "\n",
    "names=['mudit','yash']\n",
    "print(func(names))\n",
    "print(func(names,True))"
   ]
  },
  {
   "cell_type": "code",
   "execution_count": 7,
   "metadata": {},
   "outputs": [
    {
     "name": "stdout",
     "output_type": "stream",
     "text": [
      "['Mudit', 'Yash']\n",
      "['Tidum', 'Hsay']\n"
     ]
    }
   ],
   "source": [
    "def func(names,**kwargs):\n",
    "    if kwargs.get('reverse_str') ==True:\n",
    "        return [i[::-1].title() for i in names]\n",
    "    else:\n",
    "        return [i.title() for i in names]\n",
    "\n",
    "\n",
    "names=['mudit','yash']\n",
    "print(func(names))\n",
    "print(func(names,reverse_str=True))"
   ]
  }
 ],
 "metadata": {
  "kernelspec": {
   "display_name": "Python 3.10.5 64-bit",
   "language": "python",
   "name": "python3"
  },
  "language_info": {
   "codemirror_mode": {
    "name": "ipython",
    "version": 3
   },
   "file_extension": ".py",
   "mimetype": "text/x-python",
   "name": "python",
   "nbconvert_exporter": "python",
   "pygments_lexer": "ipython3",
   "version": "3.10.5"
  },
  "orig_nbformat": 4,
  "vscode": {
   "interpreter": {
    "hash": "bbdb4b97aed41b82c12a1e891d9d884cd5c65204befe9df6e94a0a7f3a53eff4"
   }
  }
 },
 "nbformat": 4,
 "nbformat_minor": 2
}
