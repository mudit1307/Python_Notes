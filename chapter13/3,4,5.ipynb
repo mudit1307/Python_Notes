{
 "cells": [
  {
   "cell_type": "code",
   "execution_count": 8,
   "metadata": {},
   "outputs": [
    {
     "name": "stdout",
     "output_type": "stream",
     "text": [
      "<filter object at 0x00000235940F5E80>\n",
      "[4, 2, 6, 8, 10]\n",
      "[4, 2, 6, 8, 10]\n",
      "(4, 2, 6, 8, 10)\n",
      "4\n",
      "2\n",
      "6\n",
      "8\n",
      "10\n",
      "[4, 2, 6, 8, 10]\n"
     ]
    }
   ],
   "source": [
    "# 3 \n",
    "# filter function\n",
    "\n",
    "def is_even(a):\n",
    "    return a%2 == 0\n",
    "\n",
    "numbers =[3,4,2,1,5,6,9,8,10]\n",
    "\n",
    "print(filter(is_even,numbers))\n",
    "\n",
    "#using simple iteration\n",
    "new_evens=[]\n",
    "for num in numbers:\n",
    "    if is_even(num):\n",
    "        new_evens.append(num)\n",
    "print(new_evens)\n",
    "\n",
    "#using filter function \n",
    "evens=list(filter(is_even,numbers))\n",
    "print(evens)\n",
    "\n",
    "#using filter and lambda \n",
    "evens=tuple(filter(lambda a: a%2 == 0, numbers))\n",
    "print(evens)\n",
    "\n",
    "#can iterate only once through filter object\n",
    "evens=filter(is_even,numbers)\n",
    "for i in evens:\n",
    "    print(i)\n",
    "for j in evens:\n",
    "    print(j)    #doesn't print anything\n",
    "\n",
    "#using list comprehension\n",
    "new_evens=[i for i in numbers if i%2 ==0 ]\n",
    "print(new_evens)\n"
   ]
  },
  {
   "cell_type": "code",
   "execution_count": null,
   "metadata": {},
   "outputs": [],
   "source": [
    "\n"
   ]
  },
  {
   "cell_type": "code",
   "execution_count": 8,
   "metadata": {},
   "outputs": [
    {
     "name": "stdout",
     "output_type": "stream",
     "text": [
      "1\n",
      "2\n",
      "3\n",
      "4\n",
      "\n",
      "<list_iterator object at 0x00000183A0369610>\n",
      "1\n",
      "2\n",
      "3\n",
      "4\n",
      "\n",
      "<map object at 0x00000183A04ADEB0>\n",
      "1\n",
      "4\n",
      "9\n",
      "16\n"
     ]
    }
   ],
   "source": [
    "#4 \n",
    "# iterator vs iterable\n",
    "\n",
    "numbers=[1,2,3,4]  #iterables\n",
    "squares = map(lambda a:a**2 ,numbers)  #iterator\n",
    "\n",
    "for i in numbers:\n",
    "    print(i)\n",
    "\n",
    "print()\n",
    "\n",
    "#actual implemetation of for loop using iter and next function\n",
    "print(iter(numbers))\n",
    "num_itr=iter(numbers)\n",
    "\n",
    "print(next(num_itr))\n",
    "print(next(num_itr))\n",
    "print(next(num_itr))\n",
    "print(next(num_itr))\n",
    "\n",
    "print()\n",
    "\n",
    "print(squares)\n",
    "\n",
    "# for i in squares:\n",
    "#     print(i)\n",
    "\n",
    "print(next(squares))\n",
    "print(next(squares))\n",
    "print(next(squares))\n",
    "print(next(squares))"
   ]
  },
  {
   "cell_type": "code",
   "execution_count": null,
   "metadata": {},
   "outputs": [],
   "source": []
  },
  {
   "cell_type": "code",
   "execution_count": 11,
   "metadata": {},
   "outputs": [
    {
     "name": "stdout",
     "output_type": "stream",
     "text": [
      "<zip object at 0x000001839F1DFB80>\n",
      "[('user1', 'harshit'), ('user2', 'mohit'), ('user3', 'rohit')]\n",
      "[('user1', 'harshit'), ('user2', 'mohit')]\n"
     ]
    }
   ],
   "source": [
    "#5 \n",
    "# zip function\n",
    "\n",
    "user_id=['user1','user2','user3']\n",
    "names=['harshit','mohit','rohit']\n",
    "# ('user1', 'harshit'), ('user2', 'mohit')\n",
    "\n",
    "print(zip(user_id,names))\n",
    "\n",
    "print(list(zip(user_id,names)))\n",
    "\n",
    "\n",
    "user_id=['user1','user2']\n",
    "names=['harshit','mohit','rohit']\n",
    "\n",
    "print(list(zip(user_id,names)))\n"
   ]
  },
  {
   "cell_type": "code",
   "execution_count": 12,
   "metadata": {},
   "outputs": [
    {
     "name": "stdout",
     "output_type": "stream",
     "text": [
      "{'a': 1, 'b': 2}\n"
     ]
    }
   ],
   "source": [
    "example =[('a' ,1),('b',2 )]\n",
    "print(dict(example))"
   ]
  },
  {
   "cell_type": "code",
   "execution_count": 13,
   "metadata": {},
   "outputs": [
    {
     "name": "stdout",
     "output_type": "stream",
     "text": [
      "[('user1', 'harshit', 'sharma'), ('user2', 'mohit', 'agrawal'), ('user3', 'rohit', 'jaiswal')]\n"
     ]
    }
   ],
   "source": [
    "user_id=['user1','user2','user3']\n",
    "names=['harshit','mohit','rohit']\n",
    "last_names=['sharma','agrawal','jaiswal']\n",
    "\n",
    "print(list(zip(user_id,names,last_names)))\n"
   ]
  }
 ],
 "metadata": {
  "kernelspec": {
   "display_name": "base",
   "language": "python",
   "name": "python3"
  },
  "language_info": {
   "codemirror_mode": {
    "name": "ipython",
    "version": 3
   },
   "file_extension": ".py",
   "mimetype": "text/x-python",
   "name": "python",
   "nbconvert_exporter": "python",
   "pygments_lexer": "ipython3",
   "version": "3.9.12"
  },
  "orig_nbformat": 4
 },
 "nbformat": 4,
 "nbformat_minor": 2
}
