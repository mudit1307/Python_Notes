{
 "cells": [
  {
   "cell_type": "code",
   "execution_count": 1,
   "metadata": {},
   "outputs": [
    {
     "name": "stdout",
     "output_type": "stream",
     "text": [
      "4\n"
     ]
    }
   ],
   "source": [
    "#1 \n",
    "# intro to * args\n",
    "\n",
    "def total(a,b):\n",
    "    return a+b\n",
    "\n",
    "print(total(1,3))\n",
    "\n",
    "# print(total(1,3,4,5))     don't work for more than two values , error\n"
   ]
  },
  {
   "cell_type": "code",
   "execution_count": 5,
   "metadata": {},
   "outputs": [
    {
     "name": "stdout",
     "output_type": "stream",
     "text": [
      "(1, 2, 3, 4, 5, 6)\n"
     ]
    }
   ],
   "source": [
    "def all_total(* args):\n",
    "    print(args)\n",
    "\n",
    "all_total(1,2,3,4,5,6)\n"
   ]
  },
  {
   "cell_type": "code",
   "execution_count": 6,
   "metadata": {},
   "outputs": [
    {
     "name": "stdout",
     "output_type": "stream",
     "text": [
      "(1, 2, 3, 4, 5, 6)\n",
      "<class 'tuple'>\n"
     ]
    }
   ],
   "source": [
    "def all_total(* nums):\n",
    "    print(nums)\n",
    "    print(type(nums))\n",
    "\n",
    "all_total(1,2,3,4,5,6)"
   ]
  },
  {
   "cell_type": "code",
   "execution_count": 7,
   "metadata": {},
   "outputs": [
    {
     "data": {
      "text/plain": [
       "21"
      ]
     },
     "execution_count": 7,
     "metadata": {},
     "output_type": "execute_result"
    }
   ],
   "source": [
    "def all_total(* args):\n",
    "    ans=0\n",
    "    for i in args:\n",
    "        ans+=i\n",
    "    return ans\n",
    "\n",
    "all_total(1,2,3,4,5,6)"
   ]
  },
  {
   "cell_type": "code",
   "execution_count": null,
   "metadata": {},
   "outputs": [],
   "source": []
  },
  {
   "cell_type": "code",
   "execution_count": null,
   "metadata": {},
   "outputs": [],
   "source": [
    "#2\n",
    "# *args with normal parameters"
   ]
  },
  {
   "cell_type": "code",
   "execution_count": 3,
   "metadata": {},
   "outputs": [
    {
     "name": "stdout",
     "output_type": "stream",
     "text": [
      "24\n",
      "1\n"
     ]
    }
   ],
   "source": [
    "def multiply_nums(*args):\n",
    "    mul=1\n",
    "    for i in args:\n",
    "        mul*=i\n",
    "    return mul \n",
    "\n",
    "print(multiply_nums(1,2,3,4))\n",
    "print(multiply_nums())"
   ]
  },
  {
   "cell_type": "code",
   "execution_count": 5,
   "metadata": {},
   "outputs": [
    {
     "name": "stdout",
     "output_type": "stream",
     "text": [
      "1\n",
      "(2, 3)\n",
      "\n",
      "1\n",
      "()\n",
      "\n"
     ]
    }
   ],
   "source": [
    "def multiply(num,*args):\n",
    "    print(num)\n",
    "    print(args)\n",
    "    print()\n",
    "multiply(1,2,3)\n",
    "# multiply()    #error\n",
    "multiply(1)"
   ]
  },
  {
   "cell_type": "code",
   "execution_count": 7,
   "metadata": {},
   "outputs": [
    {
     "name": "stdout",
     "output_type": "stream",
     "text": [
      "1 2 (3, 4, 5)\n",
      "2 3 ()\n"
     ]
    }
   ],
   "source": [
    "def fun(num1,num2,*args):\n",
    "    print(num1,num2,args)\n",
    "\n",
    "fun(1,2,3,4,5)\n",
    "# fun()    fun(1)  #error\n",
    "fun(2,3)"
   ]
  },
  {
   "cell_type": "code",
   "execution_count": null,
   "metadata": {},
   "outputs": [],
   "source": [
    "# def fun1(*args,num):   #error\n"
   ]
  }
 ],
 "metadata": {
  "kernelspec": {
   "display_name": "Python 3.10.5 64-bit",
   "language": "python",
   "name": "python3"
  },
  "language_info": {
   "codemirror_mode": {
    "name": "ipython",
    "version": 3
   },
   "file_extension": ".py",
   "mimetype": "text/x-python",
   "name": "python",
   "nbconvert_exporter": "python",
   "pygments_lexer": "ipython3",
   "version": "3.10.5"
  },
  "orig_nbformat": 4,
  "vscode": {
   "interpreter": {
    "hash": "bbdb4b97aed41b82c12a1e891d9d884cd5c65204befe9df6e94a0a7f3a53eff4"
   }
  }
 },
 "nbformat": 4,
 "nbformat_minor": 2
}
