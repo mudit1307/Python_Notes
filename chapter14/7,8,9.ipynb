{
 "cells": [
  {
   "cell_type": "code",
   "execution_count": 3,
   "metadata": {},
   "outputs": [
    {
     "name": "stdout",
     "output_type": "stream",
     "text": [
      "this is wrapper function\n",
      "wrapper_function\n"
     ]
    }
   ],
   "source": [
    "#7  171\n",
    "# decorators part-3\n",
    "\n",
    "def decorator_function(any_function):\n",
    "    def wrapper_function(*args, **kwargs):\n",
    "        '''this is wrapper function'''\n",
    "        print(\"this is awesome function\")\n",
    "        return any_function(*args, **kwargs)                 \n",
    "    return wrapper_function\n",
    "\n",
    "@decorator_function\n",
    "def add(a,b):\n",
    "    '''this is add function '''\n",
    "    return a+b\n",
    "\n",
    "\n",
    "#when we try accessing doc string of add function then we get doc string of wrappeer function , as we are indirectly calling for wrapper function\n",
    "\n",
    "print(add.__doc__)\n",
    "\n",
    "print(add.__name__)\n",
    "\n",
    "#to improve this we use wraps "
   ]
  },
  {
   "cell_type": "code",
   "execution_count": 1,
   "metadata": {},
   "outputs": [
    {
     "name": "stdout",
     "output_type": "stream",
     "text": [
      "this is add function \n",
      "add\n"
     ]
    }
   ],
   "source": [
    "from functools import wraps\n",
    "\n",
    "def decorator_function(any_function):\n",
    "    @wraps(any_function)\n",
    "    def wrapper_function(*args, **kwargs):\n",
    "        '''this is wrapper function'''\n",
    "        print(\"this is awesome function\")\n",
    "        return any_function(*args, **kwargs)                 \n",
    "    return wrapper_function\n",
    "\n",
    "@decorator_function\n",
    "def add(a,b):\n",
    "    '''this is add function '''\n",
    "    return a+b\n",
    "\n",
    "print(add.__doc__)\n",
    "\n",
    "print(add.__name__)\n"
   ]
  },
  {
   "cell_type": "code",
   "execution_count": 4,
   "metadata": {},
   "outputs": [
    {
     "name": "stdout",
     "output_type": "stream",
     "text": [
      "you are calling add function\n",
      "this function takes two numbers as arguments and return thier sum\n",
      "5\n"
     ]
    }
   ],
   "source": [
    "\n",
    "\n"
   ]
  },
  {
   "cell_type": "code",
   "execution_count": 5,
   "metadata": {},
   "outputs": [
    {
     "name": "stdout",
     "output_type": "stream",
     "text": [
      "5\n"
     ]
    },
    {
     "data": {
      "text/plain": [
       "0.0010020732879638672"
      ]
     },
     "execution_count": 5,
     "metadata": {},
     "output_type": "execute_result"
    }
   ],
   "source": [
    "\n",
    "\n"
   ]
  },
  {
   "cell_type": "code",
   "execution_count": null,
   "metadata": {},
   "outputs": [],
   "source": []
  },
  {
   "cell_type": "code",
   "execution_count": 5,
   "metadata": {},
   "outputs": [
    {
     "name": "stdout",
     "output_type": "stream",
     "text": [
      "9\n"
     ]
    }
   ],
   "source": [
    "#8 \n",
    "# decorators practice\n",
    "\n",
    "# @print_function_data\n",
    "def add(a,b):\n",
    "    '''this function takes two numbers as arguments and return their sum'''\n",
    "    return a+b\n",
    "\n",
    "print(add(4,5))\n",
    "\n",
    "#output\n",
    "#you are calling add function \n",
    "#this function takes two numbers as parameters and return their sum\n",
    "#9"
   ]
  },
  {
   "cell_type": "code",
   "execution_count": 13,
   "metadata": {},
   "outputs": [
    {
     "name": "stdout",
     "output_type": "stream",
     "text": [
      "your are calling add function\n",
      "this function takes two numbers as argument and return their sum\n",
      "7\n"
     ]
    }
   ],
   "source": [
    "from functools import wraps\n",
    "\n",
    "def print_function_data(any_function):\n",
    "    @wraps(any_function)\n",
    "    def wrapper_function(*args,**kwargs):\n",
    "        print(f\"your are calling {add.__name__ } function\")\n",
    "        print(f\"{any_function.__doc__}\")\n",
    "        return any_function(*args,**kwargs)\n",
    "    return wrapper_function\n",
    "\n",
    "@print_function_data\n",
    "def add(a,b):\n",
    "    '''this function takes two numbers as argument and return their sum'''\n",
    "    return a+b\n",
    "\n",
    "print(add(3,4))"
   ]
  },
  {
   "cell_type": "code",
   "execution_count": null,
   "metadata": {},
   "outputs": [],
   "source": []
  },
  {
   "cell_type": "code",
   "execution_count": 14,
   "metadata": {},
   "outputs": [
    {
     "ename": "SyntaxError",
     "evalue": "invalid syntax (150302374.py, line 2)",
     "output_type": "error",
     "traceback": [
      "\u001b[1;36m  Input \u001b[1;32mIn [14]\u001b[1;36m\u001b[0m\n\u001b[1;33m    excercise 1\u001b[0m\n\u001b[1;37m              ^\u001b[0m\n\u001b[1;31mSyntaxError\u001b[0m\u001b[1;31m:\u001b[0m invalid syntax\n"
     ]
    }
   ],
   "source": [
    "#9\n",
    "# excercise 1 decorators\n"
   ]
  },
  {
   "cell_type": "code",
   "execution_count": 16,
   "metadata": {},
   "outputs": [
    {
     "name": "stdout",
     "output_type": "stream",
     "text": [
      "this is line one\n",
      "x is equal to 5\n",
      "this is line two\n",
      "0.0\n"
     ]
    }
   ],
   "source": [
    "import time\n",
    "\n",
    "\n",
    "t1=time.time()\n",
    "\n",
    "print(\"this is line one\")\n",
    "x=5 \n",
    "if x == 5:\n",
    "    print('x is equal to 5')\n",
    "print('this is line two')\n",
    "print('this is line two')\n",
    "print('this is line two')\n",
    "print('this is line two')\n",
    "\n",
    "t2=time.time()\n",
    "print(t2-t1)\n",
    "\n",
    "\n",
    "\n",
    "\n",
    "\n",
    "# @calculate_time\n",
    "# def func():\n",
    "#     print(\"this is function\")\n",
    "\n",
    "# func()\n",
    "\n",
    "## this function took 3 sec to run\n",
    "\n",
    "\n",
    "#declar decorator calculate_time that will specify the time taken to run function"
   ]
  },
  {
   "cell_type": "code",
   "execution_count": 17,
   "metadata": {},
   "outputs": [
    {
     "name": "stdout",
     "output_type": "stream",
     "text": [
      "this is function\n",
      "this is function\n",
      "this is function\n",
      "this is function\n",
      "this is function\n",
      "this is function\n",
      "this is function\n",
      "this is function\n",
      "time taken to run the function: 0.0 sec\n"
     ]
    }
   ],
   "source": [
    "import time\n",
    "from functools import wraps\n",
    "\n",
    "def calculate_time(any_function):\n",
    "    @wraps(any_function)\n",
    "    def wrapper_function(*args,**kwargs):\n",
    "        return any_function(*args,**kwargs)\n",
    "    return wrapper_function\n",
    "\n",
    "@calculate_time\n",
    "def func():\n",
    "    t1 = time.time()\n",
    "    print(\"this is function\")\n",
    "    print(\"this is function\")\n",
    "    print(\"this is function\")\n",
    "    print(\"this is function\")\n",
    "    print(\"this is function\")\n",
    "    print(\"this is function\")\n",
    "    print(\"this is function\")\n",
    "    print(\"this is function\")\n",
    "    t2=time.time()\n",
    "    return t2-t1\n",
    "\n",
    "print(f\"time taken to run the function: {func()} sec\")\n"
   ]
  },
  {
   "cell_type": "code",
   "execution_count": 23,
   "metadata": {},
   "outputs": [
    {
     "name": "stdout",
     "output_type": "stream",
     "text": [
      "this is function\n",
      "this is function\n",
      "this is function\n",
      "this is function\n",
      "this is function\n",
      "this is function\n",
      "this is function\n",
      "this is function\n",
      "time taken to run the function: 0.0 sec\n",
      "time taken to run the function: 0.0 sec\n"
     ]
    }
   ],
   "source": [
    "#or \n",
    "import time\n",
    "from functools import wraps\n",
    "\n",
    "def calculate_time(any_function):\n",
    "    @wraps(any_function)\n",
    "    def wrapper_function(*args,**kwargs):\n",
    "        t1=time.time()\n",
    "        returned_function=any_function(*args,**kwargs)\n",
    "        t2=time.time()\n",
    "        return t2-t1\n",
    "    return wrapper_function\n",
    "\n",
    "@calculate_time\n",
    "def func():\n",
    "    print(\"this is function\")\n",
    "    print(\"this is function\")\n",
    "    print(\"this is function\")\n",
    "    print(\"this is function\")\n",
    "    print(\"this is function\")\n",
    "    print(\"this is function\")\n",
    "    print(\"this is function\")\n",
    "    print(\"this is function\")\n",
    "    \n",
    "@calculate_time\n",
    "def add(a):\n",
    "    sum=0\n",
    "    for i in a:\n",
    "        sum+=i\n",
    "    return sum\n",
    "\n",
    "\n",
    "print(f\"time taken to run the function: {func()} sec\")\n",
    "\n",
    "print(f\"time taken to run the function: {add([2,1000,39,20,403,40])} sec\")"
   ]
  },
  {
   "cell_type": "code",
   "execution_count": null,
   "metadata": {},
   "outputs": [],
   "source": []
  }
 ],
 "metadata": {
  "kernelspec": {
   "display_name": "Python 3",
   "language": "python",
   "name": "python3"
  },
  "language_info": {
   "codemirror_mode": {
    "name": "ipython",
    "version": 3
   },
   "file_extension": ".py",
   "mimetype": "text/x-python",
   "name": "python",
   "nbconvert_exporter": "python",
   "pygments_lexer": "ipython3",
   "version": "3.11.4"
  },
  "orig_nbformat": 4
 },
 "nbformat": 4,
 "nbformat_minor": 2
}
