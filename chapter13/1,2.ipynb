{
 "cells": [
  {
   "cell_type": "code",
   "execution_count": null,
   "metadata": {},
   "outputs": [],
   "source": [
    "#1\n",
    "#enumerate function "
   ]
  },
  {
   "cell_type": "code",
   "execution_count": 1,
   "metadata": {},
   "outputs": [
    {
     "name": "stdout",
     "output_type": "stream",
     "text": [
      "0 ---> abc\n",
      "1 ---> asdf\n",
      "2 ---> fdsadd\n"
     ]
    }
   ],
   "source": [
    "# how we can do this without enumerate function\n",
    "\n",
    "names=['abc','asdf','fdsadd']\n",
    "pos=0\n",
    "for name in names:\n",
    "    print(f\"{pos} ---> {name}\")\n",
    "    pos+=1\n"
   ]
  },
  {
   "cell_type": "code",
   "execution_count": 3,
   "metadata": {},
   "outputs": [
    {
     "name": "stdout",
     "output_type": "stream",
     "text": [
      "(0, 'abc')\n",
      "(1, 'asdf')\n",
      "(2, 'fdsadd')\n"
     ]
    }
   ],
   "source": [
    "# with enumerate function \n",
    "names=['abc','asdf','fdsadd']\n",
    "for pos , name in enumerate(names):\n",
    "    print(f\"{pos} ---> {name}\")"
   ]
  },
  {
   "cell_type": "code",
   "execution_count": 5,
   "metadata": {},
   "outputs": [
    {
     "name": "stdout",
     "output_type": "stream",
     "text": [
      "(0, 'abc')\n",
      "(1, 'asdf')\n",
      "(2, 'fdsadd')\n"
     ]
    }
   ],
   "source": [
    "#enumerate function returning tuple (position,element)\n",
    "names=['abc','asdf','fdsadd']\n",
    "for name in enumerate(names):\n",
    "    print(f\"{name}\")"
   ]
  },
  {
   "cell_type": "code",
   "execution_count": 12,
   "metadata": {},
   "outputs": [
    {
     "name": "stdout",
     "output_type": "stream",
     "text": [
      "3\n",
      "-1\n"
     ]
    }
   ],
   "source": [
    "#practice\n",
    "\n",
    "def func(sl,s):\n",
    "    for pos,i in enumerate(sl):\n",
    "        if i == s:\n",
    "            return (f\"{pos}\")\n",
    "    return -1\n",
    "\n",
    "sl=[\"abc\",\"asdf\",\"harshit\",\"mudit\"]\n",
    "print(func(sl,\"mudit\"))\n",
    "print(func(sl,\"gfg\"))"
   ]
  },
  {
   "cell_type": "code",
   "execution_count": null,
   "metadata": {},
   "outputs": [],
   "source": []
  },
  {
   "cell_type": "code",
   "execution_count": null,
   "metadata": {},
   "outputs": [],
   "source": [
    "#2 \n",
    "# map function"
   ]
  },
  {
   "cell_type": "code",
   "execution_count": 18,
   "metadata": {},
   "outputs": [
    {
     "name": "stdout",
     "output_type": "stream",
     "text": [
      "[1, 4, 9, 16, 25]\n",
      "[1, 4, 9, 16, 25]\n",
      "[1, 4, 9, 16, 25]\n",
      "[1, 4, 9, 16, 25]\n"
     ]
    }
   ],
   "source": [
    "numbers=[1,2,3,4,5]\n",
    "\n",
    "#to create list of squares of numbers\n",
    "#eg: [square(1),square(2), ... ]\n",
    "\n",
    "\n",
    "def square(a):\n",
    "    return a**2\n",
    "\n",
    "#using simple itration \n",
    "numbers=[1,2,3,4,5]\n",
    "new_list=[]\n",
    "for num in numbers:\n",
    "    new_list.append(square(num))\n",
    "print(new_list)\n",
    "\n",
    "#using liskt comprehension \n",
    "square_list=[i**2 for i in numbers]\n",
    "print(square_list)\n",
    "\n",
    "#using map fuction \n",
    "new_squares=list(map(square,numbers))\n",
    "print(new_squares)\n",
    "\n",
    "# using map and lambda function\n",
    "new_squares=list(map(lambda a:a**2,numbers))\n",
    "print(new_squares)\n"
   ]
  },
  {
   "cell_type": "code",
   "execution_count": 23,
   "metadata": {},
   "outputs": [
    {
     "name": "stdout",
     "output_type": "stream",
     "text": [
      "3\n",
      "4\n",
      "7\n",
      "5\n",
      "\n",
      "3\n",
      "4\n",
      "7\n",
      "5\n",
      "3\n",
      "4\n",
      "7\n",
      "5\n"
     ]
    }
   ],
   "source": [
    "#can itrate over map object but only once \n",
    "\n",
    "names=[\"abc\",'abcd',\"harshit\",'mudit']\n",
    "\n",
    "length=map(len,names)\n",
    "for i in length:\n",
    "    print(i)\n",
    "\n",
    "for j in length:\n",
    "    print(j)\n",
    "\n",
    "print()\n",
    "\n",
    "#convert into list to iteratr repeatidly through map object\n",
    "len_list=list(map(len,names))\n",
    "for i in len_list:\n",
    "    print(i)\n",
    "    \n",
    "for j in len_list:\n",
    "    print(j)"
   ]
  },
  {
   "cell_type": "code",
   "execution_count": null,
   "metadata": {},
   "outputs": [],
   "source": []
  },
  {
   "cell_type": "code",
   "execution_count": null,
   "metadata": {},
   "outputs": [],
   "source": []
  }
 ],
 "metadata": {
  "kernelspec": {
   "display_name": "base",
   "language": "python",
   "name": "python3"
  },
  "language_info": {
   "codemirror_mode": {
    "name": "ipython",
    "version": 3
   },
   "file_extension": ".py",
   "mimetype": "text/x-python",
   "name": "python",
   "nbconvert_exporter": "python",
   "pygments_lexer": "ipython3",
   "version": "3.9.12"
  },
  "orig_nbformat": 4
 },
 "nbformat": 4,
 "nbformat_minor": 2
}
