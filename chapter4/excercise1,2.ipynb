{
 "cells": [
  {
   "cell_type": "code",
   "execution_count": null,
   "metadata": {},
   "outputs": [],
   "source": [
    "#1\n",
    "\n",
    "'''define a function which takes \n",
    "two numbers as a input and return greater of two numbers'''\n",
    "\n",
    "def greater(a,b):\n",
    "    if a>b:\n",
    "        return a\n",
    "    return b\n",
    "\n",
    "print(greater(5,5))\n"
   ]
  },
  {
   "cell_type": "code",
   "execution_count": null,
   "metadata": {},
   "outputs": [],
   "source": [
    "#2\n",
    "\n",
    "'''exercise 2\n",
    "define is_palindrome function that take one word in string as input\n",
    "and return True if it is pallindrome else return False\n",
    "\n",
    "palindrome- word that reads same backward as forward\n",
    "\n",
    "#example \n",
    "is_palindrome(\"madam\") ----> True \n",
    "is _palindrome(\"naman\") -----> True\n",
    "is_palindrome(\"horse\") ---> False\n",
    "\n",
    "\n",
    "#logic (algorithm)\n",
    "step1 - reverse the string \n",
    "step2 - compare reversed string with original string\n",
    "'''\n",
    "\n",
    "\n",
    "def is_palindrome(str):\n",
    "    if str == str[::-1]:\n",
    "        return True\n",
    "    return False\n",
    "\n",
    "\n",
    "print(is_palindrome(\"naman\"))\n",
    "print(is_palindrome(\"horse\"))\n",
    "\n",
    "\n",
    "#or (short ans.)\n",
    "def is_palindrome(str):\n",
    "    return str == str[::-1]  #trur or false\n",
    "\n",
    "\n",
    "print(is_palindrome(\"naman\"))\n",
    "\n",
    "\n",
    "\n",
    "\n",
    "#or (explained ans.) \n",
    "def is_palindrome(str):\n",
    "    reverseString=str[::-1]\n",
    "    if str == reverseString:\n",
    "        return True\n",
    "    else:\n",
    "        return False\n",
    "\n",
    "print(is_palindrome(\"naman\"))\n",
    "print(is_palindrome(\"horse\"))\n",
    "\n"
   ]
  }
 ],
 "metadata": {
  "language_info": {
   "name": "python"
  }
 },
 "nbformat": 4,
 "nbformat_minor": 2
}
