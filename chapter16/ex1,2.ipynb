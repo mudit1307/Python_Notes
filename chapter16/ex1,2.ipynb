{
 "cells": [
  {
   "cell_type": "code",
   "execution_count": null,
   "metadata": {},
   "outputs": [],
   "source": [
    "#create a laptop class with attributes like brand name , model name ,price \n",
    "#create two objects/instance of your laptop class \n"
   ]
  },
  {
   "cell_type": "code",
   "execution_count": 3,
   "metadata": {},
   "outputs": [
    {
     "name": "stdout",
     "output_type": "stream",
     "text": [
      "dell 43i 23453\n",
      "hp 12i 32422\n"
     ]
    }
   ],
   "source": [
    "class Laptop:\n",
    "    def __init__(self,brand_name,model,price):\n",
    "        #instance variables\n",
    "       self.brand_name=brand_name\n",
    "       self.model=model\n",
    "       self.price=price\n",
    "\n",
    "l1=Laptop('dell','43i',23453)\n",
    "l2=Laptop('hp','12i',32422) \n",
    "\n",
    "print(l1.brand_name,l1.model,l1.price)\n",
    "print(l2.brand_name,l2.model,l2.price)"
   ]
  },
  {
   "cell_type": "code",
   "execution_count": 7,
   "metadata": {},
   "outputs": [
    {
     "name": "stdout",
     "output_type": "stream",
     "text": [
      "dell 43i 23453\n",
      "dell43i\n",
      "hp 12i 32422\n"
     ]
    }
   ],
   "source": [
    "class Laptop:\n",
    "    def __init__(self,brand_name,model,price):\n",
    "        #instance variables\n",
    "       self.brand_name=brand_name\n",
    "       self.model=model\n",
    "       self.price=price\n",
    "       self.laptop_name=brand_name+' '+model\n",
    "\n",
    "l1=Laptop('dell','43i',23453)\n",
    "l2=Laptop('hp','12i',32422) \n",
    "\n",
    "\n",
    "print(l1.brand_name,l1.model,l1.price)\n",
    "print(l1.laptop_name)\n",
    "print(l2.brand_name,l2.model,l2.price)"
   ]
  },
  {
   "cell_type": "code",
   "execution_count": null,
   "metadata": {},
   "outputs": [],
   "source": [
    "#exercise 2\n",
    "#define method in class laptop\n",
    "#example apply_discount();\n"
   ]
  },
  {
   "cell_type": "code",
   "execution_count": null,
   "metadata": {},
   "outputs": [],
   "source": [
    "class Laptop:\n",
    "    def __init__(self,brand_name,model,price):\n",
    "        #instance variables\n",
    "       self.brand_name=brand_name\n",
    "       self.model=model\n",
    "       self.price=price\n",
    "       self.laptop_name=brand_name+model\n",
    "\n",
    "    def apply_disount(self,per):\n",
    "        return self.price - (self.price*per/100)\n",
    "\n",
    "l1=Laptop('dell','43i',23453)\n",
    "l2=Laptop('hp','12i',32422) \n",
    "\n",
    "\n",
    "print(l1.apply_disount(10))\n",
    "\n"
   ]
  }
 ],
 "metadata": {
  "kernelspec": {
   "display_name": "Python 3.10.5 64-bit",
   "language": "python",
   "name": "python3"
  },
  "language_info": {
   "codemirror_mode": {
    "name": "ipython",
    "version": 3
   },
   "file_extension": ".py",
   "mimetype": "text/x-python",
   "name": "python",
   "nbconvert_exporter": "python",
   "pygments_lexer": "ipython3",
   "version": "3.10.5"
  },
  "orig_nbformat": 4,
  "vscode": {
   "interpreter": {
    "hash": "bbdb4b97aed41b82c12a1e891d9d884cd5c65204befe9df6e94a0a7f3a53eff4"
   }
  }
 },
 "nbformat": 4,
 "nbformat_minor": 2
}
