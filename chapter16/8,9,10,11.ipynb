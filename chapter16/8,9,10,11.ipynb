{
 "cells": [
  {
   "cell_type": "code",
   "execution_count": null,
   "metadata": {},
   "outputs": [],
   "source": [
    "#8 \n",
    "# oop -class methods"
   ]
  },
  {
   "cell_type": "code",
   "execution_count": null,
   "metadata": {},
   "outputs": [],
   "source": [
    "#class methods \n",
    "# difference between class methods and instance methods  \n",
    "# class variables = class attributes"
   ]
  },
  {
   "cell_type": "code",
   "execution_count": 7,
   "metadata": {},
   "outputs": [
    {
     "name": "stdout",
     "output_type": "stream",
     "text": [
      "you have created 3 instances of Person class\n",
      "you have created 3 instances of Person class\n"
     ]
    }
   ],
   "source": [
    "class Person:\n",
    "    count_instance=0     #class variable/class attribute \n",
    "    def __init__(self,first_name,last_name,age):\n",
    "        Person.count_instance+=1\n",
    "        self.first_name=first_name\n",
    "        self.last_name=last_name\n",
    "        self.age=age\n",
    "    @classmethod\n",
    "    def count_instances(cls):\n",
    "        # return f'you have created {cls.count_instance} instances of Person class'\n",
    "        return f'you have created {cls.count_instance} instances of {cls.__name__} class'\n",
    "\n",
    "    def full_name(self):     #instace method\n",
    "        return f\"{self.first_name} {self.last_name}\"\n",
    "    \n",
    "    def is_above_18(self):     #instace method\n",
    "        return self.age > 18\n",
    "\n",
    "p1 = Person('harshit','vas',10)\n",
    "p2 =Person('harsh','kas',39)\n",
    "p3 =Person('harsh','kas',39)\n",
    "\n",
    "print(Person.count_instances())\n",
    "\n",
    "#can access class method using obj  (but is not a correct practice)\n",
    "print(p1.count_instances())"
   ]
  },
  {
   "cell_type": "code",
   "execution_count": null,
   "metadata": {},
   "outputs": [],
   "source": []
  },
  {
   "cell_type": "code",
   "execution_count": null,
   "metadata": {},
   "outputs": [],
   "source": [
    "#9\n",
    "# class method as a constructor"
   ]
  },
  {
   "cell_type": "code",
   "execution_count": 3,
   "metadata": {},
   "outputs": [
    {
     "name": "stdout",
     "output_type": "stream",
     "text": [
      "rishi viska\n"
     ]
    }
   ],
   "source": [
    "class Person:\n",
    "    count_instance=0     #class variable/class attribute \n",
    "    def __init__(self,first_name,last_name,age):\n",
    "        Person.count_instance+=1\n",
    "        self.first_name=first_name\n",
    "        self.last_name=last_name\n",
    "        self.age=age\n",
    "\n",
    "    #  class constructor   \n",
    "    @classmethod\n",
    "    def from_string(cls,string):\n",
    "        first,last,age = string.split(\",\")\n",
    "        return cls(first,last,age)\n",
    "\n",
    "    @classmethod\n",
    "    def count_instances(cls):\n",
    "        # return f'you have created {cls.count_instance} instances of Person class'\n",
    "        return f'you have created {cls.count_instance} instances of {cls.__name__} class'\n",
    "\n",
    "    def full_name(self):     #instace method\n",
    "        return f\"{self.first_name} {self.last_name}\"\n",
    "    \n",
    "    def is_above_18(self):     #instace method\n",
    "        return self.age > 18\n",
    "\n",
    "p1 = Person('harshit','vas',10)\n",
    "p2 =Person('harsh','kas',39)\n",
    "\n",
    "\n",
    "# can't do this way as it will call init method\n",
    "# p3 =Person(\"harish,viska,30\")\n",
    "\n",
    "p3 =Person.from_string(\"rishi,viska,30\")\n",
    "print(p3.full_name())"
   ]
  },
  {
   "cell_type": "code",
   "execution_count": null,
   "metadata": {},
   "outputs": [],
   "source": []
  },
  {
   "cell_type": "code",
   "execution_count": null,
   "metadata": {},
   "outputs": [],
   "source": [
    "#10\n",
    "# static method\n",
    "# has no relation with class or its instance\n",
    "# static method is like normal function - and has logical connection with class"
   ]
  },
  {
   "cell_type": "code",
   "execution_count": 5,
   "metadata": {},
   "outputs": [
    {
     "name": "stdout",
     "output_type": "stream",
     "text": [
      "rishi viska\n",
      "hello, static method called\n"
     ]
    }
   ],
   "source": [
    "class Person:\n",
    "    count_instance=0     #class variable/class attribute \n",
    "\n",
    "    def __init__(self,first_name,last_name,age):\n",
    "        Person.count_instance+=1\n",
    "        self.first_name=first_name\n",
    "        self.last_name=last_name\n",
    "        self.age=age\n",
    "\n",
    "    #  class constructor   \n",
    "    @classmethod\n",
    "    def from_string(cls,string):\n",
    "        first,last,age = string.split(\",\")\n",
    "        return cls(first,last,age)\n",
    "\n",
    "    @classmethod\n",
    "    def count_instances(cls):\n",
    "        return f'you have created {cls.count_instance} instances of {cls.__name__} class'\n",
    "    \n",
    "    #static method \n",
    "    @staticmethod\n",
    "    def hello():\n",
    "        print(\"hello, static method called\")\n",
    "\n",
    "    def full_name(self):     #instace method\n",
    "        return f\"{self.first_name} {self.last_name}\"\n",
    "    \n",
    "    def is_above_18(self):     #instace method\n",
    "        return self.age > 18\n",
    "\n",
    "p1 = Person('harshit','vas',10)\n",
    "p2 =Person('harsh','kas',39)\n",
    "\n",
    "\n",
    "p3 =Person.from_string(\"rishi,viska,30\")\n",
    "print(p3.full_name())\n",
    "Person.hello()"
   ]
  },
  {
   "cell_type": "code",
   "execution_count": null,
   "metadata": {},
   "outputs": [],
   "source": []
  },
  {
   "cell_type": "code",
   "execution_count": null,
   "metadata": {},
   "outputs": [],
   "source": [
    "#11\n",
    "# encapsulation, abstraction , naming conventions, name mangling\n",
    "\n",
    "\n",
    "# in this video we will talk about \n",
    "# encapsulation \n",
    "# abstraction\n",
    "# some special naming convention\n",
    "# name mangling"
   ]
  },
  {
   "cell_type": "code",
   "execution_count": null,
   "metadata": {},
   "outputs": [],
   "source": [
    "# fundamental  step of oop - encapsulation\n",
    "# writing of related data in one place inside a class is encapusulation \n",
    "\n",
    "class Phone:\n",
    "    def __init__(self,brand,model_name,price): \n",
    "        self.brand=brand\n",
    "        self.modle_name =model_name\n",
    "        self.price =price\n",
    "    \n",
    "    def make_a_call(self,phone_number):\n",
    "        print(f\"calling {phone_number} ...\")\n",
    "    \n",
    "    def full_name(self):\n",
    "        return f\"{self.brand} {self.model_name}\" \n",
    "    \n",
    "    def send_message(self):\n",
    "        pass\n",
    "\n"
   ]
  },
  {
   "cell_type": "code",
   "execution_count": 1,
   "metadata": {},
   "outputs": [
    {
     "name": "stdout",
     "output_type": "stream",
     "text": [
      "[1, 2, 3, 4]\n"
     ]
    }
   ],
   "source": [
    "# abstraction  -hide complexity \n",
    "\n",
    "l=[3,2,4,1]\n",
    "l.sort()   #tim sort\n",
    "print(l)\n",
    "\n",
    "# without encapsulation their is no abstraction"
   ]
  },
  {
   "cell_type": "code",
   "execution_count": 1,
   "metadata": {},
   "outputs": [
    {
     "name": "stdout",
     "output_type": "stream",
     "text": [
      "1000\n"
     ]
    }
   ],
   "source": [
    "# special naming convention \n",
    "\n",
    "# python has everything public in their class\n",
    "# _name   naming convention for private name (not actually private just treated like private)\n",
    "#__name__    #dunder methods ,magic methods  or double underscore methods\n",
    " \n",
    "\n",
    "class Phone:\n",
    "    def __init__(self,brand,model_name,price): \n",
    "        self.brand=brand\n",
    "        self.modle_name =model_name\n",
    "        self._price =price\n",
    "    \n",
    "    def make_a_call(self,phone_number):\n",
    "        print(f\"calling {phone_number} ...\")\n",
    "    \n",
    "    def full_name(self):\n",
    "        return f\"{self.brand} {self.model_name}\" \n",
    "    \n",
    "    def send_message(self):\n",
    "        pass\n",
    "\n",
    "phone1 = Phone('nokia','1100',1000)\n",
    "print(phone1._price)\n",
    "\n",
    "\n",
    "# can change price \n",
    "# private variable but we can change value of it \n",
    "# (it's an illegal move as per convention) - don't do it\n",
    "\n",
    "# phone1._price=2000\n",
    "# print(phone1._price)"
   ]
  },
  {
   "cell_type": "code",
   "execution_count": 10,
   "metadata": {},
   "outputs": [
    {
     "name": "stdout",
     "output_type": "stream",
     "text": [
      "{'brand': 'nokia', 'modle_name': '1100', '_Phone__price': 1000}\n",
      "1000\n",
      "20\n"
     ]
    }
   ],
   "source": [
    "# name mangling  , __name   (not a convention)\n",
    "\n",
    "\n",
    "class Phone:\n",
    "    def __init__(self,brand,model_name,price): \n",
    "        self.brand=brand\n",
    "        self.modle_name =model_name\n",
    "        self.__price =price\n",
    "    \n",
    "    def make_a_call(self,phone_number):\n",
    "        print(f\"calling {phone_number} ...\")\n",
    "    \n",
    "    def full_name(self):\n",
    "        return f\"{self.brand} {self.model_name}\" \n",
    "    \n",
    "    def send_message(self):\n",
    "        pass\n",
    "\n",
    "phone1 = Phone('nokia','1100',1000)\n",
    "\n",
    "\n",
    "# print(phone1.__price)    #show error \n",
    "\n",
    "print(phone1.__dict__)\n",
    "\n",
    "print(phone1._Phone__price)\n",
    "\n",
    "#can change value as well\n",
    "phone1._Phone__price = 20\n",
    "\n",
    "print(phone1._Phone__price)\n",
    "\n"
   ]
  },
  {
   "cell_type": "code",
   "execution_count": null,
   "metadata": {},
   "outputs": [],
   "source": []
  }
 ],
 "metadata": {
  "kernelspec": {
   "display_name": "Python 3",
   "language": "python",
   "name": "python3"
  },
  "language_info": {
   "codemirror_mode": {
    "name": "ipython",
    "version": 3
   },
   "file_extension": ".py",
   "mimetype": "text/x-python",
   "name": "python",
   "nbconvert_exporter": "python",
   "pygments_lexer": "ipython3",
   "version": "3.11.4"
  },
  "orig_nbformat": 4
 },
 "nbformat": 4,
 "nbformat_minor": 2
}
