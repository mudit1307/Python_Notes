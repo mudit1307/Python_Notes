{
 "cells": [
  {
   "cell_type": "code",
   "execution_count": 1,
   "metadata": {},
   "outputs": [
    {
     "name": "stdout",
     "output_type": "stream",
     "text": [
      "25.12\n"
     ]
    }
   ],
   "source": [
    "class Circle:\n",
    "    def __init__(self ,radius,pi):\n",
    "        self.radius=radius\n",
    "        self.pi=pi\n",
    "    def calc_circumference(self):\n",
    "        return 2*self.radius*self.pi\n",
    "\n",
    "c=Circle(4,3.14)\n",
    "c1=Circle(5,3.14)\n",
    "print(c.calc_circumference())"
   ]
  },
  {
   "cell_type": "code",
   "execution_count": 3,
   "metadata": {},
   "outputs": [
    {
     "name": "stdout",
     "output_type": "stream",
     "text": [
      "25.12\n"
     ]
    }
   ],
   "source": [
    "# circle class \n",
    "# area \n",
    "# circumference\n",
    "\n",
    "class Circle:\n",
    "    pi=3.14             #class variable\n",
    "    def __init__(self ,radius):\n",
    "        self.radius=radius\n",
    "        \n",
    "    def calc_circumference(self):\n",
    "        return 2*self.radius*Circle.pi\n",
    "\n",
    "c=Circle(4)\n",
    "c1=Circle(5)\n",
    "print(c.calc_circumference())"
   ]
  },
  {
   "cell_type": "code",
   "execution_count": 6,
   "metadata": {},
   "outputs": [
    {
     "name": "stdout",
     "output_type": "stream",
     "text": [
      "56700.0\n"
     ]
    }
   ],
   "source": [
    "#example\n",
    "class Laptop: \n",
    "    discount_percent=10 \n",
    "    def __init__(self,brand,model_name,price):\n",
    "        #instance variables\n",
    "        self.brand=brand\n",
    "        self.model_name=model_name\n",
    "        self.price=price\n",
    "        self.laptop_name=brand+ \" \"+ model_name\n",
    "    def apply_discount(self):\n",
    "        off_price=(Laptop.discount_percent/100)*self.price\n",
    "        return self.price - off_price\n",
    "\n",
    "laptop1=Laptop('hp','au114tx',63000)\n",
    "laptop2=Laptop('apple','mackbook pro',230000)\n",
    "print(laptop1.apply_discount())"
   ]
  },
  {
   "cell_type": "code",
   "execution_count": null,
   "metadata": {},
   "outputs": [],
   "source": []
  },
  {
   "cell_type": "code",
   "execution_count": null,
   "metadata": {},
   "outputs": [],
   "source": []
  },
  {
   "cell_type": "code",
   "execution_count": 4,
   "metadata": {},
   "outputs": [
    {
     "name": "stdout",
     "output_type": "stream",
     "text": [
      "56700.0\n",
      "all laptop on 10% discout rate is 56700.0\n",
      "63000.0\n",
      "laptop without discout rate is 63000.0\n",
      "0.0\n",
      "all laptop  on 100% discout rate is 0.0\n"
     ]
    }
   ],
   "source": [
    "#5\n",
    "#class variable part-2\n",
    "\n",
    "class Laptop: \n",
    "    discount_percent=10 \n",
    "    def __init__(self,brand,model_name,price):\n",
    "        #instance variables\n",
    "        self.brand=brand\n",
    "        self.model_name=model_name\n",
    "        self.price=price\n",
    "        self.laptop_name=brand+ \" \"+ model_name\n",
    "    def apply_discount(self):\n",
    "        off_price=(Laptop.discount_percent/100)*self.price\n",
    "        return self.price - off_price\n",
    "\n",
    "laptop1=Laptop('hp','au114tx',63000)\n",
    "laptop2=Laptop('apple','mackbook pro',230000)\n",
    "\n",
    "print(laptop1.apply_discount())\n",
    "print(f\"all laptop on 10% discout rate is {laptop1.apply_discount()}\")\n",
    "\n",
    "#laptop sale over\n",
    "\n",
    "Laptop.discount_percent=0\n",
    "print(laptop1.apply_discount())\n",
    "print(f\"laptop without discout rate is {laptop1.apply_discount()}\")\n",
    "\n",
    "\n",
    "Laptop.discount_percent=100\n",
    "print(laptop1.apply_discount())\n",
    "print(f\"all laptop  on 100% discout rate is {laptop1.apply_discount()}\")"
   ]
  },
  {
   "cell_type": "code",
   "execution_count": 7,
   "metadata": {},
   "outputs": [
    {
     "name": "stdout",
     "output_type": "stream",
     "text": [
      "56700.0\n",
      "all laptop on 10% discout rate is 56700.0\n",
      "{'brand': 'hp', 'model_name': 'au114tx', 'price': 63000, 'laptop_name': 'hp au114tx'}\n"
     ]
    }
   ],
   "source": [
    "class Laptop: \n",
    "    discount_percent=10 \n",
    "    def __init__(self,brand,model_name,price):\n",
    "        #instance variables\n",
    "        self.brand=brand\n",
    "        self.model_name=model_name\n",
    "        self.price=price\n",
    "        self.laptop_name=brand+ \" \"+ model_name\n",
    "    def apply_discount(self):\n",
    "        off_price=(Laptop.discount_percent/100)*self.price\n",
    "        return self.price - off_price\n",
    "\n",
    "laptop1=Laptop('hp','au114tx',63000)\n",
    "laptop2=Laptop('apple','mackbook pro',230000)\n",
    "\n",
    "print(laptop1.apply_discount())\n",
    "print(f\"all laptop on 10% discout rate is {laptop1.apply_discount()}\")\n",
    "\n",
    "# to check all variable of laptop \n",
    "print(laptop1.__dict__)\n",
    "\n"
   ]
  },
  {
   "cell_type": "code",
   "execution_count": 11,
   "metadata": {},
   "outputs": [
    {
     "name": "stdout",
     "output_type": "stream",
     "text": [
      "{'brand': 'apple', 'model_name': 'mackbook pro', 'price': 230000, 'laptop_name': 'apple mackbook pro', 'discount_percent': 50}\n",
      "115000.0\n",
      "56700.0\n",
      "all laptop2 on 10% discout rate is 56700.0\n"
     ]
    }
   ],
   "source": [
    "class Laptop: \n",
    "    discount_percent=10 \n",
    "    def __init__(self,brand,model_name,price):\n",
    "        #instance variables\n",
    "        self.brand=brand\n",
    "        self.model_name=model_name\n",
    "        self.price=price\n",
    "        self.laptop_name=brand+ \" \"+ model_name\n",
    "    def apply_discount(self):\n",
    "        off_price=(self.discount_percent/100)*self.price\n",
    "        return self.price - off_price\n",
    "\n",
    "laptop1=Laptop('hp','au114tx',63000)\n",
    "\n",
    "laptop2=Laptop('apple','mackbook pro',230000)\n",
    "laptop2.discount_percent=50\n",
    "print(laptop2.__dict__)\n",
    "print(laptop2.apply_discount())\n",
    "\n",
    "print(laptop1.apply_discount())\n",
    "print(f\"all laptop2 on 10% discout rate is {laptop1.apply_discount()}\")"
   ]
  },
  {
   "cell_type": "code",
   "execution_count": null,
   "metadata": {},
   "outputs": [],
   "source": []
  },
  {
   "cell_type": "code",
   "execution_count": null,
   "metadata": {},
   "outputs": [],
   "source": [
    "#6        tutorial - 192\n",
    "# excercise 3"
   ]
  },
  {
   "cell_type": "code",
   "execution_count": 2,
   "metadata": {},
   "outputs": [],
   "source": [
    "# class Person:\n",
    "#     pass\n",
    "\n",
    "# p1=Person()\n",
    "# print(Person.count_instace)"
   ]
  },
  {
   "cell_type": "code",
   "execution_count": 4,
   "metadata": {},
   "outputs": [
    {
     "name": "stdout",
     "output_type": "stream",
     "text": [
      "2\n"
     ]
    }
   ],
   "source": [
    "class Person:\n",
    "    count_instance=0\n",
    "    def __init__(self, first_name,last_name, age):\n",
    "        self.firs_name=first_name\n",
    "        self.last_name=last_name\n",
    "        self.age=age\n",
    "        Person.count_instance+=1\n",
    "\n",
    "p1=Person('mdt','jain',20)\n",
    "p2=Person('rht','agr',30)\n",
    "\n",
    "print(Person.count_instance)"
   ]
  },
  {
   "cell_type": "code",
   "execution_count": null,
   "metadata": {},
   "outputs": [],
   "source": [
    "#7\n",
    "# solution"
   ]
  },
  {
   "cell_type": "code",
   "execution_count": 6,
   "metadata": {},
   "outputs": [
    {
     "name": "stdout",
     "output_type": "stream",
     "text": [
      "3\n"
     ]
    }
   ],
   "source": [
    "class Person: \n",
    "    count_instance=0\n",
    "    def __init__(self, first_name,last_name, age):\n",
    "        self.firs_name=first_name\n",
    "        self.last_name=last_name\n",
    "        self.age=age\n",
    "        Person.count_instance+=1\n",
    "\n",
    "p1=Person('harshit','vashit',27)\n",
    "p2=Person('harshit','vashit',27)\n",
    "p3=Person('harshit','vashit',27)\n",
    "print(Person.count_instance )"
   ]
  },
  {
   "cell_type": "code",
   "execution_count": null,
   "metadata": {},
   "outputs": [],
   "source": []
  },
  {
   "cell_type": "code",
   "execution_count": null,
   "metadata": {},
   "outputs": [],
   "source": []
  },
  {
   "cell_type": "code",
   "execution_count": null,
   "metadata": {},
   "outputs": [],
   "source": []
  },
  {
   "cell_type": "code",
   "execution_count": null,
   "metadata": {},
   "outputs": [],
   "source": []
  },
  {
   "cell_type": "code",
   "execution_count": null,
   "metadata": {},
   "outputs": [],
   "source": []
  }
 ],
 "metadata": {
  "kernelspec": {
   "display_name": "Python 3.10.5 64-bit",
   "language": "python",
   "name": "python3"
  },
  "language_info": {
   "codemirror_mode": {
    "name": "ipython",
    "version": 3
   },
   "file_extension": ".py",
   "mimetype": "text/x-python",
   "name": "python",
   "nbconvert_exporter": "python",
   "pygments_lexer": "ipython3",
   "version": "3.10.5"
  },
  "orig_nbformat": 4,
  "vscode": {
   "interpreter": {
    "hash": "bbdb4b97aed41b82c12a1e891d9d884cd5c65204befe9df6e94a0a7f3a53eff4"
   }
  }
 },
 "nbformat": 4,
 "nbformat_minor": 2
}
