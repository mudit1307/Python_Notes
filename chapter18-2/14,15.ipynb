{
 "cells": [
  {
   "cell_type": "code",
   "execution_count": null,
   "metadata": {},
   "outputs": [],
   "source": [
    "#14\n",
    "\n",
    "# dictwriter"
   ]
  },
  {
   "cell_type": "code",
   "execution_count": 10,
   "metadata": {},
   "outputs": [],
   "source": [
    "from csv import DictWriter\n",
    "\n",
    "with open('file14.csv','w') as f:\n",
    "    csv_writer=DictWriter(f, fieldnames=['first_name','last_name','age'])\n",
    "    csv_writer.writeheader()   # write head of csv file\n",
    "    # writerow ,writerows\n",
    "    csv_writer.writerow({\n",
    "        'first_name':\"mdt\",\n",
    "        'last_name': \"agr\",\n",
    "        'age':34\n",
    "    })\n",
    "    csv_writer.writerow({\n",
    "        'first_name':\"yash\",\n",
    "        'last_name': \"jain\",\n",
    "        'age':29\n",
    "    })\n"
   ]
  },
  {
   "cell_type": "code",
   "execution_count": 9,
   "metadata": {},
   "outputs": [],
   "source": [
    "from csv import DictWriter\n",
    "\n",
    "# to remove new/blank lines in csv file\n",
    "\n",
    "with open('file14_new.csv','w',newline =\"\") as f:\n",
    "    csv_writer=DictWriter(f, fieldnames=['first_name','last_name','age'])\n",
    "    csv_writer.writeheader()\n",
    "    #writerow ,writerows\n",
    "    csv_writer.writerow({\n",
    "        'first_name':\"mdt\",\n",
    "        'last_name': \"agr\",\n",
    "        'age':34\n",
    "    })\n",
    "    csv_writer.writerow({\n",
    "        'first_name':\"yash\",\n",
    "        'last_name': \"jain\",\n",
    "        'age':29\n",
    "    })"
   ]
  },
  {
   "cell_type": "code",
   "execution_count": 21,
   "metadata": {},
   "outputs": [],
   "source": [
    "from csv import DictWriter\n",
    "\n",
    "# to remove new lines in csv file\n",
    "\n",
    "with open('file14a.csv','w',newline =\"\") as f:\n",
    "    csv_writer=DictWriter(f, fieldnames=['first_name','last_name','age'])\n",
    "    csv_writer.writeheader()\n",
    "    # writerows ----> [dict,dict,dict]\n",
    "    csv_writer.writerows([{\n",
    "        'first_name':\"mdt\",\n",
    "        'last_name': \"agr\",\n",
    "        'age':34\n",
    "    },\n",
    "    {\n",
    "        'first_name':\"yash\",\n",
    "        'last_name': \"jain\",\n",
    "        'age':29\n",
    "    },{\n",
    "        'first_name':\"vikas\",\n",
    "        'last_name': \"samadhi\",\n",
    "        'age':30\n",
    "    }\n",
    "    ])"
   ]
  },
  {
   "cell_type": "code",
   "execution_count": null,
   "metadata": {},
   "outputs": [],
   "source": [
    "#15 \n",
    "# read and write csv file \n",
    "\n",
    "# read from one csv file and write to another csv file\n",
    "\n",
    "# reader ,dictreader\n",
    "# writer,dictwrite"
   ]
  },
  {
   "cell_type": "code",
   "execution_count": 34,
   "metadata": {},
   "outputs": [
    {
     "name": "stdout",
     "output_type": "stream",
     "text": [
      "{'first_name': 'mdt', 'last_name': 'agr', 'age': '34'}\n",
      "{'first_name': 'yash', 'last_name': 'jain', 'age': '29'}\n",
      "{'first_name': 'vikas', 'last_name': 'samadhi', 'age': '30'}\n"
     ]
    }
   ],
   "source": [
    "from csv import DictReader\n",
    "from csv import DictWriter\n",
    "\n",
    "with open('file15.csv','r') as rf:\n",
    "    with open('file15a.csv','w',newline=\"\")as wf:\n",
    "        csv_reader=list(DictReader(rf))\n",
    "        csv_writer=DictWriter(wf , fieldnames= list(csv_reader[0].keys()))\n",
    "        csv_writer.writeheader()\n",
    "        csv_writer.writerows(csv_reader)\n",
    "        \n",
    "\n",
    "        \n",
    "        "
   ]
  },
  {
   "cell_type": "code",
   "execution_count": 38,
   "metadata": {},
   "outputs": [],
   "source": [
    "# employee with salary more than 300 is added to new file\n",
    "\n",
    "from csv import DictReader,DictWriter\n",
    "\n",
    "with open('file15c.csv','r') as rf:\n",
    "    with open('file15d.csv','w',newline=\"\")as wf:\n",
    "        csv_reader=list(DictReader(rf))\n",
    "        csv_writer=DictWriter(wf , fieldnames= list(csv_reader[0].keys()))\n",
    "        csv_writer.writeheader()\n",
    "        csv_new=[line for line in csv_reader if int(line.get('salary')) >= 300]\n",
    "        csv_writer.writerows(csv_new)"
   ]
  }
 ],
 "metadata": {
  "kernelspec": {
   "display_name": "Python 3",
   "language": "python",
   "name": "python3"
  },
  "language_info": {
   "codemirror_mode": {
    "name": "ipython",
    "version": 3
   },
   "file_extension": ".py",
   "mimetype": "text/x-python",
   "name": "python",
   "nbconvert_exporter": "python",
   "pygments_lexer": "ipython3",
   "version": "3.10.5"
  },
  "orig_nbformat": 4
 },
 "nbformat": 4,
 "nbformat_minor": 2
}
