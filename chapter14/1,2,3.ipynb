{
 "cells": [
  {
   "cell_type": "code",
   "execution_count": null,
   "metadata": {},
   "outputs": [],
   "source": [
    "#1\n",
    "# intro"
   ]
  },
  {
   "cell_type": "code",
   "execution_count": 5,
   "metadata": {},
   "outputs": [
    {
     "name": "stdout",
     "output_type": "stream",
     "text": [
      "49\n",
      "49\n",
      "square\n",
      "square\n",
      "<function square at 0x000002178166F550>\n",
      "<function square at 0x000002178166F550>\n"
     ]
    }
   ],
   "source": [
    "# you have to have a complete understanding of functions,\n",
    "# first class function / closures\n",
    "# then finally we will learn about decorators \n",
    "\n",
    "def square(a):\n",
    "    return a**2 \n",
    "\n",
    "s=square(7)\n",
    "print(s)\n",
    "\n",
    "\n",
    "ss=square\n",
    "print(ss(7))\n",
    "\n",
    "print(ss.__name__)           #name gives the name of actual function\n",
    "\n",
    "print(square.__name__)\n",
    "\n",
    "print(ss)\n",
    "\n",
    "print(square)\n",
    "\n"
   ]
  },
  {
   "cell_type": "code",
   "execution_count": 1,
   "metadata": {},
   "outputs": [
    {
     "name": "stdout",
     "output_type": "stream",
     "text": [
      "[1, 4, 9, 16]\n",
      "[1, 4, 9, 16]\n",
      "\n",
      "[1, 4, 9, 16]\n",
      "[1, 8, 27, 64]\n",
      "\n",
      "[1, 4, 9, 16]\n"
     ]
    }
   ],
   "source": [
    "#2 \n",
    "# pass function as a argument\n",
    "\n",
    "#map\n",
    "def square(a):\n",
    "    return a**2\n",
    "\n",
    "l=[1,2,3,4]\n",
    "print(list(map(square,l)))\n",
    "\n",
    "print(list(map(lambda item: item**2,l)))\n",
    "print()\n",
    "\n",
    "\n",
    "#passing function as argument to function \n",
    "def my_map(func , l):\n",
    "    new_list=[]\n",
    "    for item in l:\n",
    "        new_list.append(func(item))\n",
    "    return new_list\n",
    "\n",
    "print(my_map(square,l))\n",
    "\n",
    "print(my_map(lambda item: item**3 , l))\n",
    "\n",
    "print()\n",
    "\n",
    "#or (fuction making use of list comprehension )\n",
    "def my_map2(func , l):\n",
    "    return [func(item) for item in l]\n",
    "\n",
    "print(my_map2(square,l))"
   ]
  },
  {
   "cell_type": "code",
   "execution_count": 13,
   "metadata": {},
   "outputs": [],
   "source": [
    "#3  tutorial 167\n",
    "\n",
    "# function returning function \n"
   ]
  },
  {
   "cell_type": "code",
   "execution_count": 14,
   "metadata": {},
   "outputs": [
    {
     "name": "stdout",
     "output_type": "stream",
     "text": [
      "inside inner func\n"
     ]
    }
   ],
   "source": [
    "def outer_func():\n",
    "    def inner_func():\n",
    "        print(\"inside inner func\")\n",
    "    return inner_func\n",
    "\n",
    "var = outer_func()\n",
    "var()\n"
   ]
  },
  {
   "cell_type": "code",
   "execution_count": 17,
   "metadata": {},
   "outputs": [
    {
     "name": "stdout",
     "output_type": "stream",
     "text": [
      " message is hello world!!\n"
     ]
    }
   ],
   "source": [
    "def outer_func2(msg):\n",
    "    def inner_func2():\n",
    "        print(f\" message is : {msg}\")\n",
    "    return inner_func2\n",
    "\n",
    "var =outer_func2(\"hello world!!\")\n",
    "var()"
   ]
  },
  {
   "cell_type": "code",
   "execution_count": null,
   "metadata": {},
   "outputs": [],
   "source": []
  },
  {
   "cell_type": "code",
   "execution_count": null,
   "metadata": {},
   "outputs": [],
   "source": []
  }
 ],
 "metadata": {
  "kernelspec": {
   "display_name": "base",
   "language": "python",
   "name": "python3"
  },
  "language_info": {
   "codemirror_mode": {
    "name": "ipython",
    "version": 3
   },
   "file_extension": ".py",
   "mimetype": "text/x-python",
   "name": "python",
   "nbconvert_exporter": "python",
   "pygments_lexer": "ipython3",
   "version": "3.11.4"
  },
  "orig_nbformat": 4
 },
 "nbformat": 4,
 "nbformat_minor": 2
}
