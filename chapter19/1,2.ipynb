{
 "cells": [
  {
   "cell_type": "code",
   "execution_count": null,
   "metadata": {},
   "outputs": [],
   "source": [
    "#1\n",
    "\n",
    "# OS MODULE\n"
   ]
  },
  {
   "cell_type": "code",
   "execution_count": 2,
   "metadata": {},
   "outputs": [
    {
     "name": "stdout",
     "output_type": "stream",
     "text": [
      "f:\\Mudit Agrawal\\coding files\\Python\\pythonYoutube_Harshit\\chapter19\n"
     ]
    }
   ],
   "source": [
    "import os\n",
    "\n",
    "# os.getcwd()   - get current working directory\n",
    "\n",
    "print(os.getcwd())\n",
    "\n",
    "# os.mkdir(\"directory_name\")      -make directory \n",
    "\n",
    "os.mkdir(\"movies_dir\")        #create once only, next time give FileExistsError"
   ]
  },
  {
   "cell_type": "code",
   "execution_count": 8,
   "metadata": {},
   "outputs": [
    {
     "name": "stdout",
     "output_type": "stream",
     "text": [
      "True\n",
      "True\n"
     ]
    }
   ],
   "source": [
    "import os \n",
    "\n",
    "# os.path.exists('dir_name')   #check if file , directory exisits at location or not\n",
    "\n",
    "print(os.path.exists('movies_dir'))\n",
    "#or\n",
    "print(os.path.exists(r'C:\\Users\\Aditya Agrawal\\Desktop\\coding files\\Python\\pythonYoutube_Harshit\\chapter19\\movies_dir'))"
   ]
  },
  {
   "cell_type": "code",
   "execution_count": 9,
   "metadata": {},
   "outputs": [
    {
     "name": "stdout",
     "output_type": "stream",
     "text": [
      "already Exists\n"
     ]
    }
   ],
   "source": [
    "# first check file exist if not then create one using mkdir\n",
    "if os.path.exists('movies_dir'):\n",
    "    print(\"already Exists\")\n",
    "else: \n",
    "    os.mkdir(\"movies_dir\")"
   ]
  },
  {
   "cell_type": "code",
   "execution_count": 12,
   "metadata": {},
   "outputs": [],
   "source": [
    "# to create file \n",
    "\n",
    "open(\"sample_file.txt\" , \"a\").close()\n",
    "# file exisit or not it will not give error , not create duplicate file\n"
   ]
  },
  {
   "cell_type": "code",
   "execution_count": 14,
   "metadata": {},
   "outputs": [],
   "source": [
    "# make dir. at another location\n",
    "\n",
    "os.mkdir(r\"C:\\Users\\Aditya Agrawal\\Desktop\\coding files\\Python\\pythonYoutube_Harshit\\chapter19\\movies_dir\\test_dir\")"
   ]
  },
  {
   "cell_type": "code",
   "execution_count": 15,
   "metadata": {},
   "outputs": [
    {
     "name": "stdout",
     "output_type": "stream",
     "text": [
      "Current working Directory is :  C:\\Users\\Aditya Agrawal\\Desktop\\coding files\\Python\\pythonYoutube_Harshit\\chapter19\\movies_dir\n"
     ]
    }
   ],
   "source": [
    "# change directory \n",
    "\n",
    "# os.chdir(r\" location _path \")\n",
    "\n",
    "os.chdir(r\"C:\\Users\\Aditya Agrawal\\Desktop\\coding files\\Python\\pythonYoutube_Harshit\\chapter19\\movies_dir\")\n",
    "print(\"Current working Directory is : \",os.getcwd())\n",
    "\n",
    "os.mkdir(\"sample_folder1\")"
   ]
  },
  {
   "cell_type": "code",
   "execution_count": 18,
   "metadata": {},
   "outputs": [
    {
     "name": "stdout",
     "output_type": "stream",
     "text": [
      "Current working Directory is :  C:\\Users\\Aditya Agrawal\\Desktop\\coding files\\Python\\pythonYoutube_Harshit\\chapter19\n"
     ]
    }
   ],
   "source": [
    "os.chdir(r\"C:\\Users\\Aditya Agrawal\\Desktop\\coding files\\Python\\pythonYoutube_Harshit\\chapter19\")\n",
    "print(\"Current working Directory is : \",os.getcwd())\n"
   ]
  },
  {
   "cell_type": "code",
   "execution_count": 20,
   "metadata": {},
   "outputs": [
    {
     "name": "stdout",
     "output_type": "stream",
     "text": [
      "['1,2.ipynb', 'movies_dir', 'sample_file.txt']\n",
      "['sample_folder1', 'test_dir']\n"
     ]
    }
   ],
   "source": [
    "# listdir() -list of all the files and folder of cwd\n",
    "\n",
    "\n",
    "print(os.listdir())\n",
    "\n",
    "\n",
    "# list of files of some remote directory \n",
    "\n",
    "print(os.listdir(r\"C:\\Users\\Aditya Agrawal\\Desktop\\coding files\\Python\\pythonYoutube_Harshit\\chapter19\\movies_dir\"))\n"
   ]
  },
  {
   "cell_type": "code",
   "execution_count": 23,
   "metadata": {},
   "outputs": [
    {
     "name": "stdout",
     "output_type": "stream",
     "text": [
      "C:\\Users\\Aditya Agrawal\\Desktop\\coding files\\Python\\pythonYoutube_Harshit\\chapter19\\1,2.ipynb\n",
      "C:\\Users\\Aditya Agrawal\\Desktop\\coding files\\Python\\pythonYoutube_Harshit\\chapter19\\movies_dir\n",
      "C:\\Users\\Aditya Agrawal\\Desktop\\coding files\\Python\\pythonYoutube_Harshit\\chapter19\\sample_file.txt\n"
     ]
    }
   ],
   "source": [
    "# print complete path of files in dir.\n",
    "\n",
    "for item in os.listdir():\n",
    "    path = os.path.join(os.getcwd(),item)\n",
    "    print(path)\n",
    "    "
   ]
  },
  {
   "cell_type": "code",
   "execution_count": 24,
   "metadata": {},
   "outputs": [
    {
     "name": "stdout",
     "output_type": "stream",
     "text": [
      "C:\\Users\\Aditya Agrawal\\Desktop\\coding files\\Python\\pythonYoutube_Harshit\\chapter19\\11,12,13.ipynb\n",
      "C:\\Users\\Aditya Agrawal\\Desktop\\coding files\\Python\\pythonYoutube_Harshit\\chapter19\\14,15.ipynb\n",
      "C:\\Users\\Aditya Agrawal\\Desktop\\coding files\\Python\\pythonYoutube_Harshit\\chapter19\\file11.csv\n",
      "C:\\Users\\Aditya Agrawal\\Desktop\\coding files\\Python\\pythonYoutube_Harshit\\chapter19\\file11.txt\n",
      "C:\\Users\\Aditya Agrawal\\Desktop\\coding files\\Python\\pythonYoutube_Harshit\\chapter19\\file12.csv\n",
      "C:\\Users\\Aditya Agrawal\\Desktop\\coding files\\Python\\pythonYoutube_Harshit\\chapter19\\file13.csv\n",
      "C:\\Users\\Aditya Agrawal\\Desktop\\coding files\\Python\\pythonYoutube_Harshit\\chapter19\\file13a.csv\n",
      "C:\\Users\\Aditya Agrawal\\Desktop\\coding files\\Python\\pythonYoutube_Harshit\\chapter19\\file13b.csv\n",
      "C:\\Users\\Aditya Agrawal\\Desktop\\coding files\\Python\\pythonYoutube_Harshit\\chapter19\\file14.csv\n",
      "C:\\Users\\Aditya Agrawal\\Desktop\\coding files\\Python\\pythonYoutube_Harshit\\chapter19\\file14a.csv\n",
      "C:\\Users\\Aditya Agrawal\\Desktop\\coding files\\Python\\pythonYoutube_Harshit\\chapter19\\file14_new.csv\n",
      "C:\\Users\\Aditya Agrawal\\Desktop\\coding files\\Python\\pythonYoutube_Harshit\\chapter19\\file15.csv\n",
      "C:\\Users\\Aditya Agrawal\\Desktop\\coding files\\Python\\pythonYoutube_Harshit\\chapter19\\file15a.csv\n",
      "C:\\Users\\Aditya Agrawal\\Desktop\\coding files\\Python\\pythonYoutube_Harshit\\chapter19\\file15c.csv\n",
      "C:\\Users\\Aditya Agrawal\\Desktop\\coding files\\Python\\pythonYoutube_Harshit\\chapter19\\file15d.csv\n"
     ]
    }
   ],
   "source": [
    "# print complete path of files in remote dir.\n",
    "\n",
    "for item in os.listdir(r\"C:\\Users\\Aditya Agrawal\\Desktop\\coding files\\Python\\pythonYoutube_Harshit\\chapter18-2\"):\n",
    "    path = os.path.join(os.getcwd(),item)\n",
    "    print(path)\n",
    "    "
   ]
  },
  {
   "cell_type": "code",
   "execution_count": null,
   "metadata": {},
   "outputs": [],
   "source": []
  },
  {
   "cell_type": "code",
   "execution_count": null,
   "metadata": {},
   "outputs": [],
   "source": [
    "#2\n",
    "# os and shutil module"
   ]
  },
  {
   "cell_type": "code",
   "execution_count": 3,
   "metadata": {},
   "outputs": [
    {
     "name": "stdout",
     "output_type": "stream",
     "text": [
      "['1,2.ipynb', 'movies_dir', 'sample_file.txt']\n"
     ]
    }
   ],
   "source": [
    "# list of all files in directory\n",
    "import os \n",
    "print(os.listdir())"
   ]
  },
  {
   "cell_type": "code",
   "execution_count": 10,
   "metadata": {},
   "outputs": [
    {
     "name": "stdout",
     "output_type": "stream",
     "text": [
      "Current Path: f:\\Mudit Agrawal\\coding files\\Python\\pythonYoutube_Harshit\\chapter19\n",
      "Folder Names: ['movies_dir']\n",
      "File Names: ['1,2.ipynb', 'sample_file.txt']\n",
      "Current Path: f:\\Mudit Agrawal\\coding files\\Python\\pythonYoutube_Harshit\\chapter19\\movies_dir\n",
      "Folder Names: ['sample_folder1', 'test_dir']\n",
      "File Names: []\n",
      "Current Path: f:\\Mudit Agrawal\\coding files\\Python\\pythonYoutube_Harshit\\chapter19\\movies_dir\\sample_folder1\n",
      "Folder Names: []\n",
      "File Names: []\n",
      "Current Path: f:\\Mudit Agrawal\\coding files\\Python\\pythonYoutube_Harshit\\chapter19\\movies_dir\\test_dir\n",
      "Folder Names: []\n",
      "File Names: []\n"
     ]
    }
   ],
   "source": [
    "# to create list of folder to its complete depth \n",
    "\n",
    "import os \n",
    "\n",
    "# print(os.getcwd())\n",
    "\n",
    "# print(os.walk(r\"f:\\Mudit Agrawal\\coding files\\Python\\pythonYoutube_Harshit\\chapter19\"))\n",
    "\n",
    "fileiter = os.walk(r\"f:\\Mudit Agrawal\\coding files\\Python\\pythonYoutube_Harshit\\chapter19\")\n",
    "for current_path,folder_names,file_names in fileiter:\n",
    "    print(f\"Current Path: {current_path}\")\n",
    "    print(f\"Folder Names: {folder_names}\")\n",
    "    print(f\"File Names: {file_names}\")\n"
   ]
  },
  {
   "cell_type": "code",
   "execution_count": 15,
   "metadata": {},
   "outputs": [],
   "source": [
    "# rmdir - remove directory (to delete folder) \n",
    "# it only delete folder those are empty, otherwise error\n",
    "\n",
    "\n",
    "# os.rmdir(\"movies_dir\")\n",
    "\n",
    "os.mkdir(\"new\")  # creating new folder\n",
    "os.rmdir(\"new\")  # deleting named new folder\n"
   ]
  },
  {
   "cell_type": "code",
   "execution_count": 16,
   "metadata": {},
   "outputs": [],
   "source": [
    "# create folder in folder\n",
    "# makedirs - make directories\n",
    "\n",
    "os.makedirs(\"new/sub_folder\")\n",
    "\n"
   ]
  },
  {
   "cell_type": "code",
   "execution_count": 17,
   "metadata": {},
   "outputs": [],
   "source": [
    "import shutil\n",
    "\n",
    "# rmtree - to remove folder that is not empty\n",
    "# it delets permanently\n",
    "\n",
    "shutil.rmtree(\"new\")\n"
   ]
  },
  {
   "cell_type": "code",
   "execution_count": 20,
   "metadata": {},
   "outputs": [
    {
     "data": {
      "text/plain": [
       "'copying/new_folder'"
      ]
     },
     "execution_count": 20,
     "metadata": {},
     "output_type": "execute_result"
    }
   ],
   "source": [
    "# copytree - to copy one folder into another folder\n",
    "# copytree(existing_folder,new_folder)\n",
    "\n",
    "shutil.copytree(\"movies_dir\",\"copying/movies_dir\")\n",
    "\n",
    "#or (we can copy with changed folder name)\n",
    "shutil.copytree(\"movies_dir\",\"copying/new_folder\")\n"
   ]
  },
  {
   "cell_type": "code",
   "execution_count": 21,
   "metadata": {},
   "outputs": [
    {
     "data": {
      "text/plain": [
       "'copying/new.txt'"
      ]
     },
     "execution_count": 21,
     "metadata": {},
     "output_type": "execute_result"
    }
   ],
   "source": [
    "# copy() - to copy file \n",
    "\n",
    "shutil.copy('sample_file.txt','copying/sample_file.txt')\n",
    "\n",
    "# or (file name changed)\n",
    "shutil.copy('sample_file.txt','copying/new.txt')\n"
   ]
  },
  {
   "cell_type": "code",
   "execution_count": 27,
   "metadata": {},
   "outputs": [
    {
     "data": {
      "text/plain": [
       "'moved/new_name_file.txt'"
      ]
     },
     "execution_count": 27,
     "metadata": {},
     "output_type": "execute_result"
    }
   ],
   "source": [
    "# move() - to move file\n",
    "# move(location,destination)\n",
    "\n",
    "# shutil.move('sample_file2.txt','moved/sample_file2.txt')\n",
    "\n",
    "# or (can rename file)\n",
    "shutil.move('sample_file2.txt','moved/new_name_file.txt')\n"
   ]
  },
  {
   "cell_type": "code",
   "execution_count": 28,
   "metadata": {},
   "outputs": [
    {
     "data": {
      "text/plain": [
       "'move_folder/folder'"
      ]
     },
     "execution_count": 28,
     "metadata": {},
     "output_type": "execute_result"
    }
   ],
   "source": [
    "# move() - to  move complete folder\n",
    "\n",
    "shutil.move(\"folder\",'move_folder/folder')\n",
    "# or (rename moved folder)\n",
    "# shutil.move(\"folder\",'move_folder/new_folder')\n",
    "\n",
    "\n",
    "#----end----"
   ]
  }
 ],
 "metadata": {
  "kernelspec": {
   "display_name": "Python 3",
   "language": "python",
   "name": "python3"
  },
  "language_info": {
   "codemirror_mode": {
    "name": "ipython",
    "version": 3
   },
   "file_extension": ".py",
   "mimetype": "text/x-python",
   "name": "python",
   "nbconvert_exporter": "python",
   "pygments_lexer": "ipython3",
   "version": "3.11.4"
  },
  "orig_nbformat": 4
 },
 "nbformat": 4,
 "nbformat_minor": 2
}
