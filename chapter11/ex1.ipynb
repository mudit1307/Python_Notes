{
 "cells": [
  {
   "cell_type": "code",
   "execution_count": null,
   "metadata": {},
   "outputs": [],
   "source": [
    "# define a function \n",
    "# input \n",
    "\n",
    "# num ,iterable(tuple,list) containing numbera as args\n",
    "\n",
    "# example \n",
    "# nums=[1,2,3]\n",
    "# to_power(3,*nums)\n",
    "\n",
    "# outside \n",
    "# list =[1**3,8,27]\n",
    "\n",
    "# if user didn't pass any args then give a user a message 'hey you did't pass \n",
    "# args \n",
    "\n",
    "# else\n",
    "# return list\n",
    "\n",
    "# note - use list comprehension"
   ]
  },
  {
   "cell_type": "code",
   "execution_count": 18,
   "metadata": {},
   "outputs": [
    {
     "name": "stdout",
     "output_type": "stream",
     "text": [
      "()\n",
      "hey you did't pass args\n"
     ]
    }
   ],
   "source": [
    "def fun(num,*args):\n",
    "    print(args)\n",
    "    \n",
    "    if args==None:                          # if len(args) != 0:\n",
    "        return [i**num for i in args]\n",
    "    else:\n",
    "        return (\"hey you did't pass args\")\n",
    "     \n",
    "print(fun(1))\n",
    "# n=[1,2,3]\n",
    "# print(fun(3,*n))\n",
    "# # print(fun(3,*tuple))"
   ]
  },
  {
   "cell_type": "code",
   "execution_count": null,
   "metadata": {},
   "outputs": [],
   "source": []
  }
 ],
 "metadata": {
  "kernelspec": {
   "display_name": "Python 3.10.5 64-bit",
   "language": "python",
   "name": "python3"
  },
  "language_info": {
   "codemirror_mode": {
    "name": "ipython",
    "version": 3
   },
   "file_extension": ".py",
   "mimetype": "text/x-python",
   "name": "python",
   "nbconvert_exporter": "python",
   "pygments_lexer": "ipython3",
   "version": "3.10.5"
  },
  "orig_nbformat": 4,
  "vscode": {
   "interpreter": {
    "hash": "bbdb4b97aed41b82c12a1e891d9d884cd5c65204befe9df6e94a0a7f3a53eff4"
   }
  }
 },
 "nbformat": 4,
 "nbformat_minor": 2
}
