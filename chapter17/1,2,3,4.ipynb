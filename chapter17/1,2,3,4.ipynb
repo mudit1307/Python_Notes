{
 "cells": [
  {
   "cell_type": "code",
   "execution_count": null,
   "metadata": {},
   "outputs": [],
   "source": [
    "#chapter 17  tutorial 203\n",
    "\n",
    "#1\n",
    "# intro to chapter\n",
    "# built in errors\n",
    "# exception, how to handle them\n",
    "# raise your own errors, debugging "
   ]
  },
  {
   "cell_type": "code",
   "execution_count": 2,
   "metadata": {},
   "outputs": [
    {
     "ename": "SyntaxError",
     "evalue": "invalid syntax (486003138.py, line 3)",
     "output_type": "error",
     "traceback": [
      "\u001b[1;36m  Cell \u001b[1;32mIn[2], line 3\u001b[1;36m\u001b[0m\n\u001b[1;33m    def func:\u001b[0m\n\u001b[1;37m            ^\u001b[0m\n\u001b[1;31mSyntaxError\u001b[0m\u001b[1;31m:\u001b[0m invalid syntax\n"
     ]
    }
   ],
   "source": [
    "# syntax error - when we make mistakes in sytax of python language \n",
    "\n",
    "# def func:   #syntax error - as parenthesis () after function_name is missing\n",
    "#     pass\n",
    "\n",
    "# def func():\n",
    "#     pass\n",
    "\n",
    "# name=\"harshit'   #error \n"
   ]
  },
  {
   "cell_type": "code",
   "execution_count": 2,
   "metadata": {},
   "outputs": [
    {
     "ename": "IndentationError",
     "evalue": "unindent does not match any outer indentation level (<tokenize>, line 5)",
     "output_type": "error",
     "traceback": [
      "\u001b[1;36m  File \u001b[1;32m<tokenize>:5\u001b[1;36m\u001b[0m\n\u001b[1;33m    print(\"func\")\u001b[0m\n\u001b[1;37m    ^\u001b[0m\n\u001b[1;31mIndentationError\u001b[0m\u001b[1;31m:\u001b[0m unindent does not match any outer indentation level\n"
     ]
    }
   ],
   "source": [
    "# indentation error  -> error due to space\n",
    "\n",
    "# def func(): \n",
    "#       pass                  #error \n",
    "#   print(\"func\")            \n",
    "\n",
    "\n",
    "# output\n",
    "# IndentationError: unindent does not match any outer indentation level\n"
   ]
  },
  {
   "cell_type": "code",
   "execution_count": 1,
   "metadata": {},
   "outputs": [
    {
     "ename": "NameError",
     "evalue": "name 'variable' is not defined",
     "output_type": "error",
     "traceback": [
      "\u001b[1;31m---------------------------------------------------------------------------\u001b[0m",
      "\u001b[1;31mNameError\u001b[0m                                 Traceback (most recent call last)",
      "\u001b[1;32mc:\\Users\\Aditya Agrawal\\Desktop\\coding files\\Python\\pythonYoutube_Harshit\\chapter17\\1,2,3.ipynb Cell 4\u001b[0m in \u001b[0;36m<cell line: 3>\u001b[1;34m()\u001b[0m\n\u001b[0;32m      <a href='vscode-notebook-cell:/c%3A/Users/Aditya%20Agrawal/Desktop/coding%20files/Python/pythonYoutube_Harshit/chapter17/1%2C2%2C3.ipynb#W3sZmlsZQ%3D%3D?line=0'>1</a>\u001b[0m \u001b[39m# name error - when something is not defined \u001b[39;00m\n\u001b[1;32m----> <a href='vscode-notebook-cell:/c%3A/Users/Aditya%20Agrawal/Desktop/coding%20files/Python/pythonYoutube_Harshit/chapter17/1%2C2%2C3.ipynb#W3sZmlsZQ%3D%3D?line=2'>3</a>\u001b[0m \u001b[39mprint\u001b[39m(variable)\n",
      "\u001b[1;31mNameError\u001b[0m: name 'variable' is not defined"
     ]
    }
   ],
   "source": [
    "# name error - when something is not defined \n",
    "\n",
    "# print(variable)  #error\n",
    "\n",
    "\n",
    "# output\n",
    "# NameError: name 'variable' is not defined"
   ]
  },
  {
   "cell_type": "code",
   "execution_count": 4,
   "metadata": {},
   "outputs": [
    {
     "ename": "TypeError",
     "evalue": "unsupported operand type(s) for +: 'int' and 'str'",
     "output_type": "error",
     "traceback": [
      "\u001b[1;31m---------------------------------------------------------------------------\u001b[0m",
      "\u001b[1;31mTypeError\u001b[0m                                 Traceback (most recent call last)",
      "\u001b[1;32mc:\\Users\\Aditya Agrawal\\Desktop\\coding files\\Python\\pythonYoutube_Harshit\\chapter17\\1,2,3.ipynb Cell 5\u001b[0m in \u001b[0;36m<cell line: 3>\u001b[1;34m()\u001b[0m\n\u001b[0;32m      <a href='vscode-notebook-cell:/c%3A/Users/Aditya%20Agrawal/Desktop/coding%20files/Python/pythonYoutube_Harshit/chapter17/1%2C2%2C3.ipynb#W4sZmlsZQ%3D%3D?line=0'>1</a>\u001b[0m \u001b[39m# type error\u001b[39;00m\n\u001b[1;32m----> <a href='vscode-notebook-cell:/c%3A/Users/Aditya%20Agrawal/Desktop/coding%20files/Python/pythonYoutube_Harshit/chapter17/1%2C2%2C3.ipynb#W4sZmlsZQ%3D%3D?line=2'>3</a>\u001b[0m \u001b[39mprint\u001b[39m(\u001b[39m5\u001b[39;49m \u001b[39m+\u001b[39;49m \u001b[39m'\u001b[39;49m\u001b[39mharshit\u001b[39;49m\u001b[39m'\u001b[39;49m)\n",
      "\u001b[1;31mTypeError\u001b[0m: unsupported operand type(s) for +: 'int' and 'str'"
     ]
    }
   ],
   "source": [
    "# type error -> wrong operation is performed in respect to their data type (wrong operation on wrong type)\n",
    "\n",
    "print(5 + 'harshit') #ERROR\n",
    "\n",
    "\n",
    "# output\n",
    "# TypeError: unsupported operand type(s) for +: 'int' and 'str'"
   ]
  },
  {
   "cell_type": "code",
   "execution_count": 5,
   "metadata": {},
   "outputs": [
    {
     "ename": "IndexError",
     "evalue": "list index out of range",
     "output_type": "error",
     "traceback": [
      "\u001b[1;31m---------------------------------------------------------------------------\u001b[0m",
      "\u001b[1;31mIndexError\u001b[0m                                Traceback (most recent call last)",
      "\u001b[1;32mc:\\Users\\Aditya Agrawal\\Desktop\\coding files\\Python\\pythonYoutube_Harshit\\chapter17\\1,2,3.ipynb Cell 6\u001b[0m in \u001b[0;36m<cell line: 4>\u001b[1;34m()\u001b[0m\n\u001b[0;32m      <a href='vscode-notebook-cell:/c%3A/Users/Aditya%20Agrawal/Desktop/coding%20files/Python/pythonYoutube_Harshit/chapter17/1%2C2%2C3.ipynb#W5sZmlsZQ%3D%3D?line=0'>1</a>\u001b[0m \u001b[39m# index error\u001b[39;00m\n\u001b[0;32m      <a href='vscode-notebook-cell:/c%3A/Users/Aditya%20Agrawal/Desktop/coding%20files/Python/pythonYoutube_Harshit/chapter17/1%2C2%2C3.ipynb#W5sZmlsZQ%3D%3D?line=2'>3</a>\u001b[0m l\u001b[39m=\u001b[39m[\u001b[39m1\u001b[39m,\u001b[39m2\u001b[39m,\u001b[39m3\u001b[39m,\u001b[39m4\u001b[39m]\n\u001b[1;32m----> <a href='vscode-notebook-cell:/c%3A/Users/Aditya%20Agrawal/Desktop/coding%20files/Python/pythonYoutube_Harshit/chapter17/1%2C2%2C3.ipynb#W5sZmlsZQ%3D%3D?line=3'>4</a>\u001b[0m \u001b[39mprint\u001b[39m(l[\u001b[39m4\u001b[39;49m])\n",
      "\u001b[1;31mIndexError\u001b[0m: list index out of range"
     ]
    }
   ],
   "source": [
    "# index error  -> try accessing not valid index of any collection\n",
    "\n",
    "l=[1,2,3,4]\n",
    "# print(l[4])   #error\n",
    "\n",
    "\n",
    "# output\n",
    "# IndexError: list index out of range"
   ]
  },
  {
   "cell_type": "code",
   "execution_count": 3,
   "metadata": {},
   "outputs": [
    {
     "name": "stdout",
     "output_type": "stream",
     "text": [
      "123\n"
     ]
    }
   ],
   "source": [
    "# value error -> passed value(data type) to function is not correct\n",
    "\n",
    "# s= 'abc'\n",
    "# print(int(s))    #error\n",
    "\n",
    "\n",
    "# output\n",
    "# ValueError: invalid literal for int() with base 10: 'abc'\n",
    "\n",
    "#correct code\n",
    "s=\"123\"\n",
    "print(int(s))"
   ]
  },
  {
   "cell_type": "code",
   "execution_count": 7,
   "metadata": {},
   "outputs": [
    {
     "ename": "AttributeError",
     "evalue": "'list' object has no attribute 'push'",
     "output_type": "error",
     "traceback": [
      "\u001b[1;31m---------------------------------------------------------------------------\u001b[0m",
      "\u001b[1;31mAttributeError\u001b[0m                            Traceback (most recent call last)",
      "\u001b[1;32mc:\\Users\\Aditya Agrawal\\Desktop\\coding files\\Python\\pythonYoutube_Harshit\\chapter17\\1,2,3.ipynb Cell 8\u001b[0m in \u001b[0;36m<cell line: 4>\u001b[1;34m()\u001b[0m\n\u001b[0;32m      <a href='vscode-notebook-cell:/c%3A/Users/Aditya%20Agrawal/Desktop/coding%20files/Python/pythonYoutube_Harshit/chapter17/1%2C2%2C3.ipynb#X10sZmlsZQ%3D%3D?line=0'>1</a>\u001b[0m \u001b[39m#attribute error\u001b[39;00m\n\u001b[0;32m      <a href='vscode-notebook-cell:/c%3A/Users/Aditya%20Agrawal/Desktop/coding%20files/Python/pythonYoutube_Harshit/chapter17/1%2C2%2C3.ipynb#X10sZmlsZQ%3D%3D?line=2'>3</a>\u001b[0m l\u001b[39m=\u001b[39m[\u001b[39m1\u001b[39m,\u001b[39m2\u001b[39m,\u001b[39m3\u001b[39m]\n\u001b[1;32m----> <a href='vscode-notebook-cell:/c%3A/Users/Aditya%20Agrawal/Desktop/coding%20files/Python/pythonYoutube_Harshit/chapter17/1%2C2%2C3.ipynb#X10sZmlsZQ%3D%3D?line=3'>4</a>\u001b[0m l\u001b[39m.\u001b[39;49mpush(\u001b[39m56\u001b[39m)\n",
      "\u001b[1;31mAttributeError\u001b[0m: 'list' object has no attribute 'push'"
     ]
    }
   ],
   "source": [
    "#attribute error  -> occurs when function or attribute used doesn't exist\n",
    "\n",
    "l=[1,2,3]\n",
    "l.push(56)  #error\n",
    "\n",
    "# output\n",
    "# AttributeError: 'list' object has no attribute 'push'"
   ]
  },
  {
   "cell_type": "code",
   "execution_count": 12,
   "metadata": {},
   "outputs": [
    {
     "ename": "KeyError",
     "evalue": "'age'",
     "output_type": "error",
     "traceback": [
      "\u001b[1;31m---------------------------------------------------------------------------\u001b[0m",
      "\u001b[1;31mKeyError\u001b[0m                                  Traceback (most recent call last)",
      "\u001b[1;32mc:\\Users\\Aditya Agrawal\\Desktop\\coding files\\Python\\pythonYoutube_Harshit\\chapter17\\1,2,3.ipynb Cell 9\u001b[0m in \u001b[0;36m<cell line: 7>\u001b[1;34m()\u001b[0m\n\u001b[0;32m      <a href='vscode-notebook-cell:/c%3A/Users/Aditya%20Agrawal/Desktop/coding%20files/Python/pythonYoutube_Harshit/chapter17/1%2C2%2C3.ipynb#X11sZmlsZQ%3D%3D?line=0'>1</a>\u001b[0m \u001b[39m# key error\u001b[39;00m\n\u001b[0;32m      <a href='vscode-notebook-cell:/c%3A/Users/Aditya%20Agrawal/Desktop/coding%20files/Python/pythonYoutube_Harshit/chapter17/1%2C2%2C3.ipynb#X11sZmlsZQ%3D%3D?line=2'>3</a>\u001b[0m d\u001b[39m=\u001b[39m{\n\u001b[0;32m      <a href='vscode-notebook-cell:/c%3A/Users/Aditya%20Agrawal/Desktop/coding%20files/Python/pythonYoutube_Harshit/chapter17/1%2C2%2C3.ipynb#X11sZmlsZQ%3D%3D?line=3'>4</a>\u001b[0m     \u001b[39m'\u001b[39m\u001b[39mname\u001b[39m\u001b[39m'\u001b[39m:\u001b[39m'\u001b[39m\u001b[39mhashit\u001b[39m\u001b[39m'\u001b[39m\n\u001b[0;32m      <a href='vscode-notebook-cell:/c%3A/Users/Aditya%20Agrawal/Desktop/coding%20files/Python/pythonYoutube_Harshit/chapter17/1%2C2%2C3.ipynb#X11sZmlsZQ%3D%3D?line=4'>5</a>\u001b[0m }\n\u001b[1;32m----> <a href='vscode-notebook-cell:/c%3A/Users/Aditya%20Agrawal/Desktop/coding%20files/Python/pythonYoutube_Harshit/chapter17/1%2C2%2C3.ipynb#X11sZmlsZQ%3D%3D?line=6'>7</a>\u001b[0m \u001b[39mprint\u001b[39m(d[\u001b[39m\"\u001b[39;49m\u001b[39mage\u001b[39;49m\u001b[39m\"\u001b[39;49m])\n",
      "\u001b[1;31mKeyError\u001b[0m: 'age'"
     ]
    }
   ],
   "source": [
    "# key error -> if key doesn't exist in dictionary and we tried accessing it\n",
    "\n",
    "d={\n",
    "    'name':'hashit'\n",
    "}\n",
    "\n",
    "print(d[\"age\"])  #error\n",
    "\n",
    "\n",
    "# output\n",
    "# KeyError: 'age'"
   ]
  },
  {
   "cell_type": "code",
   "execution_count": null,
   "metadata": {},
   "outputs": [],
   "source": [
    "#2 \n",
    "# Raise Errors"
   ]
  },
  {
   "cell_type": "code",
   "execution_count": 14,
   "metadata": {},
   "outputs": [
    {
     "name": "stdout",
     "output_type": "stream",
     "text": [
      "5\n",
      "23\n"
     ]
    }
   ],
   "source": [
    "def add(a,b):\n",
    "    return a+b\n",
    "\n",
    "print(add(2,3)) \n",
    "\n",
    "print(add(\"2\",\"3\"))\n"
   ]
  },
  {
   "cell_type": "code",
   "execution_count": 15,
   "metadata": {},
   "outputs": [
    {
     "name": "stdout",
     "output_type": "stream",
     "text": [
      "opp's wrong data type\n"
     ]
    }
   ],
   "source": [
    "def add(a,b):\n",
    "    if (type(a) is int) and (type(b) is int):\n",
    "        return a+b\n",
    "    return \"opp's wrong data type\"\n",
    "\n",
    "print(add(\"2\",\"3\"))"
   ]
  },
  {
   "cell_type": "code",
   "execution_count": 18,
   "metadata": {},
   "outputs": [
    {
     "ename": "ValueError",
     "evalue": "error ",
     "output_type": "error",
     "traceback": [
      "\u001b[1;31m---------------------------------------------------------------------------\u001b[0m",
      "\u001b[1;31mValueError\u001b[0m                                Traceback (most recent call last)",
      "\u001b[1;32mc:\\Users\\Aditya Agrawal\\Desktop\\coding files\\Python\\pythonYoutube_Harshit\\chapter17\\1,2,3.ipynb Cell 15\u001b[0m in \u001b[0;36m<cell line: 7>\u001b[1;34m()\u001b[0m\n\u001b[0;32m      <a href='vscode-notebook-cell:/c%3A/Users/Aditya%20Agrawal/Desktop/coding%20files/Python/pythonYoutube_Harshit/chapter17/1%2C2%2C3.ipynb#X20sZmlsZQ%3D%3D?line=3'>4</a>\u001b[0m     \u001b[39m# raise TypeError( \"opp's wrong data type\")\u001b[39;00m\n\u001b[0;32m      <a href='vscode-notebook-cell:/c%3A/Users/Aditya%20Agrawal/Desktop/coding%20files/Python/pythonYoutube_Harshit/chapter17/1%2C2%2C3.ipynb#X20sZmlsZQ%3D%3D?line=4'>5</a>\u001b[0m     \u001b[39mraise\u001b[39;00m \u001b[39mValueError\u001b[39;00m(\u001b[39m\"\u001b[39m\u001b[39merror \u001b[39m\u001b[39m\"\u001b[39m)\n\u001b[1;32m----> <a href='vscode-notebook-cell:/c%3A/Users/Aditya%20Agrawal/Desktop/coding%20files/Python/pythonYoutube_Harshit/chapter17/1%2C2%2C3.ipynb#X20sZmlsZQ%3D%3D?line=6'>7</a>\u001b[0m \u001b[39mprint\u001b[39m(add(\u001b[39m\"\u001b[39;49m\u001b[39m2\u001b[39;49m\u001b[39m\"\u001b[39;49m,\u001b[39m\"\u001b[39;49m\u001b[39m3\u001b[39;49m\u001b[39m\"\u001b[39;49m))\n",
      "\u001b[1;32mc:\\Users\\Aditya Agrawal\\Desktop\\coding files\\Python\\pythonYoutube_Harshit\\chapter17\\1,2,3.ipynb Cell 15\u001b[0m in \u001b[0;36madd\u001b[1;34m(a, b)\u001b[0m\n\u001b[0;32m      <a href='vscode-notebook-cell:/c%3A/Users/Aditya%20Agrawal/Desktop/coding%20files/Python/pythonYoutube_Harshit/chapter17/1%2C2%2C3.ipynb#X20sZmlsZQ%3D%3D?line=2'>3</a>\u001b[0m     \u001b[39mreturn\u001b[39;00m a\u001b[39m+\u001b[39mb\n\u001b[0;32m      <a href='vscode-notebook-cell:/c%3A/Users/Aditya%20Agrawal/Desktop/coding%20files/Python/pythonYoutube_Harshit/chapter17/1%2C2%2C3.ipynb#X20sZmlsZQ%3D%3D?line=3'>4</a>\u001b[0m \u001b[39m# raise TypeError( \"opp's wrong data type\")\u001b[39;00m\n\u001b[1;32m----> <a href='vscode-notebook-cell:/c%3A/Users/Aditya%20Agrawal/Desktop/coding%20files/Python/pythonYoutube_Harshit/chapter17/1%2C2%2C3.ipynb#X20sZmlsZQ%3D%3D?line=4'>5</a>\u001b[0m \u001b[39mraise\u001b[39;00m \u001b[39mValueError\u001b[39;00m(\u001b[39m\"\u001b[39m\u001b[39merror \u001b[39m\u001b[39m\"\u001b[39m)\n",
      "\u001b[1;31mValueError\u001b[0m: error "
     ]
    }
   ],
   "source": [
    "def add(a,b):\n",
    "    if (type(a) is int) and (type(b) is int):\n",
    "        return a+b\n",
    "    raise TypeError( \"opp's wrong data type\")\n",
    "#raising error in the above case is best , oterwise it may store(in database) some incorrect value where func called.\n",
    "    # raise ValueError(\"error \")\n",
    "    # can raise any error, but choose the relvant one.\n",
    "\n",
    "print(add(\"2\",\"3\"))"
   ]
  },
  {
   "cell_type": "code",
   "execution_count": null,
   "metadata": {},
   "outputs": [],
   "source": [
    "#3 \n",
    "# Raise Errors Example1\n",
    "\n",
    "# NotImplementedError\n",
    "# abstract method\n"
   ]
  },
  {
   "cell_type": "code",
   "execution_count": 12,
   "metadata": {},
   "outputs": [
    {
     "name": "stdout",
     "output_type": "stream",
     "text": [
      "this is animal sound\n",
      "pug\n"
     ]
    }
   ],
   "source": [
    "class Animal:\n",
    "    def __init__(self,name):\n",
    "        self.name=name\n",
    "    \n",
    "    def sound(self):\n",
    "        return 'this is animal sound'\n",
    "\n",
    "        # return 'meow meow'\n",
    "\n",
    "        # raise NotImplementedError('you have to define this method in subclasses')\n",
    "    \n",
    "class Dog(Animal):\n",
    "    def __init__(self,name,breed):\n",
    "        super().__init__(name)\n",
    "        self.breed=breed\n",
    "\n",
    "class Cat(Animal):\n",
    "    def __init__(self,name,breed):\n",
    "        super().__init__(name)\n",
    "        self.breed=breed\n",
    "\n",
    "doggy = Dog(\"boony\",\"pug\")\n",
    "print(doggy.sound())\n",
    "print(doggy.breed)"
   ]
  },
  {
   "cell_type": "code",
   "execution_count": 14,
   "metadata": {},
   "outputs": [
    {
     "ename": "NotImplementedError",
     "evalue": "you have to define this method in subclasses",
     "output_type": "error",
     "traceback": [
      "\u001b[1;31m---------------------------------------------------------------------------\u001b[0m",
      "\u001b[1;31mNotImplementedError\u001b[0m                       Traceback (most recent call last)",
      "\u001b[1;32mf:\\Mudit Agrawal\\coding files\\Python\\pythonYoutube_Harshit\\chapter17\\1,2,3,4.ipynb Cell 19\u001b[0m line \u001b[0;36m2\n\u001b[0;32m     <a href='vscode-notebook-cell:/f%3A/Mudit%20Agrawal/coding%20files/Python/pythonYoutube_Harshit/chapter17/1%2C2%2C3%2C4.ipynb#X36sZmlsZQ%3D%3D?line=20'>21</a>\u001b[0m         \u001b[39mself\u001b[39m\u001b[39m.\u001b[39mbreed\u001b[39m=\u001b[39mbreed\n\u001b[0;32m     <a href='vscode-notebook-cell:/f%3A/Mudit%20Agrawal/coding%20files/Python/pythonYoutube_Harshit/chapter17/1%2C2%2C3%2C4.ipynb#X36sZmlsZQ%3D%3D?line=22'>23</a>\u001b[0m doggy \u001b[39m=\u001b[39m Dog(\u001b[39m\"\u001b[39m\u001b[39mboony\u001b[39m\u001b[39m\"\u001b[39m,\u001b[39m\"\u001b[39m\u001b[39mpug\u001b[39m\u001b[39m\"\u001b[39m)\n\u001b[1;32m---> <a href='vscode-notebook-cell:/f%3A/Mudit%20Agrawal/coding%20files/Python/pythonYoutube_Harshit/chapter17/1%2C2%2C3%2C4.ipynb#X36sZmlsZQ%3D%3D?line=23'>24</a>\u001b[0m \u001b[39mprint\u001b[39m(doggy\u001b[39m.\u001b[39;49msound())\n\u001b[0;32m     <a href='vscode-notebook-cell:/f%3A/Mudit%20Agrawal/coding%20files/Python/pythonYoutube_Harshit/chapter17/1%2C2%2C3%2C4.ipynb#X36sZmlsZQ%3D%3D?line=24'>25</a>\u001b[0m \u001b[39mprint\u001b[39m(doggy\u001b[39m.\u001b[39mbreed)\n",
      "\u001b[1;32mf:\\Mudit Agrawal\\coding files\\Python\\pythonYoutube_Harshit\\chapter17\\1,2,3,4.ipynb Cell 19\u001b[0m line \u001b[0;36m1\n\u001b[0;32m      <a href='vscode-notebook-cell:/f%3A/Mudit%20Agrawal/coding%20files/Python/pythonYoutube_Harshit/chapter17/1%2C2%2C3%2C4.ipynb#X36sZmlsZQ%3D%3D?line=4'>5</a>\u001b[0m \u001b[39mdef\u001b[39;00m \u001b[39msound\u001b[39m(\u001b[39mself\u001b[39m):\n\u001b[0;32m      <a href='vscode-notebook-cell:/f%3A/Mudit%20Agrawal/coding%20files/Python/pythonYoutube_Harshit/chapter17/1%2C2%2C3%2C4.ipynb#X36sZmlsZQ%3D%3D?line=5'>6</a>\u001b[0m     \u001b[39m# return 'this is animal sound'\u001b[39;00m\n\u001b[0;32m      <a href='vscode-notebook-cell:/f%3A/Mudit%20Agrawal/coding%20files/Python/pythonYoutube_Harshit/chapter17/1%2C2%2C3%2C4.ipynb#X36sZmlsZQ%3D%3D?line=6'>7</a>\u001b[0m \n\u001b[0;32m      <a href='vscode-notebook-cell:/f%3A/Mudit%20Agrawal/coding%20files/Python/pythonYoutube_Harshit/chapter17/1%2C2%2C3%2C4.ipynb#X36sZmlsZQ%3D%3D?line=7'>8</a>\u001b[0m     \u001b[39m# return 'meow meow'\u001b[39;00m\n\u001b[1;32m---> <a href='vscode-notebook-cell:/f%3A/Mudit%20Agrawal/coding%20files/Python/pythonYoutube_Harshit/chapter17/1%2C2%2C3%2C4.ipynb#X36sZmlsZQ%3D%3D?line=9'>10</a>\u001b[0m     \u001b[39mraise\u001b[39;00m \u001b[39mNotImplementedError\u001b[39;00m(\u001b[39m'\u001b[39m\u001b[39myou have to define this method in subclasses\u001b[39m\u001b[39m'\u001b[39m)\n",
      "\u001b[1;31mNotImplementedError\u001b[0m: you have to define this method in subclasses"
     ]
    }
   ],
   "source": [
    "class Animal:\n",
    "    def __init__(self,name):\n",
    "        self.name=name\n",
    "    \n",
    "    def sound(self):\n",
    "        # return 'this is animal sound'\n",
    "\n",
    "        # return 'meow meow'\n",
    "\n",
    "        raise NotImplementedError('you have to define this method in subclasses')\n",
    "# it make sure that those class inherits this class must have their own sound() ,  otherwise their \n",
    "# parent animal  class will raise the above error. (implements abstraction of oop's)\n",
    "    \n",
    "class Dog(Animal):\n",
    "    def __init__(self,name,breed):\n",
    "        super().__init__(name)\n",
    "        self.breed=breed\n",
    "\n",
    "class Cat(Animal):\n",
    "    def __init__(self,name,breed):\n",
    "        super().__init__(name)\n",
    "        self.breed=breed\n",
    "\n",
    "doggy = Dog(\"boony\",\"pug\")\n",
    "print(doggy.sound())\n",
    "print(doggy.breed)"
   ]
  },
  {
   "cell_type": "code",
   "execution_count": 27,
   "metadata": {},
   "outputs": [
    {
     "name": "stdout",
     "output_type": "stream",
     "text": [
      "bhow bhow\n",
      "meow meow\n"
     ]
    }
   ],
   "source": [
    "class Animal:\n",
    "    def __init__(self,name):\n",
    "        self.name=name\n",
    "    \n",
    "    #abstract method - are method in classes those bodies are kept empty.\n",
    "    def sound(self):\n",
    "        # return 'this is animal sound'\n",
    "\n",
    "        # return 'meow meow'\n",
    "\n",
    "        raise NotImplementedError('you have to define this method in subclasses')\n",
    "\n",
    "class Dog(Animal):\n",
    "    def __init__(self,name,breed):\n",
    "        super().__init__(name)\n",
    "        self.breed=breed\n",
    "    \n",
    "    # kind of abstract method , as python don't have abstract method it implements this \n",
    "    # by using NotImplementedError  \n",
    "    def sound(self):\n",
    "        return 'bhow bhow'\n",
    "\n",
    "\n",
    "class Cat(Animal):\n",
    "    def __init__(self,name,breed):\n",
    "        super().__init__(name)\n",
    "        self.breed=breed\n",
    "    def sound(self):\n",
    "        return 'meow meow'\n",
    "\n",
    "\n",
    "doggy = Dog(\"boony\",\"pug\")\n",
    "print(doggy.sound())\n",
    "\n",
    "cat=Cat('tiny',\"caty\")\n",
    "print(cat.sound())\n",
    "\n",
    "\n"
   ]
  },
  {
   "cell_type": "code",
   "execution_count": null,
   "metadata": {},
   "outputs": [],
   "source": [
    "#4\n",
    "# raise errors example 2"
   ]
  },
  {
   "cell_type": "code",
   "execution_count": 4,
   "metadata": {},
   "outputs": [
    {
     "name": "stdout",
     "output_type": "stream",
     "text": [
      "[]\n",
      "['samsung galaxy s8']\n"
     ]
    }
   ],
   "source": [
    "class Mobile:\n",
    "    def __init__(self,name):\n",
    "        self.name = name\n",
    "\n",
    "\n",
    "class MobileStore:\n",
    "    def __init__(self):\n",
    "        self.mobiles = []\n",
    "    \n",
    "    def add_mobile(self,new_mobile):\n",
    "        self.mobiles.append(new_mobile)\n",
    "\n",
    "oneplus=Mobile('one plus 6')\n",
    "samsung = 'samsung galaxy s8'\n",
    "mobostore = MobileStore()\n",
    "print(mobostore.mobiles)\n",
    "\n",
    "\n",
    "mobostore.add_mobile(samsung)      \n",
    "print(mobostore.mobiles)\n",
    "\n",
    "\n",
    "\n"
   ]
  },
  {
   "cell_type": "code",
   "execution_count": 6,
   "metadata": {},
   "outputs": [
    {
     "name": "stdout",
     "output_type": "stream",
     "text": [
      "[]\n",
      "[<__main__.Mobile object at 0x000001B1D5DACDC0>]\n"
     ]
    }
   ],
   "source": [
    "class Mobile:\n",
    "    def __init__(self,name):\n",
    "        self.name = name\n",
    "\n",
    "\n",
    "class MobileStore:\n",
    "    def __init__(self):\n",
    "        self.mobiles = []\n",
    "    \n",
    "    def add_mobile(self,new_mobile):\n",
    "        if isinstance(new_mobile,Mobile):\n",
    "            self.mobiles.append(new_mobile)\n",
    "        else: \n",
    "            raise TypeError('new mobile should be object of Mobile class')\n",
    "\n",
    "oneplus=Mobile('one plus 6')\n",
    "samsung = 'samsung galaxy s8'\n",
    "mobostore = MobileStore()\n",
    "print(mobostore.mobiles)\n",
    "\n",
    "\n",
    "# mobostore.add_mobile(samsung)          #error\n",
    "# print(mobostore.mobiles)\n",
    "\n",
    "\n",
    "\n",
    "mobostore.add_mobile(oneplus)       \n",
    "print(mobostore.mobiles)\n",
    "\n"
   ]
  },
  {
   "cell_type": "code",
   "execution_count": 7,
   "metadata": {},
   "outputs": [
    {
     "name": "stdout",
     "output_type": "stream",
     "text": [
      "[]\n",
      "one plus 6\n"
     ]
    }
   ],
   "source": [
    "class Mobile:\n",
    "    def __init__(self,name):\n",
    "        self.name = name\n",
    "\n",
    "\n",
    "class MobileStore:\n",
    "    def __init__(self):\n",
    "        self.mobiles = []\n",
    "    \n",
    "    def add_mobile(self,new_mobile):\n",
    "        # isinstance to check the object is instance of particular class\n",
    "        if isinstance(new_mobile,Mobile):\n",
    "            self.mobiles.append(new_mobile)\n",
    "        else: \n",
    "            raise TypeError('new mobile should be object of Mobile class')\n",
    "\n",
    "oneplus=Mobile('one plus 6')\n",
    "samsung = 'samsung galaxy s8'\n",
    "mobostore = MobileStore()\n",
    "print(mobostore.mobiles)\n",
    "\n",
    "\n",
    "# mobostore.add_mobile(samsung)          #error\n",
    "# print(mobostore.mobiles)\n",
    "\n",
    "\n",
    "mobostore.add_mobile(oneplus)   \n",
    "mobo_phones= mobostore.mobiles    \n",
    "print(mobo_phones[0].name)\n",
    "\n"
   ]
  }
 ],
 "metadata": {
  "kernelspec": {
   "display_name": "Python 3",
   "language": "python",
   "name": "python3"
  },
  "language_info": {
   "codemirror_mode": {
    "name": "ipython",
    "version": 3
   },
   "file_extension": ".py",
   "mimetype": "text/x-python",
   "name": "python",
   "nbconvert_exporter": "python",
   "pygments_lexer": "ipython3",
   "version": "3.10.0"
  },
  "orig_nbformat": 4
 },
 "nbformat": 4,
 "nbformat_minor": 2
}
