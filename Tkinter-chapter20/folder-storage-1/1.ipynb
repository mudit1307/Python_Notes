{
 "cells": [
  {
   "cell_type": "code",
   "execution_count": 4,
   "metadata": {},
   "outputs": [
    {
     "data": {
      "text/plain": [
       "['file.txt',\n",
       " 'file1.txt',\n",
       " 'file4.txt',\n",
       " 'file5.txt',\n",
       " 'file5_new.txt',\n",
       " 'file7.html',\n",
       " 'file7_new.txt',\n",
       " 'file_new.txt',\n",
       " 'long10.txt',\n",
       " 'love_story10.txt',\n",
       " 'output8.txt']"
      ]
     },
     "execution_count": 4,
     "metadata": {},
     "output_type": "execute_result"
    }
   ],
   "source": [
    "# video 233\n",
    "\n",
    "import os,shutil\n",
    "\n",
    "audio_extensions=('.mps','m4a','.wav','.flac')\n",
    "video_extensions=('.mp4','.mkv','.MKV','.fiv','.mpeg')\n",
    "documents_extensions=('.doc','.pdf','.txt')\n",
    "\n",
    "folder_path = input('enter folder path: ')\n",
    "\n",
    "def file_finder(folder_path, file_extensions ):\n",
    "    files=[]\n",
    "    for file in os.listdir(folder_path):\n",
    "        for extension in file_extensions:\n",
    "            if file.endswith(extension):\n",
    "                files.append(file)\n",
    "    return files\n",
    "\n",
    "file_finder(folder_path,documents_extensions)\n",
    "\n",
    "# example ->  folder_path = F:\\Mudit Agrawal\\coding files\\Python\\pythonYoutube_Harshit\\chapter18-1"
   ]
  },
  {
   "cell_type": "code",
   "execution_count": 6,
   "metadata": {},
   "outputs": [],
   "source": [
    "import os,shutil\n",
    "dict_extensions={\n",
    "    'audio_extensions': ('.mps','m4a','.wav','.flac'),\n",
    "'video_extensions': ('.mp4','.mkv','.MKV','.fiv','.mpeg'),\n",
    "'documents_extensions': ('.doc','.pdf','.txt')\n",
    "}\n",
    "\n",
    "\n",
    "folder_path = input('enter folder path: ')\n",
    "\n",
    "def file_finder(folder_path, file_extensions ):\n",
    "    files=[]\n",
    "    for file in os.listdir(folder_path):\n",
    "        for extension in file_extensions:\n",
    "            if file.endswith(extension):\n",
    "                files.append(file)\n",
    "    return files\n",
    "\n",
    "# print(file_finder(folder_path,documents_extensions))\n",
    "for extension_type,extension_tuple in  dict_extensions.items():\n",
    "    folder_name= extension_type.split(\"_\")[0]\n",
    "    folder_p= os.path.join(folder_path,folder_name)\n",
    "    os.mkdir(folder_p)\n",
    "    for item in (file_finder(folder_path,extension_tuple)):\n",
    "        item_path=os.path.join(folder_path,item)\n",
    "        item_new_path= os.path.join(folder_p,item)\n",
    "        shutil.move(item_path,item_new_path)\n",
    "    # print ('calling file finder')\n",
    "    # print(file_finder(folder_path,extension_tuple))"
   ]
  },
  {
   "cell_type": "code",
   "execution_count": null,
   "metadata": {},
   "outputs": [],
   "source": []
  }
 ],
 "metadata": {
  "kernelspec": {
   "display_name": "Python 3",
   "language": "python",
   "name": "python3"
  },
  "language_info": {
   "codemirror_mode": {
    "name": "ipython",
    "version": 3
   },
   "file_extension": ".py",
   "mimetype": "text/x-python",
   "name": "python",
   "nbconvert_exporter": "python",
   "pygments_lexer": "ipython3",
   "version": "3.11.4"
  },
  "orig_nbformat": 4
 },
 "nbformat": 4,
 "nbformat_minor": 2
}
