{
 "cells": [
  {
   "cell_type": "code",
   "execution_count": 4,
   "metadata": {},
   "outputs": [
    {
     "name": "stdout",
     "output_type": "stream",
     "text": [
      "8\n",
      "125\n",
      "512\n",
      "16\n",
      "4\n"
     ]
    }
   ],
   "source": [
    "#4 tutorial 168\n",
    "# closures practice \n",
    "\n",
    "# function returning function (closure or first class function)\n",
    "\n",
    "def to_power(x):\n",
    "    def calc_power(n):\n",
    "        return n**x\n",
    "    return calc_power\n",
    "\n",
    "\n",
    "cube =to_power(3)\n",
    "print(cube(2))\n",
    "print(cube(5))\n",
    "print(cube(8))\n",
    "print()\n",
    "\n",
    "\n",
    "square=to_power(2)\n",
    "print(square(4))\n",
    "print(square(2))"
   ]
  },
  {
   "cell_type": "code",
   "execution_count": 2,
   "metadata": {},
   "outputs": [],
   "source": [
    "#5 tutorial 169\n",
    "# decorators intro\n",
    "\n"
   ]
  },
  {
   "cell_type": "code",
   "execution_count": 1,
   "metadata": {},
   "outputs": [
    {
     "name": "stdout",
     "output_type": "stream",
     "text": [
      "this is function 1\n",
      "this is function 2\n",
      "\n",
      "this is awesome function\n",
      "this is function 1\n",
      "this is awesome function\n",
      "this is function 2\n",
      "this is awesome function\n",
      "this is function 1\n",
      "\n",
      "\n",
      "this is awesome function\n",
      "this is function 3\n"
     ]
    }
   ],
   "source": [
    "#decorators -enhance the functionality of other functions\n",
    "\n",
    "def decorator_function(any_function):\n",
    "    def wrapper_function():\n",
    "        print(\"this is awesome function\")\n",
    "        any_function()\n",
    "    return wrapper_function\n",
    "\n",
    "#this is awesome function\n",
    "def func1():\n",
    "    print(\"this is function 1\")\n",
    "\n",
    "#this is awesome function\n",
    "def func2():\n",
    "    print(\"this is function 2\")\n",
    "\n",
    "func1()\n",
    "func2()\n",
    "print()\n",
    "\n",
    "#or call the above function to add functionality this way \n",
    "var1 =decorator_function(func1)\n",
    "var1()\n",
    "\n",
    "var2 =decorator_function(func2)\n",
    "var2()\n",
    "\n",
    "\n",
    "\n",
    "\n",
    "#or use this way \n",
    "func1 = decorator_function(func1)\n",
    "func1()\n",
    "\n",
    "print(\"\\n\")\n",
    "\n",
    "#using abve logic\n",
    "# @ use for decorator\n",
    "\n",
    "@decorator_function         #shortcut\n",
    "def func3():\n",
    "    print(\"this is function 3\")\n",
    "\n",
    "func3()"
   ]
  },
  {
   "cell_type": "code",
   "execution_count": 20,
   "metadata": {},
   "outputs": [],
   "source": []
  },
  {
   "cell_type": "code",
   "execution_count": null,
   "metadata": {},
   "outputs": [],
   "source": []
  },
  {
   "cell_type": "code",
   "execution_count": null,
   "metadata": {},
   "outputs": [],
   "source": [
    "#6  170\n",
    "# decorator part-2\n"
   ]
  },
  {
   "cell_type": "code",
   "execution_count": 1,
   "metadata": {},
   "outputs": [
    {
     "name": "stdout",
     "output_type": "stream",
     "text": [
      "this is awesome function\n",
      "this is function with argument 7\n"
     ]
    }
   ],
   "source": [
    "# decorators - enhance the functionality of other functions\n",
    "# @ use for decorator\n",
    "\n",
    "def decorator_function(any_function):\n",
    "    def wrapper_function(*args, **kwargs):\n",
    "        print(\"this is awesome function\")\n",
    "        any_function(*args, **kwargs)\n",
    "    return wrapper_function\n",
    "\n",
    "@decorator_function\n",
    "def func(a):\n",
    "    print(f\"this is function with argument {a}\")\n",
    "\n",
    "#can use this way or @ syntax to use decorators\n",
    "# func= decorator_function(func())\n",
    "# func()\n",
    "\n",
    "\n",
    "\n",
    "# func(7)   # it will give error as wrapper_function takes no arguments\n",
    "#to resolve this pass *args,**kwargs as arguments to wrapper_function\n",
    "\n",
    "func(7)\n",
    "\n",
    "\n",
    "# it has another problem of return is wrapper_function"
   ]
  },
  {
   "cell_type": "code",
   "execution_count": 5,
   "metadata": {},
   "outputs": [
    {
     "name": "stdout",
     "output_type": "stream",
     "text": [
      "this is awesome function\n",
      "5\n",
      "\n",
      "this is awesome function\n",
      "this is function with argument 7\n"
     ]
    }
   ],
   "source": [
    "def decorator_function(any_function):\n",
    "    def wrapper_function(*args, **kwargs):\n",
    "        print(\"this is awesome function\")\n",
    "        return any_function(*args, **kwargs)                 #withiout this it will not return back the function value to where it is call.\n",
    "    return wrapper_function\n",
    "\n",
    "@decorator_function\n",
    "def add(a,b):\n",
    "    return a+b\n",
    "\n",
    "print(add(2,3))    #if return was not there the it will not print the result return by the add function\n",
    "#and it will not create any problem to func function of the above case\n",
    "\n",
    "print()\n",
    "\n",
    "\n",
    "@decorator_function\n",
    "def func(a):\n",
    "    print(f\"this is function with argument {a}\")\n",
    "\n",
    "\n",
    "func(7)\n"
   ]
  },
  {
   "cell_type": "code",
   "execution_count": null,
   "metadata": {},
   "outputs": [],
   "source": []
  },
  {
   "cell_type": "code",
   "execution_count": null,
   "metadata": {},
   "outputs": [],
   "source": []
  }
 ],
 "metadata": {
  "kernelspec": {
   "display_name": "Python 3",
   "language": "python",
   "name": "python3"
  },
  "language_info": {
   "codemirror_mode": {
    "name": "ipython",
    "version": 3
   },
   "file_extension": ".py",
   "mimetype": "text/x-python",
   "name": "python",
   "nbconvert_exporter": "python",
   "pygments_lexer": "ipython3",
   "version": "3.11.4"
  },
  "orig_nbformat": 4
 },
 "nbformat": 4,
 "nbformat_minor": 2
}
