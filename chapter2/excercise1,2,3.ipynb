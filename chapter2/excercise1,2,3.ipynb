{
 "cells": [
  {
   "cell_type": "code",
   "execution_count": null,
   "metadata": {},
   "outputs": [],
   "source": [
    "#1\n",
    "\n",
    "''' ask user to input 3 no. and you have to\n",
    "print average of three numbers using \n",
    "string formatting '''\n",
    "'''bonus: try to take all three comma \n",
    "seperated inputs in one line'''\n",
    "\n",
    "# answer\n",
    "num1=int(input(\"enter 1 number here: \"))\n",
    "num2=int(input(\"enter 2 number here: \"))\n",
    "num3= int(input(\"enter 3 number here: \"))\n",
    "\n",
    "total=num1+num2+num3\n",
    "total=total/3\n",
    "\n",
    "print(\"the average of {},{},{} is: {}\".format(num1,num2,num3,total))\n",
    "\n",
    "\n",
    "#bonu answer \n",
    "num1,num2,num3=input(\"enter three comma seperated no. here: \").split(\",\")\n",
    "total=int(num1)+int(num2)+int(num3)\n",
    "total= total/3\n",
    "\n",
    "print(f\"the average of {num1},{num2},{num3} is {total}\")"
   ]
  },
  {
   "cell_type": "code",
   "execution_count": null,
   "metadata": {},
   "outputs": [],
   "source": [
    "#2\n",
    "\n",
    "\n",
    "# Exercise2\n",
    "''' que. ask user name and print back user name in revers order. \n",
    "note:try to make your program in 2 lines using string formatting.''' \n",
    "\n",
    "name=input(\"enter your name here: \")\n",
    "print(f\"your name in reverse order is {name[::-1]}\")\n"
   ]
  },
  {
   "cell_type": "code",
   "execution_count": null,
   "metadata": {},
   "outputs": [],
   "source": [
    "#3\n",
    "\n",
    "'''\n",
    "que.  take two comma separated inputs from user \n",
    "1. user's name , example-\"Harshit\"\n",
    "2. a single character , \"h\"\n",
    "\n",
    "#output-2 print line \n",
    "1. user's name length \n",
    "2. count the character that user inputed \n",
    "(bonus:case insensitive count )    \n",
    "'''\n",
    "\n",
    "\n",
    "#BONU ANS. CASE-INSENSITIVE \n",
    "name,ch=input(\"enter a name and character comma seperated: \").split(\",\")\n",
    "print(f\"length of users name is {len(name)}\")\n",
    "print(f\"the count of input character {ch} is {name.lower().count(ch.lower())}\")\n",
    "# print(f\"the count{(name.lower()).count(ch.lower())}\")\n",
    "\n",
    "#or (bonu ans.) EXPLAIN\n",
    "name,ch=input(\"enter a name and character(comma seperated): \").split(\",\")\n",
    "print(f\"length of users name is {len(name)}\")\n",
    "name=name.lower()\n",
    "ch=ch.lower()\n",
    "print(f\"the count of input character {ch} is {name.count(ch)}\")\n"
   ]
  },
  {
   "cell_type": "code",
   "execution_count": null,
   "metadata": {},
   "outputs": [],
   "source": [
    "#3 part2 \n",
    "\n",
    "#removing spaces from user input (character)\n",
    "name,ch=input(\"enter a name and character comma seperated: \").split(\",\")\n",
    "print(f\"length of users name is {len(name.strip())}\")\n",
    "print(f\"the count of input character {ch.strip()} is {name.lower().count(ch.lower().strip())}\")\n",
    "\n",
    "\n",
    "#or \n",
    "#print(f\"character count: (name.strip().lower().count(char.strip().lower())) \")"
   ]
  }
 ],
 "metadata": {
  "language_info": {
   "name": "python"
  }
 },
 "nbformat": 4,
 "nbformat_minor": 2
}
