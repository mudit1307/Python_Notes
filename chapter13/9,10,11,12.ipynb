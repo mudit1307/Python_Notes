{
 "cells": [
  {
   "cell_type": "code",
   "execution_count": null,
   "metadata": {},
   "outputs": [],
   "source": [
    "#9\n",
    "#any and all function practice \n"
   ]
  },
  {
   "cell_type": "code",
   "execution_count": 6,
   "metadata": {},
   "outputs": [
    {
     "name": "stdout",
     "output_type": "stream",
     "text": [
      "10\n",
      "10\n",
      "wrong input\n"
     ]
    }
   ],
   "source": [
    "def my_sum(*args):\n",
    "    #args = ()\n",
    "    total=0 \n",
    "    for num in args:\n",
    "        total+=num \n",
    "    return total\n",
    "\n",
    "print(my_sum(1,2,3,4))\n",
    "print(my_sum(1,2,3,4,3.4,1.2))\n",
    "# print(my_sum(1,2,3,4,\"harshit\",['harshit']))    #not correct data type \n",
    "\n",
    "\n",
    "\n",
    "#check data type this way\n",
    "def my_sum1(*args):\n",
    "    #args = ()\n",
    "    if all([(type(arg) == int or type(arg) == float) for arg in args]):\n",
    "        total=0 \n",
    "        for num in args:\n",
    "            total+=num \n",
    "        return total\n",
    "    else:\n",
    "        return \"wrong input\"\n",
    "\n",
    "print(my_sum1(1,2,3,4))\n",
    "\n",
    "print(my_sum1(1,2,3,4,\"harshit\",['harshit']))"
   ]
  },
  {
   "cell_type": "code",
   "execution_count": 1,
   "metadata": {},
   "outputs": [
    {
     "name": "stdout",
     "output_type": "stream",
     "text": [
      "10\n",
      "wrong input type\n"
     ]
    }
   ],
   "source": [
    "# practice\n",
    "def my_sum(*args):\n",
    "    if all([(type(i) == int or type(i) == float) for i in args]):\n",
    "        total=0\n",
    "        for x in args:\n",
    "            total+=x\n",
    "        return total\n",
    "    else:\n",
    "        return \"wrong input type\"\n",
    "\n",
    "print(my_sum(1,2,3,4))\n",
    "\n",
    "print(my_sum(1,2,3,4,\"harshit\",['harshit']))\n"
   ]
  },
  {
   "cell_type": "code",
   "execution_count": 1,
   "metadata": {},
   "outputs": [],
   "source": [
    "#10\n",
    "# advance min() and max()"
   ]
  },
  {
   "cell_type": "code",
   "execution_count": 3,
   "metadata": {},
   "outputs": [
    {
     "name": "stdout",
     "output_type": "stream",
     "text": [
      "7\n",
      "1\n"
     ]
    }
   ],
   "source": [
    "numbers=[1,2,4,5,7]\n",
    "print(max(numbers))\n",
    "print(min(numbers))\n"
   ]
  },
  {
   "cell_type": "code",
   "execution_count": 3,
   "metadata": {},
   "outputs": [
    {
     "name": "stdout",
     "output_type": "stream",
     "text": [
      "harshit\n",
      "abc\n",
      "harshit\n"
     ]
    }
   ],
   "source": [
    "def func(item):\n",
    "    return len(item)\n",
    "\n",
    "names=['harshit','mohit','abc','mudit']\n",
    "\n",
    "print(max(names,key = func))\n",
    "print(min(names,key =func))\n",
    "\n",
    "print(max(names, key = lambda item: len(item)))\n",
    "\n",
    "\n",
    "\n",
    "#or  using list comprhension\n",
    "# print(max([len(num) for num in names]))"
   ]
  },
  {
   "cell_type": "code",
   "execution_count": 10,
   "metadata": {},
   "outputs": [
    {
     "name": "stdout",
     "output_type": "stream",
     "text": [
      "{'name': 'shyam', 'score': 100, 'age': 20}\n",
      "shyam\n",
      "shyam\n",
      "harshit\n"
     ]
    }
   ],
   "source": [
    "students2=[\n",
    "    {'name':'harshit','score':90,'age':24},\n",
    "    {'name':'mohit','score':50,'age':19},\n",
    "    {'name':'shyam','score':100,'age':20}\n",
    "]\n",
    "\n",
    "#according to max score\n",
    "print(max(students2,key = lambda item: item.get(\"score\")))\n",
    "\n",
    "#to print max score student name\n",
    "print(max(students2,key = lambda item: item.get(\"score\")).get(\"name\"))\n",
    "\n",
    "print(max(students2,key = lambda item: item.get(\"score\"))[\"name\"])\n",
    "\n",
    "\n",
    "#according to max age\n",
    "print(max(students2,key = lambda item: item.get(\"age\"))['name'])\n",
    "\n",
    "\n"
   ]
  },
  {
   "cell_type": "code",
   "execution_count": 7,
   "metadata": {},
   "outputs": [
    {
     "name": "stdout",
     "output_type": "stream",
     "text": [
      "hershit\n",
      "hershit\n",
      "hershit\n",
      "mohit\n"
     ]
    }
   ],
   "source": [
    "students={\n",
    "    'hershit':{'score':90 ,'age':24},\n",
    "    'mohit':{'score':75,'age':40},\n",
    "    'rohit':{'score': 76 ,'age':23}\n",
    "}\n",
    "\n",
    "#calculate max score\n",
    "print(max(students,key = lambda item: students[item].get('score')))\n",
    "\n",
    "print(max(students,key = lambda item: students[item]['score']))\n",
    "\n",
    "\n",
    "print(max(students,key = lambda item: (students.get(item)).get('score')))\n",
    "\n",
    "\n",
    "#according to maximum age\n",
    "print(max(students,key= lambda item: students[item]['age']))"
   ]
  },
  {
   "cell_type": "code",
   "execution_count": 5,
   "metadata": {},
   "outputs": [
    {
     "name": "stdout",
     "output_type": "stream",
     "text": [
      "mohit\n"
     ]
    }
   ],
   "source": []
  },
  {
   "cell_type": "code",
   "execution_count": 9,
   "metadata": {},
   "outputs": [
    {
     "name": "stdout",
     "output_type": "stream",
     "text": [
      "['grapes', 'mango', 'apple']\n",
      "['apple', 'grapes', 'mango']\n",
      "\n",
      "('grapes', 'mango', 'apple')\n",
      "['apple', 'grapes', 'mango']\n",
      "('grapes', 'mango', 'apple')\n",
      "\n",
      "{'grapes', 'apple', 'mango'}\n",
      "['apple', 'grapes', 'mango']\n",
      "{'grapes', 'apple', 'mango'}\n"
     ]
    }
   ],
   "source": [
    "#11\n",
    "# advance sorted() function\n",
    "\n",
    "fruits = ['grapes' , 'mango' , 'apple']\n",
    "print(fruits)\n",
    "#sort\n",
    "fruits.sort()\n",
    "print(fruits)\n",
    "\n",
    "print()\n",
    "\n",
    "\n",
    "\n",
    "fruits2=('grapes','mango','apple')\n",
    "print(fruits2)\n",
    "#sort - don't work with tuple\n",
    "# fruits2.sort()       #it will give an error\n",
    "print(sorted(fruits2))    #will not make changes to the original tuple fruits2 ,and it will return list in sorted order\n",
    "print()\n",
    "\n",
    "\n",
    "# same for sets\n",
    "fruits3={'grapes','mango','apple'}\n",
    "print(fruits3)\n",
    "print(sorted(fruits3))\n",
    "print(fruits3)    #no changes to original set order\n",
    "\n"
   ]
  },
  {
   "cell_type": "code",
   "execution_count": 10,
   "metadata": {},
   "outputs": [
    {
     "name": "stdout",
     "output_type": "stream",
     "text": [
      "[{'model': 'yamaha f310', 'price': 8400}, {'model': 'faith apollo venus', 'price': 35000}, {'model': 'faith naptune', 'price': 50000}, {'model': 'taylor 814ce', 'price': 70000}]\n",
      "[{'model': 'taylor 814ce', 'price': 70000}, {'model': 'faith naptune', 'price': 50000}, {'model': 'faith apollo venus', 'price': 35000}, {'model': 'yamaha f310', 'price': 8400}]\n",
      "[{'model': 'yamaha f310', 'price': 8400}, {'model': 'faith apollo venus', 'price': 35000}, {'model': 'faith naptune', 'price': 50000}, {'model': 'taylor 814ce', 'price': 70000}]\n"
     ]
    }
   ],
   "source": [
    "guitars=[\n",
    "    {'model':'yamaha f310','price':8400},\n",
    "    {'model':'faith naptune','price':50000},\n",
    "    {'model':'faith apollo venus','price':35000},\n",
    "    {'model':'taylor 814ce','price':70000},\n",
    "]\n",
    "\n",
    "#ascending order sorted according to price\n",
    "print(sorted(guitars,key = lambda item: item[\"price\"]))\n",
    "\n",
    "#decending oder sorted according to price\n",
    "print(sorted(guitars,key = lambda item: item[\"price\"], reverse =True))\n",
    "\n",
    "#store in variable\n",
    "sorted_guitars= sorted(guitars,key = lambda item: item[\"price\"])  \n",
    "print(sorted_guitars)"
   ]
  },
  {
   "cell_type": "code",
   "execution_count": null,
   "metadata": {},
   "outputs": [],
   "source": []
  },
  {
   "cell_type": "code",
   "execution_count": null,
   "metadata": {},
   "outputs": [],
   "source": [
    "#12 python tutorial 164\n",
    "# more about function"
   ]
  },
  {
   "cell_type": "code",
   "execution_count": 30,
   "metadata": {},
   "outputs": [
    {
     "name": "stdout",
     "output_type": "stream",
     "text": [
      "5\n",
      "this function  takes 2 numbers and return their sum \n",
      "Return the number of items in a container.\n",
      "Return the sum of a 'start' value (default: 0) plus an iterable of numbers\n",
      "\n",
      "When the iterable is empty, return the start value.\n",
      "This function is intended specifically for use with numeric values and may\n",
      "reject non-numeric types.\n",
      "\n",
      "Help on built-in function sum in module builtins:\n",
      "\n",
      "sum(iterable, /, start=0)\n",
      "    Return the sum of a 'start' value (default: 0) plus an iterable of numbers\n",
      "    \n",
      "    When the iterable is empty, return the start value.\n",
      "    This function is intended specifically for use with numeric values and may\n",
      "    reject non-numeric types.\n",
      "\n",
      "None\n"
     ]
    }
   ],
   "source": [
    "#what are doc strings\n",
    "# how to write docstring \n",
    "# how to see docstrings\n",
    "# what is help fuction\n",
    "\n",
    "def add(a,b):\n",
    "    '''this function  takes 2 numbers and return their sum '''\n",
    "    return a+b\n",
    "\n",
    "print(add(2,3))\n",
    "\n",
    "#print doc string of  a function\n",
    "#doc string provides information about function and parameters\n",
    "print(add.__doc__)           \n",
    "\n",
    "#len, sum ,max ,min ,sorted  - all these built-in functions has docstring\n",
    "\n",
    "print(len.__doc__)\n",
    "print(sum.__doc__)\n",
    "\n",
    "print()\n",
    "\n",
    "#help  - to know the functionaiy use of any python  built-in function\n",
    "print(help(sum))\n",
    "\n"
   ]
  }
 ],
 "metadata": {
  "kernelspec": {
   "display_name": "base",
   "language": "python",
   "name": "python3"
  },
  "language_info": {
   "codemirror_mode": {
    "name": "ipython",
    "version": 3
   },
   "file_extension": ".py",
   "mimetype": "text/x-python",
   "name": "python",
   "nbconvert_exporter": "python",
   "pygments_lexer": "ipython3",
   "version": "3.11.4"
  },
  "orig_nbformat": 4
 },
 "nbformat": 4,
 "nbformat_minor": 2
}
