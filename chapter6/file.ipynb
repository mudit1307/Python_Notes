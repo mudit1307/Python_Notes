{
 "cells": [
  {
   "cell_type": "code",
   "execution_count": null,
   "metadata": {},
   "outputs": [],
   "source": [
    "#chapter 6\n",
    "\n",
    "#function returning two values \n",
    "def func(int1,int2):\n",
    "    add=int1+int2 \n",
    "    mutiply=int2*int1\n",
    "\n",
    "    return add,mutiply \n",
    "    \n",
    "print(func(2,3))\n",
    "add,mutiply=func(2,3)\n",
    "print(add)\n",
    "print (mutiply)\n",
    "\n",
    "\n",
    "#something more about tuple,list,str \n",
    "\n",
    "num_tup=tuple(range(1,11))\n",
    "num_list=list(range(1,11))\n",
    "\n",
    "print(num_tup)\n",
    "print(num_list)\n",
    "\n",
    "nums=list((1,2,3,4,5))\n",
    "print(nums)\n",
    "\n",
    "\n",
    "#tuples chapter summary \n",
    "\n",
    "'''tuples are immutable \n",
    "tuples are orderd collection of items \n",
    "tuples can store any data type \n",
    "you cannot change (add or delete) values from tuple once it created \n",
    "but can add, data from list which is present inside tuples'''\n",
    "\n",
    "mixed=(1,2,3,4,5,'six')\n",
    "#no append ,no pop ,no insert ,no remove \n",
    "# only count and index \n",
    "\n",
    "#fuctions \n",
    "#min(),max(),len(),sum()\n",
    "\n",
    "\n",
    "mixed2=(1,2,3,4,5,[6,7,8])\n",
    "mixed2[5].pop()\n",
    "print(mixed2)\n",
    "\n"
   ]
  }
 ],
 "metadata": {
  "language_info": {
   "name": "python"
  },
  "orig_nbformat": 4
 },
 "nbformat": 4,
 "nbformat_minor": 2
}
