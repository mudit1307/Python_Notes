{
 "cells": [
  {
   "cell_type": "code",
   "execution_count": 4,
   "metadata": {},
   "outputs": [
    {
     "name": "stdout",
     "output_type": "stream",
     "text": [
      "1\n",
      "2\n",
      "3\n",
      "\n",
      "<map object at 0x000002BB51283FD0>\n",
      "1\n",
      "4\n",
      "9\n"
     ]
    }
   ],
   "source": [
    "#1  tutorial 177\n",
    "\n",
    "# intro to generators\n",
    "\n",
    "# generators are iterators\n",
    "\n",
    "\n",
    "#iterator,iterable\n",
    "\n",
    "l=[1,2,3] #iterable \n",
    "#iterable change into iterator by for loop to iterate through\n",
    "# for i in l: \n",
    "#     print()\n",
    "\n",
    "i=iter(l)\n",
    "print(next(i))\n",
    "print(next(i))\n",
    "print(next(i))\n",
    "print()\n",
    "\n",
    "# map(lambda a : a**2 , l)   #iterator\n",
    "print(map(lambda a:a**2 ,l))\n",
    "\n",
    "for num in map(lambda a:a**2 ,l):\n",
    "    print(num)\n",
    "\n",
    "\n",
    "\n",
    "#generator may have some sequence stored in it \n",
    "\n",
    "# l = [1,4,9,16]\n",
    "#memory ---> [,,,,,,,,,,,,,,,,,,,,,,,,,,,,,] , list\n",
    "#memory --> (1)\n",
    "\n",
    "# when we have to use data again and again use list\n",
    "# but, when we have to use a sequence single time we use generator"
   ]
  },
  {
   "cell_type": "code",
   "execution_count": null,
   "metadata": {},
   "outputs": [],
   "source": [
    "#2 \n",
    "#write first generator\n",
    "\n",
    "#create your first generator with generator function \n",
    "# 1). generator function \n",
    "# 2). generator comprehension"
   ]
  },
  {
   "cell_type": "code",
   "execution_count": 2,
   "metadata": {},
   "outputs": [
    {
     "name": "stdout",
     "output_type": "stream",
     "text": [
      "1\n",
      "2\n",
      "3\n",
      "4\n",
      "5\n",
      "6\n",
      "7\n",
      "8\n",
      "9\n",
      "10\n",
      "<generator object nums1 at 0x000002B096B728F0>\n",
      "\n",
      "1\n",
      "2\n",
      "3\n",
      "4\n",
      "5\n",
      "\n",
      "1\n",
      "2\n",
      "3\n",
      "4\n",
      "5\n",
      "6\n",
      "7\n",
      "8\n",
      "9\n",
      "10\n"
     ]
    }
   ],
   "source": [
    "# input 10 , output-> print 1 to 10\n",
    "\n",
    "def nums(n):\n",
    "    for i in range(1,n+1):\n",
    "        print(i)\n",
    "\n",
    "nums(10)\n",
    "\n",
    "\n",
    "\n",
    "def nums1(n):\n",
    "    for i in range(1,n+1):\n",
    "        yield(i)\n",
    "\n",
    "print(nums1(4))\n",
    "print()\n",
    "\n",
    "for number in nums1(5):\n",
    "    print(number)\n",
    "\n",
    "print()\n",
    "\n",
    "numbers = nums1(10)\n",
    "for num in numbers:\n",
    "    print(num)\n",
    "\n",
    "for num in numbers:\n",
    "    print(num)\n",
    "        "
   ]
  },
  {
   "cell_type": "code",
   "execution_count": 3,
   "metadata": {},
   "outputs": [
    {
     "name": "stdout",
     "output_type": "stream",
     "text": [
      "1\n",
      "2\n",
      "3\n",
      "4\n",
      "5\n",
      "6\n",
      "7\n",
      "8\n",
      "9\n",
      "10\n",
      "1\n",
      "2\n",
      "3\n",
      "4\n",
      "5\n",
      "6\n",
      "7\n",
      "8\n",
      "9\n",
      "10\n"
     ]
    }
   ],
   "source": [
    "numbers = list(nums1(10))\n",
    "for num in numbers:\n",
    "    print(num)\n",
    "\n",
    "for num in numbers:\n",
    "    print(num)  "
   ]
  },
  {
   "cell_type": "code",
   "execution_count": 3,
   "metadata": {},
   "outputs": [
    {
     "name": "stdout",
     "output_type": "stream",
     "text": [
      "<generator object seq at 0x0000020A806F4820>\n",
      "2\n",
      "4\n"
     ]
    }
   ],
   "source": [
    "#exercise 1 \n",
    "#define generator function\n",
    "# takes one number as argumnet\n",
    "# generate a sequence of  even numbers from 1 to that number\n",
    "\n",
    "# 5 --->2 4\n",
    "\n",
    "def seq(n):\n",
    "    for i in range(1,n+1):\n",
    "        if i&1 == 0:\n",
    "            yield(i)\n",
    "\n",
    "print(seq(5))\n",
    "\n",
    "for num in seq(5):\n",
    "    print(num)"
   ]
  },
  {
   "cell_type": "code",
   "execution_count": 4,
   "metadata": {},
   "outputs": [
    {
     "name": "stdout",
     "output_type": "stream",
     "text": [
      "2\n",
      "4\n",
      "6\n",
      "8\n",
      "10\n",
      "12\n",
      "14\n",
      "16\n",
      "18\n",
      "20\n"
     ]
    }
   ],
   "source": [
    "def even_generator(n):\n",
    "    for i in range(2,n+1,2):\n",
    "            yield(i)\n",
    "\n",
    "even_nums=even_generator(20)\n",
    "for num in even_nums:\n",
    "    print(num)"
   ]
  },
  {
   "cell_type": "code",
   "execution_count": 7,
   "metadata": {},
   "outputs": [
    {
     "name": "stdout",
     "output_type": "stream",
     "text": [
      "[1, 4, 9, 16, 25, 36, 49, 64, 81, 100]\n",
      "<generator object <genexpr> at 0x0000020A806F65E0>\n",
      "1\n",
      "4\n",
      "9\n",
      "16\n",
      "25\n",
      "36\n",
      "49\n",
      "64\n",
      "81\n",
      "100\n"
     ]
    }
   ],
   "source": [
    "#5 \n",
    "# generator comprehension\n",
    "\n",
    "#List comprehension \n",
    "square =[i**2 for i in range(1,11)]\n",
    "print(square)\n",
    " \n",
    "\n",
    "# generator comprehension\n",
    "square =(i**2 for i in range(1,11))\n",
    "\n",
    "print(square)\n",
    "\n",
    "for i in square:\n",
    "    print(i)"
   ]
  },
  {
   "cell_type": "code",
   "execution_count": 1,
   "metadata": {},
   "outputs": [
    {
     "name": "stdout",
     "output_type": "stream",
     "text": [
      "1\n",
      "4\n",
      "9\n"
     ]
    }
   ],
   "source": [
    "# generator comprehension\n",
    "square =(i**2 for i in range(1,11))\n",
    "\n",
    "print(next(square))\n",
    "print(next(square))\n",
    "print(next(square))\n",
    "\n"
   ]
  },
  {
   "cell_type": "code",
   "execution_count": 5,
   "metadata": {},
   "outputs": [],
   "source": [
    "#6\n",
    "# list vs generator\n",
    "# memory usage,time\n",
    "# when to use list , when to use generator \n",
    "\n",
    "l =[i**2 for i in range(10000000)]  #10 million\n",
    "\n",
    "g=(i**2 for i in range(10000000))   #10 million\n"
   ]
  },
  {
   "cell_type": "code",
   "execution_count": 7,
   "metadata": {},
   "outputs": [
    {
     "name": "stdout",
     "output_type": "stream",
     "text": [
      "6.1671226024627686\n"
     ]
    }
   ],
   "source": [
    "import time \n",
    "\n",
    "t1=time.time()\n",
    "l =[i**2 for i in range(10000000)]  #10 million\n",
    "# t2=time.time()\n",
    "# print(t2-t1)\n",
    "\n",
    "print(time.time()-t1)\n"
   ]
  },
  {
   "cell_type": "code",
   "execution_count": 8,
   "metadata": {},
   "outputs": [
    {
     "name": "stdout",
     "output_type": "stream",
     "text": [
      "0.0009813308715820312\n"
     ]
    }
   ],
   "source": [
    "import time \n",
    "\n",
    "t1=time.time()\n",
    "g=(i**2 for i in range(10000000))   #10 million\n",
    "print(time.time()-t1)\n"
   ]
  },
  {
   "cell_type": "code",
   "execution_count": null,
   "metadata": {},
   "outputs": [],
   "source": [
    "#use list when we have to do operation on sequence or we have to use it repeatidly\n",
    "#for one time use of sequence use generator\n",
    "\n",
    "# ---------end---------"
   ]
  }
 ],
 "metadata": {
  "kernelspec": {
   "display_name": "Python 3",
   "language": "python",
   "name": "python3"
  },
  "language_info": {
   "codemirror_mode": {
    "name": "ipython",
    "version": 3
   },
   "file_extension": ".py",
   "mimetype": "text/x-python",
   "name": "python",
   "nbconvert_exporter": "python",
   "pygments_lexer": "ipython3",
   "version": "3.10.5"
  },
  "orig_nbformat": 4
 },
 "nbformat": 4,
 "nbformat_minor": 2
}
