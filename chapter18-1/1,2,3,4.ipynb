{
 "cells": [
  {
   "cell_type": "code",
   "execution_count": null,
   "metadata": {},
   "outputs": [],
   "source": [
    "# chapter 18\n",
    "\n",
    "#1 \n",
    "# read text file\n",
    "\n",
    "\n",
    "\n",
    "# read file\n",
    "# open function \n",
    "# read method \n",
    "# seek method\n",
    "# tell method\n",
    "# readline method\n",
    "# readlines method\n",
    "# close method\n",
    "\n"
   ]
  },
  {
   "cell_type": "code",
   "execution_count": 4,
   "metadata": {},
   "outputs": [
    {
     "name": "stdout",
     "output_type": "stream",
     "text": [
      "Lorem ipsum dolor sit amet, consectetur adipisicing elit. Delectus tempore vitae id aliquam \n",
      "dolores necessitatibus corporis maxime, doloremque in non quasi voluptates, autem rem \n",
      "dignissimos quo atque architecto ipsa est provident ipsam soluta neque ex. Ab error veritatis \n",
      "itaque totam in vel temporibus sapiente. Ipsum officia deleniti natus laboriosam fugit.\n",
      "\n"
     ]
    }
   ],
   "source": [
    "# i/o file .py\n",
    "\n",
    "f = open(\"file.txt\" ,'r')   # f object (open function return object)\n",
    "print(f.read())      # read()  return  data of file in string format\n",
    "print(f.read())      #it will not print next time as cursor is at end after first read()\n",
    "f.close()           \n",
    "\n",
    "\n",
    "\n",
    "\n",
    "\n",
    "#r -read mode \n",
    "# w - write mode\n",
    "# if not mentioned or by default it will open file in read mode\n",
    "# f = open(\"file.txt\" )\n"
   ]
  },
  {
   "cell_type": "code",
   "execution_count": 2,
   "metadata": {},
   "outputs": [
    {
     "name": "stdout",
     "output_type": "stream",
     "text": [
      "please add this line to fileconsectetur adipiscing elit. Sed egestas, ante et vulputate volutpat, eros nibh faucibus leo, vitae semper nisl ligula nec sem. Nullam\n",
      "viverra justo vitae neque scelerisque, in congue erat eleifend. Nullam ac felis leo. \n",
      "Quisque euismod mauris eu elit ullamcorper, vitae facilisis enim volutpat. Nam viverra\n",
      "imperdiet quam quis faucibus. Nullam ac urna eu felis dapibus condimentum. Nullam ac \n",
      "sapien quam. Nullam sit amet felis semper, porttitor turpis id, aliquet quam. Curabitur \n",
      "non nulla sit amet nisl tempus convallis. Curabitur a felis in nunc fringilla tristique. \n",
      "Curabitur sit amet nibh libero, in gravida tellus.\n",
      "\n",
      "Nullam sit amet felis semper, porttitor turpis id, aliquet quam. Curabitur non nulla sit amet nisl tempus convallis. Curabitur a felis in nunc fringilla tristique. Curabitur sit amet nibh libero, in gravida tellus.\n",
      "\n",
      "Nullam sit amet felis semper, porttitor turpis id, aliquet quam. Curabitur non nulla sit amet nisl tempus convallis. Curabitur a felis in nunc fringilla tristique. Curabitur sit amet nibh libero, in gravida tellus.\n",
      "\n",
      "Nullam sit amet felis semper, porttitor turpis id, aliquet quam. Curabitur non nulla sit amet nisl tempus convallis. Curabitur a felis in nunc fringilla tristique. Curabitur sit amet nibh libero, in gravida tellus.libero, apeending this at the end of file\n",
      "\n"
     ]
    }
   ],
   "source": []
  },
  {
   "cell_type": "code",
   "execution_count": 7,
   "metadata": {},
   "outputs": [
    {
     "name": "stdout",
     "output_type": "stream",
     "text": [
      "cursor position - 0\n",
      "0\n",
      "Lorem ipsum dolor sit amet, consectetur adipisicing elit. Delectus tempore vitae id aliquam \n",
      "dolores necessitatibus corporis maxime, doloremque in non quasi voluptates, autem rem \n",
      "dignissimos quo atque architecto ipsa est provident ipsam soluta neque ex. Ab error veritatis \n",
      "itaque totam in vel temporibus sapiente. Ipsum officia deleniti natus laboriosam fugit.\n",
      "cursor position - 365\n",
      "\n"
     ]
    }
   ],
   "source": [
    "f = open(\"file.txt\" ,'r')  \n",
    "print(f\"cursor position - {f.tell()}\")   \n",
    "# print(f.tell())  - .tell() gives cursor position in file.\n",
    "\n",
    "print(f.read())    \n",
    "\n",
    "print(f\"cursor position - {f.tell()}\")\n",
    "\n",
    "print(f.read())      \n",
    "f.close()   "
   ]
  },
  {
   "cell_type": "code",
   "execution_count": 7,
   "metadata": {},
   "outputs": [
    {
     "name": "stdout",
     "output_type": "stream",
     "text": [
      "cursor position - 0\n",
      "Lorem ipsum dolor sit amet, consectetur\n",
      "adipiscing elit, sed do eiusmod tempor\n",
      "incididunt ut labore et dolore magna \n",
      "aliqua. Ut enim ad minim veniam, quis\n",
      "nostrud exercitation ullamco laboris \n",
      "nisi ut aliquip ex ea commodo \n",
      "consequat. Duis aute irure dolor in\n",
      "reprehenderit in voluptate velit \n",
      "esse cillum dolore eu fugiat nulla\n",
      "pariatur. Excepteur sint occaecat\n",
      "cupidatat non proident, sunt in \n",
      "culpa qui officia deserunt mollit\n",
      "anim id est\n",
      "\n",
      "cursor position - 455\n",
      "\n",
      "before seek method cursor at - 455\n",
      "after seek method cursor at - 0\n",
      "\n",
      "Lorem ipsum dolor sit amet, consectetur\n",
      "adipiscing elit, sed do eiusmod tempor\n",
      "incididunt ut labore et dolore magna \n",
      "aliqua. Ut enim ad minim veniam, quis\n",
      "nostrud exercitation ullamco laboris \n",
      "nisi ut aliquip ex ea commodo \n",
      "consequat. Duis aute irure dolor in\n",
      "reprehenderit in voluptate velit \n",
      "esse cillum dolore eu fugiat nulla\n",
      "pariatur. Excepteur sint occaecat\n",
      "cupidatat non proident, sunt in \n",
      "culpa qui officia deserunt mollit\n",
      "anim id est\n",
      "\n"
     ]
    }
   ],
   "source": [
    "# seek to change the cursor position to mentioned file position.\n",
    "f = open(\"file.txt\" ,'r')  \n",
    "print(f\"cursor position - {f.tell()}\")   \n",
    "\n",
    "print(f.read())    \n",
    "\n",
    "print(f\"cursor position - {f.tell()}\")\n",
    "print()\n",
    "\n",
    "print(f'before seek method cursor at - {f.tell()}')\n",
    "f.seek(0)\n",
    "print(f'after seek method cursor at - {f.tell()}')\n",
    "print()\n",
    "\n",
    "print(f.read())     \n",
    "\n",
    "\n",
    "f.close()"
   ]
  },
  {
   "cell_type": "code",
   "execution_count": 10,
   "metadata": {},
   "outputs": [
    {
     "name": "stdout",
     "output_type": "stream",
     "text": [
      "Lorem ipsum dolor sit amet, consectetur\n",
      "\n",
      "\n",
      "adipiscing elit, sed do eiusmod tempor\n",
      "\n",
      "incididunt ut labore et dolore magna \n",
      "\n",
      "aliqua. Ut enim ad minim veniam, quis\n",
      "\n",
      "\n"
     ]
    }
   ],
   "source": [
    "f=open('file.txt','r')\n",
    "\n",
    "#readline - one line at a time\n",
    "print(f.readline())\n",
    "print()\n",
    "print(f.readline())\n",
    "print(f.readline())\n",
    "print(f.readline())\n",
    "print()\n",
    "\n",
    "f.close()"
   ]
  },
  {
   "cell_type": "code",
   "execution_count": 15,
   "metadata": {},
   "outputs": [
    {
     "name": "stdout",
     "output_type": "stream",
     "text": [
      "['Lorem ipsum dolor sit amet, consectetur\\n', 'adipiscing elit, sed do eiusmod tempor\\n', 'incididunt ut labore et dolore magna \\n', 'aliqua. Ut enim ad minim veniam, quis\\n', 'nostrud exercitation ullamco laboris \\n', 'nisi ut aliquip ex ea commodo \\n', 'consequat. Duis aute irure dolor in\\n', 'reprehenderit in voluptate velit \\n', 'esse cillum dolore eu fugiat nulla\\n', 'pariatur. Excepteur sint occaecat\\n', 'cupidatat non proident, sunt in \\n', 'culpa qui officia deserunt mollit\\n', 'anim id est\\n']\n",
      "number of lines in file 13\n",
      "Lorem ipsum dolor sit amet, consectetur\n",
      "adipiscing elit, sed do eiusmod tempor\n",
      "incididunt ut labore et dolore magna \n",
      "aliqua. Ut enim ad minim veniam, quis\n",
      "nostrud exercitation ullamco laboris \n",
      "nisi ut aliquip ex ea commodo \n",
      "consequat. Duis aute irure dolor in\n",
      "reprehenderit in voluptate velit \n",
      "esse cillum dolore eu fugiat nulla\n",
      "pariatur. Excepteur sint occaecat\n",
      "cupidatat non proident, sunt in \n",
      "culpa qui officia deserunt mollit\n",
      "anim id est\n"
     ]
    }
   ],
   "source": [
    "#readlines - read line by line and append in list \n",
    "\n",
    "f= open(\"file.txt\",'r')\n",
    "lines =f.readlines()\n",
    "print(lines)\n",
    "print(f'number of lines in file {len(lines)}')\n",
    "\n",
    "for line in lines:\n",
    "    print(line,end=\"\")\n",
    "\n",
    "f.close()"
   ]
  },
  {
   "cell_type": "code",
   "execution_count": 17,
   "metadata": {},
   "outputs": [
    {
     "name": "stdout",
     "output_type": "stream",
     "text": [
      "file.txt\n",
      "False\n",
      "True\n"
     ]
    }
   ],
   "source": [
    "# data descripter\n",
    "#name ,closed\n",
    "\n",
    "f= open(\"file.txt\",'r')\n",
    "\n",
    "\n",
    "print(f.name)  # get name of the file\n",
    "print(f.closed)  # checks file closed or not\n",
    "\n",
    "f.close()\n",
    "\n",
    "print(f.closed)"
   ]
  },
  {
   "cell_type": "code",
   "execution_count": 21,
   "metadata": {},
   "outputs": [
    {
     "name": "stdout",
     "output_type": "stream",
     "text": [
      "Lorem ipsum dolor sit amet, consectetur\n",
      "adipiscing elit, sed do eiusmod tempor\n",
      "incididunt ut labore et dolore magna \n",
      "aliqua. Ut enim ad minim veniam, quis\n",
      "nostrud exercitation ullamco laboris \n",
      "nisi ut aliquip ex ea commodo \n",
      "consequat. Duis aute irure dolor in\n",
      "reprehenderit in voluptate velit \n",
      "esse cillum dolore eu fugiat nulla\n",
      "pariatur. Excepteur sint occaecat\n",
      "cupidatat non proident, sunt in \n",
      "culpa qui officia deserunt mollit\n",
      "anim id est\n",
      "\n"
     ]
    }
   ],
   "source": [
    "# file path    use -  / (forward slash)  or use rawstring\n",
    "\n",
    "# error due to \\n , \\t  are escape sequence syntax \n",
    "# and windows use \\ (back slash ) in its file path as well\n",
    "\n",
    "\n",
    "\n",
    "# f= open(\"C:/Users/Aditya Agrawal/Desktop/coding files/Python/pythonYoutube_Harshit/chapter18/file.txt\",'r')\n",
    "\n",
    "\n",
    "# or\n",
    "\n",
    "\n",
    "f=open(r\"C:\\Users\\Aditya Agrawal\\Desktop\\coding files\\Python\\pythonYoutube_Harshit\\chapter18\\file.txt\",'r')\n",
    "\n",
    "print(f.read())\n",
    "\n",
    "\n",
    "f.close()"
   ]
  },
  {
   "cell_type": "code",
   "execution_count": 28,
   "metadata": {},
   "outputs": [
    {
     "name": "stdout",
     "output_type": "stream",
     "text": [
      "Lorem ipsum dolor sit amet, consectetur\n",
      "adipiscing elit, sed do eiusmod tempor\n",
      "incididunt ut labore et dolore magna \n",
      "aliqua. Ut enim ad minim veniam, quis\n",
      "nostrud exercitation ullamco laboris \n",
      "nisi ut aliquip ex ea commodo \n",
      "consequat. Duis aute irure dolor in\n",
      "reprehenderit in voluptate velit \n",
      "esse cillum dolore eu fugiat nulla\n",
      "pariatur. Excepteur sint occaecat\n",
      "cupidatat non proident, sunt in \n",
      "culpa qui officia deserunt mollit\n",
      "anim id est\n",
      "None\n"
     ]
    }
   ],
   "source": [
    "f= open(\"file.txt\",'r')\n",
    "\n",
    "\n",
    "for line in f:\n",
    "    print(line,end=\"\")\n",
    "\n",
    "\n",
    "f.close()"
   ]
  },
  {
   "cell_type": "code",
   "execution_count": 29,
   "metadata": {},
   "outputs": [
    {
     "name": "stdout",
     "output_type": "stream",
     "text": [
      "Lorem ipsum dolor sit amet, consectetur\n",
      "adipiscing elit, sed do eiusmod tempor\n"
     ]
    }
   ],
   "source": [
    "#example - to read only first to lines from file\n",
    "f= open(\"file.txt\",'r')\n",
    "\n",
    "\n",
    "for line in f.readlines()[:2]:\n",
    "    print(line,end=\"\")\n",
    "\n",
    "\n",
    "f.close()"
   ]
  },
  {
   "cell_type": "code",
   "execution_count": null,
   "metadata": {},
   "outputs": [],
   "source": [
    "#2\n",
    "# with blocks"
   ]
  },
  {
   "cell_type": "code",
   "execution_count": null,
   "metadata": {},
   "outputs": [],
   "source": [
    "f= open(\"file.txt\",'r')\n",
    "\n",
    "print(f.read())\n",
    "\n",
    "f.close()"
   ]
  },
  {
   "cell_type": "code",
   "execution_count": 32,
   "metadata": {},
   "outputs": [
    {
     "name": "stdout",
     "output_type": "stream",
     "text": [
      "Lorem ipsum dolor sit amet, consectetur\n",
      "adipiscing elit, sed do eiusmod tempor\n",
      "incididunt ut labore et dolore magna \n",
      "aliqua. Ut enim ad minim veniam, quis\n",
      "nostrud exercitation ullamco laboris \n",
      "nisi ut aliquip ex ea commodo \n",
      "consequat. Duis aute irure dolor in\n",
      "reprehenderit in voluptate velit \n",
      "esse cillum dolore eu fugiat nulla\n",
      "pariatur. Excepteur sint occaecat\n",
      "cupidatat non proident, sunt in \n",
      "culpa qui officia deserunt mollit\n",
      "anim id est\n",
      "\n",
      "True\n"
     ]
    }
   ],
   "source": [
    "# with block \n",
    "# context manager\n",
    "\n",
    "# no need to close file , it also check for file is damaged or not\n",
    "\n",
    "with open('file.txt') as f:\n",
    "    data = f.read()\n",
    "    print(data)\n",
    "\n",
    "\n",
    "print(f.closed)"
   ]
  },
  {
   "cell_type": "code",
   "execution_count": null,
   "metadata": {},
   "outputs": [],
   "source": [
    "#3  tutorial 215\n",
    "\n",
    "\n",
    "# wirte to file\n",
    "\n",
    "# w, a ,r+\n",
    "# w - write\n",
    "# a - append\n",
    "# r - read"
   ]
  },
  {
   "cell_type": "code",
   "execution_count": 33,
   "metadata": {},
   "outputs": [
    {
     "name": "stdout",
     "output_type": "stream",
     "text": [
      "Lorem ipsum dolor sit amet, consectetur\n",
      "adipiscing elit, sed do eiusmod tempor\n",
      "incididunt ut labore et dolore magna \n",
      "aliqua. Ut enim ad minim veniam, quis\n",
      "nostrud exercitation ullamco laboris \n",
      "nisi ut aliquip ex ea commodo \n",
      "consequat. Duis aute irure dolor in\n",
      "reprehenderit in voluptate velit \n",
      "esse cillum dolore eu fugiat nulla\n",
      "pariatur. Excepteur sint occaecat\n",
      "cupidatat non proident, sunt in \n",
      "culpa qui officia deserunt mollit\n",
      "anim id est\n",
      "\n"
     ]
    }
   ],
   "source": [
    "# to read file data \n",
    "with open('file.txt','r' ) as f:\n",
    "    data=f.read()\n",
    "    print(data)\n"
   ]
  },
  {
   "cell_type": "code",
   "execution_count": 37,
   "metadata": {},
   "outputs": [],
   "source": [
    "# w - over write the file data   (old data deleted)\n",
    "\n",
    "with open('file.txt','w' ) as f:\n",
    "    f.write(\"hello\")\n",
    "\n",
    "\n",
    "# ls command -list file names in folder"
   ]
  },
  {
   "cell_type": "code",
   "execution_count": 9,
   "metadata": {},
   "outputs": [],
   "source": [
    "# w - create new file if not prsent \n",
    "# use when file is empty\n",
    "\n",
    "with open('file1.txt','w' ) as f:\n",
    "    f.write(\"hello\")"
   ]
  },
  {
   "cell_type": "code",
   "execution_count": 2,
   "metadata": {},
   "outputs": [],
   "source": [
    "# a - append mode add data at the end of file exisiting data\n",
    "\n",
    "\n",
    "with open('file.txt','a') as f:\n",
    "    f.write(\"\\n please add this new line to file\")"
   ]
  },
  {
   "cell_type": "code",
   "execution_count": 3,
   "metadata": {},
   "outputs": [],
   "source": [
    "# a - create new file if  not present\n",
    "\n",
    "with open('file3.txt','a') as f:\n",
    "    f.write(\"please add this line to file\")"
   ]
  },
  {
   "cell_type": "code",
   "execution_count": null,
   "metadata": {},
   "outputs": [],
   "source": [
    "# use -  rm *.txt in terminal to remove all .txt files in the folder"
   ]
  },
  {
   "cell_type": "code",
   "execution_count": 5,
   "metadata": {},
   "outputs": [
    {
     "ename": "FileNotFoundError",
     "evalue": "[Errno 2] No such file or directory: 'file3.txt'",
     "output_type": "error",
     "traceback": [
      "\u001b[1;31m---------------------------------------------------------------------------\u001b[0m",
      "\u001b[1;31mFileNotFoundError\u001b[0m                         Traceback (most recent call last)",
      "\u001b[1;32mc:\\Users\\Aditya Agrawal\\Desktop\\coding files\\Python\\pythonYoutube_Harshit\\chapter18\\1,2,3,4.ipynb Cell 22\u001b[0m in \u001b[0;36m<cell line: 4>\u001b[1;34m()\u001b[0m\n\u001b[0;32m      <a href='vscode-notebook-cell:/c%3A/Users/Aditya%20Agrawal/Desktop/coding%20files/Python/pythonYoutube_Harshit/chapter18/1%2C2%2C3%2C4.ipynb#X30sZmlsZQ%3D%3D?line=0'>1</a>\u001b[0m \u001b[39m# r+ mode - write,read and when no such file (as it will not create one)\u001b[39;00m\n\u001b[1;32m----> <a href='vscode-notebook-cell:/c%3A/Users/Aditya%20Agrawal/Desktop/coding%20files/Python/pythonYoutube_Harshit/chapter18/1%2C2%2C3%2C4.ipynb#X30sZmlsZQ%3D%3D?line=3'>4</a>\u001b[0m \u001b[39mwith\u001b[39;00m \u001b[39mopen\u001b[39;49m(\u001b[39m'\u001b[39;49m\u001b[39mfile3.txt\u001b[39;49m\u001b[39m'\u001b[39;49m,\u001b[39m'\u001b[39;49m\u001b[39mr+\u001b[39;49m\u001b[39m'\u001b[39;49m) \u001b[39mas\u001b[39;00m f:\n\u001b[0;32m      <a href='vscode-notebook-cell:/c%3A/Users/Aditya%20Agrawal/Desktop/coding%20files/Python/pythonYoutube_Harshit/chapter18/1%2C2%2C3%2C4.ipynb#X30sZmlsZQ%3D%3D?line=4'>5</a>\u001b[0m     f\u001b[39m.\u001b[39mwrite(\u001b[39m\"\u001b[39m\u001b[39mplease add this line to file\u001b[39m\u001b[39m\"\u001b[39m)\n",
      "\u001b[1;31mFileNotFoundError\u001b[0m: [Errno 2] No such file or directory: 'file3.txt'"
     ]
    }
   ],
   "source": [
    "# r+ mode - write,read and when no such file error(as it will not create one)\n",
    "# it will overwrite for as much character you provide in string(to write in file)\n",
    "\n",
    "\n",
    "with open('file3.txt','r+') as f:\n",
    "    f.write(\"please add this line to file\")\n",
    "\n",
    "\n",
    "# terminal command to create new file\n",
    "# echo -e \"hello there\\n subscribe to my channel\" >> file.txt"
   ]
  },
  {
   "cell_type": "code",
   "execution_count": 12,
   "metadata": {},
   "outputs": [],
   "source": [
    "with open('file4.txt','r+') as f:\n",
    "    f.write('''Lorem ipsum dolor sit amet, consectetur adipiscing elit. Sed egestas, ante et vulputate volutpat, eros nibh faucibus leo, vitae semper nisl ligula nec sem. Nullam\n",
    "viverra justo vitae neque scelerisque, in congue erat eleifend. Nullam ac felis leo. \n",
    "Quisque euismod mauris eu elit ullamcorper, vitae facilisis enim volutpat. Nam viverra\n",
    "imperdiet quam quis faucibus. Nullam ac urna eu felis dapibus condimentum. Nullam ac \n",
    "sapien quam. Nullam sit amet felis semper, porttitor turpis id, aliquet quam. Curabitur \n",
    "non nulla sit amet nisl tempus convallis. Curabitur a felis in nunc fringilla tristique. \n",
    "Curabitur sit amet nibh libero, in gravida tellus.\n",
    "\n",
    "Nullam sit amet felis semper, porttitor turpis id, aliquet quam. Curabitur non nulla sit amet nisl tempus convallis. Curabitur a felis in nunc fringilla tristique. Curabitur sit amet nibh libero, in gravida tellus.\n",
    "\n",
    "Nullam sit amet felis semper, porttitor turpis id, aliquet quam. Curabitur non nulla sit amet nisl tempus convallis. Curabitur a felis in nunc fringilla tristique. Curabitur sit amet nibh libero, in gravida tellus.\n",
    "\n",
    "Nullam sit amet felis semper, porttitor turpis id, aliquet quam. Curabitur non nulla sit amet nisl tempus convallis. Curabitur a felis in nunc fringilla tristique. Curabitur sit amet nibh libero, in gravida tellus.''')"
   ]
  },
  {
   "cell_type": "code",
   "execution_count": 11,
   "metadata": {},
   "outputs": [],
   "source": [
    "\n",
    "\n",
    "with open('file4.txt','r+') as f:\n",
    "    f.write(\"please add this line to file\")  \n",
    "    #it will overwrite this much of characters only from starting\n",
    "    \n",
    "\n"
   ]
  },
  {
   "cell_type": "code",
   "execution_count": 14,
   "metadata": {},
   "outputs": [],
   "source": [
    "# to append after end character using 'r+' mode\n",
    "with open('file4.txt','r+') as f:\n",
    "    f.seek(len(f.read())) \n",
    "    f.write(' apeending this at the end of file')"
   ]
  },
  {
   "cell_type": "code",
   "execution_count": 1,
   "metadata": {},
   "outputs": [],
   "source": [
    "#4 \n",
    "# tutorial 216\n",
    "\n",
    "# read and write\n",
    "\n",
    "# read from one file and write to another file\n",
    "\n",
    "data=\"\"\n",
    "\n",
    "with open('file.txt','r') as f:\n",
    "    global data\n",
    "    data=f.read()\n",
    "\n",
    "with open('file_new.txt','w') as f:\n",
    "    f.write(data)"
   ]
  },
  {
   "cell_type": "code",
   "execution_count": 2,
   "metadata": {},
   "outputs": [],
   "source": [
    "with open('file.txt','r') as rf:\n",
    "    with open('file_new.txt','w') as wf:\n",
    "        wf.write(rf.read())\n",
    "\n",
    "# ----end----"
   ]
  }
 ],
 "metadata": {
  "kernelspec": {
   "display_name": "Python 3",
   "language": "python",
   "name": "python3"
  },
  "language_info": {
   "codemirror_mode": {
    "name": "ipython",
    "version": 3
   },
   "file_extension": ".py",
   "mimetype": "text/x-python",
   "name": "python",
   "nbconvert_exporter": "python",
   "pygments_lexer": "ipython3",
   "version": "3.10.0"
  },
  "orig_nbformat": 4
 },
 "nbformat": 4,
 "nbformat_minor": 2
}
