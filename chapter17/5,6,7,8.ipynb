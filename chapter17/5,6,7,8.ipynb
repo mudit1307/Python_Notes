{
 "cells": [
  {
   "cell_type": "code",
   "execution_count": null,
   "metadata": {},
   "outputs": [],
   "source": [
    "#5  tutorial 207 \n",
    "# Handle Exceptions\n"
   ]
  },
  {
   "cell_type": "code",
   "execution_count": 3,
   "metadata": {},
   "outputs": [
    {
     "name": "stdout",
     "output_type": "stream",
     "text": [
      "you can't play this game.\n"
     ]
    }
   ],
   "source": [
    "# exception handling   - errors that occur at the time of execution of program (run time error)\n",
    "# try except else finally\n",
    "\n",
    "age  = int (input('enter your age : '))  #seven \n",
    "if age <18:\n",
    "    print(\"you can't play this game.\")\n",
    "else:\n",
    "    print(\"you can play this game.\")"
   ]
  },
  {
   "cell_type": "code",
   "execution_count": 8,
   "metadata": {},
   "outputs": [
    {
     "name": "stdout",
     "output_type": "stream",
     "text": [
      "you can't play this game.\n"
     ]
    }
   ],
   "source": [
    "while True:\n",
    "    try:\n",
    "        age  = int (input('enter your age : '))  #seven   #7\n",
    "        break\n",
    "    except ValueError:         #ensure good performance\n",
    "        # print('invalid input...')\n",
    "        print(\"maybe you entered string instead of number , try again\") \n",
    "    except:\n",
    "        print('unexpected error...')\n",
    "\n",
    "\n",
    "if age<18:\n",
    "    print(\"you can't play this game.\")\n",
    "else:\n",
    "    print(\"you can play this game.\")"
   ]
  },
  {
   "cell_type": "code",
   "execution_count": null,
   "metadata": {},
   "outputs": [],
   "source": []
  },
  {
   "cell_type": "code",
   "execution_count": null,
   "metadata": {},
   "outputs": [],
   "source": []
  },
  {
   "cell_type": "code",
   "execution_count": null,
   "metadata": {},
   "outputs": [],
   "source": [
    "#6 \n",
    "# else and finally clause in exception handling \n"
   ]
  },
  {
   "cell_type": "code",
   "execution_count": 3,
   "metadata": {},
   "outputs": [
    {
     "name": "stdout",
     "output_type": "stream",
     "text": [
      "you didn't entered integer\n"
     ]
    }
   ],
   "source": [
    "\n",
    "try: \n",
    "    number = int(input(\"enter a number : \"))\n",
    "except ValueError: \n",
    "    print(\"you didn\\'t entered integer\")\n",
    "except: \n",
    "    print(\"unexpected error !!\")\n",
    "\n",
    "\n",
    "#10 ten\n",
    "\n",
    "\n"
   ]
  },
  {
   "cell_type": "code",
   "execution_count": 9,
   "metadata": {},
   "outputs": [
    {
     "name": "stdout",
     "output_type": "stream",
     "text": [
      "user input is: 23\n"
     ]
    }
   ],
   "source": [
    "while True:\n",
    "    try: \n",
    "        number = int(input(\"enter a number : \"))\n",
    "        print(f\"user input is: {number}\")\n",
    "        break\n",
    "    except ValueError: \n",
    "        print(\"you didn\\'t entered integer\")\n",
    "    except: \n",
    "        print(\"unexpected error !!\")\n",
    "\n"
   ]
  },
  {
   "cell_type": "code",
   "execution_count": 4,
   "metadata": {},
   "outputs": [
    {
     "name": "stdout",
     "output_type": "stream",
     "text": [
      "user input is: 12\n"
     ]
    }
   ],
   "source": [
    "# else block run if try block gives no exception (run successfully).\n",
    "while True:\n",
    "    try: \n",
    "        number = int(input(\"enter a number : \"))\n",
    "    except ValueError: \n",
    "        print(\"you didn\\'t entered integer\")\n",
    "    except: \n",
    "        print(\"unexpected error !!\")\n",
    "    else:\n",
    "        print(f\"user input is: {number}\")\n",
    "        break\n"
   ]
  },
  {
   "cell_type": "code",
   "execution_count": 1,
   "metadata": {},
   "outputs": [],
   "source": [
    "while True:\n",
    "    try: \n",
    "        number = int(input(\"enter a number : \"))\n",
    "    except ValueError: \n",
    "        print(\"you didn\\'t entered integer\")\n",
    "    except: \n",
    "        print(\"unexpected error !!\")\n",
    "    else:\n",
    "        print(f\"user input is: {number}\")    \n",
    "        #run when their is no exception occur in try block code \n",
    "        break\n",
    "    finally:\n",
    "        print(f\"finally block .....\")     \n",
    "        #it will run always no matter exception(error) is there or not\n",
    "    "
   ]
  },
  {
   "cell_type": "code",
   "execution_count": null,
   "metadata": {},
   "outputs": [],
   "source": []
  },
  {
   "cell_type": "code",
   "execution_count": null,
   "metadata": {},
   "outputs": [],
   "source": [
    "#7\n",
    "# excercise"
   ]
  },
  {
   "cell_type": "code",
   "execution_count": 3,
   "metadata": {},
   "outputs": [
    {
     "name": "stdout",
     "output_type": "stream",
     "text": [
      "Division of 4 divide by 2 is: 2.0\n",
      "division sucessful\n",
      "None\n",
      "please don't divide by zero!!\n",
      "plase input numbers only\n"
     ]
    }
   ],
   "source": [
    "\n",
    "# make afunction 'divide'\n",
    "# divide\n",
    "\n",
    "\n",
    "def divide(a,b):\n",
    "    try: \n",
    "        return(f\"Division of {a} divide by {b} is: {a/b}\")\n",
    "    except ZeroDivisionError: \n",
    "        return(\"please don't divide by zero!!\")\n",
    "    except:                                   #for string as input\n",
    "        return(\"plase input numbers only\")\n",
    "    else:\n",
    "        print(\"Division Sucessful\")\n",
    "\n",
    "\n",
    "\n",
    "\n",
    "\n",
    "\n",
    "print(divide(4,2))   #2 \n",
    "print(divide(4,0))   #please don't  divide by zero, Zero\n",
    "print(divide(\"4\",2))   #please input numbers only\n",
    "\n"
   ]
  },
  {
   "cell_type": "code",
   "execution_count": 14,
   "metadata": {},
   "outputs": [
    {
     "name": "stdout",
     "output_type": "stream",
     "text": [
      "division by zero\n"
     ]
    }
   ],
   "source": [
    "def divide(a,b):\n",
    "    try: \n",
    "        return (f\"Division of {a} divide by {b} is: {a/b}\")\n",
    "    except ZeroDivisionError as err: \n",
    "        # return(\"please don't divide by zero\")\n",
    "        return(err)             #err will give defalut error statement\n",
    "    except:           \n",
    "        return(\"plase input numbers only\")\n",
    "    else:\n",
    "        print(\"division sucessful\")\n",
    "\n",
    "\n",
    "print(divide(4,0)) \n"
   ]
  },
  {
   "cell_type": "code",
   "execution_count": 15,
   "metadata": {},
   "outputs": [
    {
     "name": "stdout",
     "output_type": "stream",
     "text": [
      "plase input numbers only\n"
     ]
    }
   ],
   "source": [
    "def divide(a,b):\n",
    "    try: \n",
    "        return (f\"Division of {a} divide by {b} is: {a/b}\")\n",
    "    except ZeroDivisionError as err: \n",
    "        # return(\"please don't divide by zero\")\n",
    "        return(err)              #to print defalut error statements\n",
    "    except TypeError as err:                        #for string as input in division function\n",
    "        # return(\"plase input numbers only\")\n",
    "        return(err)                          #for defalut error statements\n",
    "    except: \n",
    "        return \"unexpected error\"\n",
    "    else:\n",
    "        return(\"division sucessful\")\n",
    "\n",
    "\n",
    "print(divide(4,\"2\")) "
   ]
  },
  {
   "cell_type": "code",
   "execution_count": null,
   "metadata": {},
   "outputs": [],
   "source": []
  },
  {
   "cell_type": "code",
   "execution_count": null,
   "metadata": {},
   "outputs": [],
   "source": [
    "# 8 \n",
    "# custom exception "
   ]
  },
  {
   "cell_type": "code",
   "execution_count": null,
   "metadata": {},
   "outputs": [],
   "source": [
    "# python custom exception \n",
    "# Q - why custom exceptions ? \n",
    "# A - To increase the readability of code.\n",
    "\n",
    "\n",
    "\n",
    "\n",
    "def validate(name):\n",
    "    if len(name) < 8:\n",
    "        raise ValueError('name is too short')    #not too good\n",
    "\n",
    "username=input('enter your name: ')\n",
    "validate(username)\n",
    "print(f'hello {username}')"
   ]
  },
  {
   "cell_type": "code",
   "execution_count": 1,
   "metadata": {},
   "outputs": [
    {
     "ename": "NameTooShortError",
     "evalue": "name is too short",
     "output_type": "error",
     "traceback": [
      "\u001b[1;31m---------------------------------------------------------------------------\u001b[0m",
      "\u001b[1;31mNameTooShortError\u001b[0m                         Traceback (most recent call last)",
      "\u001b[1;32mc:\\Users\\Aditya Agrawal\\Desktop\\coding files\\Python\\pythonYoutube_Harshit\\chapter17\\5,6,7,8.ipynb Cell 14\u001b[0m in \u001b[0;36m<cell line: 11>\u001b[1;34m()\u001b[0m\n\u001b[0;32m      <a href='vscode-notebook-cell:/c%3A/Users/Aditya%20Agrawal/Desktop/coding%20files/Python/pythonYoutube_Harshit/chapter17/5%2C6%2C7%2C8.ipynb#X16sZmlsZQ%3D%3D?line=7'>8</a>\u001b[0m         \u001b[39mraise\u001b[39;00m NameTooShortError(\u001b[39m'\u001b[39m\u001b[39mname is too short\u001b[39m\u001b[39m'\u001b[39m)    \n\u001b[0;32m     <a href='vscode-notebook-cell:/c%3A/Users/Aditya%20Agrawal/Desktop/coding%20files/Python/pythonYoutube_Harshit/chapter17/5%2C6%2C7%2C8.ipynb#X16sZmlsZQ%3D%3D?line=9'>10</a>\u001b[0m username\u001b[39m=\u001b[39m\u001b[39minput\u001b[39m(\u001b[39m'\u001b[39m\u001b[39menter your name: \u001b[39m\u001b[39m'\u001b[39m)\n\u001b[1;32m---> <a href='vscode-notebook-cell:/c%3A/Users/Aditya%20Agrawal/Desktop/coding%20files/Python/pythonYoutube_Harshit/chapter17/5%2C6%2C7%2C8.ipynb#X16sZmlsZQ%3D%3D?line=10'>11</a>\u001b[0m validate(username)\n\u001b[0;32m     <a href='vscode-notebook-cell:/c%3A/Users/Aditya%20Agrawal/Desktop/coding%20files/Python/pythonYoutube_Harshit/chapter17/5%2C6%2C7%2C8.ipynb#X16sZmlsZQ%3D%3D?line=11'>12</a>\u001b[0m \u001b[39mprint\u001b[39m(\u001b[39mf\u001b[39m\u001b[39m'\u001b[39m\u001b[39mhello \u001b[39m\u001b[39m{\u001b[39;00musername\u001b[39m}\u001b[39;00m\u001b[39m'\u001b[39m)\n",
      "\u001b[1;32mc:\\Users\\Aditya Agrawal\\Desktop\\coding files\\Python\\pythonYoutube_Harshit\\chapter17\\5,6,7,8.ipynb Cell 14\u001b[0m in \u001b[0;36mvalidate\u001b[1;34m(name)\u001b[0m\n\u001b[0;32m      <a href='vscode-notebook-cell:/c%3A/Users/Aditya%20Agrawal/Desktop/coding%20files/Python/pythonYoutube_Harshit/chapter17/5%2C6%2C7%2C8.ipynb#X16sZmlsZQ%3D%3D?line=5'>6</a>\u001b[0m \u001b[39mdef\u001b[39;00m \u001b[39mvalidate\u001b[39m(name):\n\u001b[0;32m      <a href='vscode-notebook-cell:/c%3A/Users/Aditya%20Agrawal/Desktop/coding%20files/Python/pythonYoutube_Harshit/chapter17/5%2C6%2C7%2C8.ipynb#X16sZmlsZQ%3D%3D?line=6'>7</a>\u001b[0m     \u001b[39mif\u001b[39;00m \u001b[39mlen\u001b[39m(name) \u001b[39m<\u001b[39m \u001b[39m8\u001b[39m:\n\u001b[1;32m----> <a href='vscode-notebook-cell:/c%3A/Users/Aditya%20Agrawal/Desktop/coding%20files/Python/pythonYoutube_Harshit/chapter17/5%2C6%2C7%2C8.ipynb#X16sZmlsZQ%3D%3D?line=7'>8</a>\u001b[0m         \u001b[39mraise\u001b[39;00m NameTooShortError(\u001b[39m'\u001b[39m\u001b[39mname is too short\u001b[39m\u001b[39m'\u001b[39m)\n",
      "\u001b[1;31mNameTooShortError\u001b[0m: name is too short"
     ]
    }
   ],
   "source": [
    "#example - use custom exception this way\n",
    "class NameTooShortError(ValueError):\n",
    "    pass\n",
    "\n",
    "\n",
    "def validate(name):\n",
    "    if len(name) < 8:\n",
    "        raise NameTooShortError('name is too short')    \n",
    "\n",
    "username=input('enter your name: ')\n",
    "validate(username)\n",
    "print(f'hello {username}')"
   ]
  },
  {
   "cell_type": "code",
   "execution_count": null,
   "metadata": {},
   "outputs": [],
   "source": []
  },
  {
   "cell_type": "code",
   "execution_count": null,
   "metadata": {},
   "outputs": [],
   "source": []
  }
 ],
 "metadata": {
  "kernelspec": {
   "display_name": "Python 3",
   "language": "python",
   "name": "python3"
  },
  "language_info": {
   "codemirror_mode": {
    "name": "ipython",
    "version": 3
   },
   "file_extension": ".py",
   "mimetype": "text/x-python",
   "name": "python",
   "nbconvert_exporter": "python",
   "pygments_lexer": "ipython3",
   "version": "3.11.4"
  },
  "orig_nbformat": 4
 },
 "nbformat": 4,
 "nbformat_minor": 2
}
