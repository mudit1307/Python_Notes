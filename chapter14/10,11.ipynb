{
 "cells": [
  {
   "cell_type": "code",
   "execution_count": 1,
   "metadata": {},
   "outputs": [],
   "source": [
    "#10\n",
    "# decorators practice 2\n"
   ]
  },
  {
   "cell_type": "code",
   "execution_count": 2,
   "metadata": {},
   "outputs": [
    {
     "name": "stdout",
     "output_type": "stream",
     "text": [
      "15\n"
     ]
    }
   ],
   "source": [
    "\n",
    "def add_all(*args):\n",
    "    total = 0\n",
    "    for i in args:\n",
    "        total += i\n",
    "    return total\n",
    "\n",
    "print(add_all(1,2,3,4,5))\n",
    "\n",
    "# print(add_all(1,2,3,4,5,[1,2,3]))    it wil show error unsuported operant\n",
    "\n",
    "# make @only_int_allow to solve the above problem \n",
    "\n"
   ]
  },
  {
   "cell_type": "code",
   "execution_count": 7,
   "metadata": {},
   "outputs": [
    {
     "name": "stdout",
     "output_type": "stream",
     "text": [
      "15\n",
      "Invalid Arguments\n"
     ]
    }
   ],
   "source": [
    "from functools import wraps\n",
    "\n",
    "def only_int_allow(any_function):\n",
    "    @wraps(any_function)\n",
    "    def wrapper_function(*args,**kwargs):\n",
    "        data_type=[]\n",
    "        for arg in args:\n",
    "            data_type.append(type(arg) == int)\n",
    "        if all(data_type):\n",
    "            return any_function(*args,**kwargs)\n",
    "        else:\n",
    "            return (\"Invalid Arguments\")\n",
    "    return wrapper_function\n",
    "\n",
    "@only_int_allow\n",
    "def add_all(*args):\n",
    "    total = 0\n",
    "    for i in args:\n",
    "        total += i\n",
    "    return total\n",
    "\n",
    "print(add_all(1,2,3,4,5))\n",
    "\n",
    "print(add_all(1,2,3,4,5,[1,2,3]))"
   ]
  },
  {
   "cell_type": "code",
   "execution_count": 1,
   "metadata": {},
   "outputs": [
    {
     "name": "stdout",
     "output_type": "stream",
     "text": [
      "15\n",
      "invalid arguments\n"
     ]
    }
   ],
   "source": [
    "#short code \n",
    "from functools import wraps\n",
    "\n",
    "def only_int_allow(any_function):\n",
    "    @wraps(any_function)\n",
    "    def wrapper_function(*args,**kwargs):\n",
    "        if all([type(i) == int for i in args]):\n",
    "            return any_function(*args,**kwargs)\n",
    "        else:\n",
    "            return \"invalid arguments\"\n",
    "    return wrapper_function\n",
    "\n",
    "@only_int_allow\n",
    "def add_all(*args):\n",
    "    total = 0\n",
    "    for i in args:\n",
    "        total += i\n",
    "    return total\n",
    "\n",
    "print(add_all(1,2,3,4,5))\n",
    "\n",
    "print(add_all(1,2,3,4,5,[1,2,3],\"abc\"))"
   ]
  },
  {
   "cell_type": "code",
   "execution_count": null,
   "metadata": {},
   "outputs": [],
   "source": [
    "#11 176\n",
    "# decorators with arguments\n",
    "\n",
    "# to reuse the code of decorators for different arguments\n"
   ]
  },
  {
   "cell_type": "code",
   "execution_count": 8,
   "metadata": {},
   "outputs": [
    {
     "name": "stdout",
     "output_type": "stream",
     "text": [
      "harshityashmudit\n",
      "Invalid Arguments\n"
     ]
    }
   ],
   "source": [
    "from functools import wraps \n",
    "def only_data_type_allow(data_type):\n",
    "    def decorator(any_function):\n",
    "        @wraps(any_function)\n",
    "        def wrapper_function(*args,**kwargs):\n",
    "            if all([type(i) == data_type for i in args]):\n",
    "                return any_function(*args,**kwargs)\n",
    "            return (\"Invalid Arguments\")\n",
    "        return wrapper_function\n",
    "    return decorator\n",
    "\n",
    "@only_data_type_allow(str)\n",
    "def string_join(*args):\n",
    "    s=''\n",
    "    for i in args:\n",
    "        s+= i\n",
    "    return s\n",
    "\n",
    "print(string_join(\"harshit\",\"yash\",\"mudit\"))\n",
    "\n",
    "print(string_join(\"harshit\",'yash','mudit',30))\n"
   ]
  },
  {
   "cell_type": "code",
   "execution_count": null,
   "metadata": {},
   "outputs": [],
   "source": []
  },
  {
   "cell_type": "code",
   "execution_count": null,
   "metadata": {},
   "outputs": [],
   "source": []
  }
 ],
 "metadata": {
  "kernelspec": {
   "display_name": "Python 3",
   "language": "python",
   "name": "python3"
  },
  "language_info": {
   "codemirror_mode": {
    "name": "ipython",
    "version": 3
   },
   "file_extension": ".py",
   "mimetype": "text/x-python",
   "name": "python",
   "nbconvert_exporter": "python",
   "pygments_lexer": "ipython3",
   "version": "3.10.5"
  },
  "orig_nbformat": 4
 },
 "nbformat": 4,
 "nbformat_minor": 2
}
